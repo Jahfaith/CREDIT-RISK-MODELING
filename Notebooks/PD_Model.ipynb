{
 "cells": [
  {
   "cell_type": "markdown",
   "id": "525dbc48",
   "metadata": {},
   "source": [
    "## Importing libraries and Merging datas."
   ]
  },
  {
   "cell_type": "code",
   "execution_count": 1,
   "id": "dd626adb",
   "metadata": {},
   "outputs": [],
   "source": [
    "# Importing relevant libraries.\n",
    "\n",
    "import pandas as pd\n",
    "import numpy as np\n",
    "import matplotlib.pyplot as plt\n",
    "import seaborn as sns\n",
    "\n",
    "# Ensuring that the entire columns of the dataframes are displayed.\n",
    "pd.set_option('display.max_columns', None)"
   ]
  },
  {
   "cell_type": "code",
   "execution_count": 2,
   "id": "22285906",
   "metadata": {},
   "outputs": [],
   "source": [
    "# Reading the datasets.\n",
    "\n",
    "demographics = pd.read_csv(\"traindemographics.csv\")\n",
    "previous = pd.read_csv(\"trainprevloans.csv\")\n",
    "performance = pd.read_csv(\"trainperf.csv\")"
   ]
  },
  {
   "cell_type": "code",
   "execution_count": 3,
   "id": "a2f1978e",
   "metadata": {},
   "outputs": [
    {
     "data": {
      "text/html": [
       "<div>\n",
       "<style scoped>\n",
       "    .dataframe tbody tr th:only-of-type {\n",
       "        vertical-align: middle;\n",
       "    }\n",
       "\n",
       "    .dataframe tbody tr th {\n",
       "        vertical-align: top;\n",
       "    }\n",
       "\n",
       "    .dataframe thead th {\n",
       "        text-align: right;\n",
       "    }\n",
       "</style>\n",
       "<table border=\"1\" class=\"dataframe\">\n",
       "  <thead>\n",
       "    <tr style=\"text-align: right;\">\n",
       "      <th></th>\n",
       "      <th>customerid</th>\n",
       "      <th>birthdate</th>\n",
       "      <th>bank_account_type</th>\n",
       "      <th>longitude_gps</th>\n",
       "      <th>latitude_gps</th>\n",
       "      <th>bank_name_clients</th>\n",
       "      <th>bank_branch_clients</th>\n",
       "      <th>employment_status_clients</th>\n",
       "      <th>level_of_education_clients</th>\n",
       "    </tr>\n",
       "  </thead>\n",
       "  <tbody>\n",
       "    <tr>\n",
       "      <th>0</th>\n",
       "      <td>8a858e135cb22031015cbafc76964ebd</td>\n",
       "      <td>1973-10-10 00:00:00.000000</td>\n",
       "      <td>Savings</td>\n",
       "      <td>3.319219</td>\n",
       "      <td>6.528604</td>\n",
       "      <td>GT Bank</td>\n",
       "      <td>NaN</td>\n",
       "      <td>NaN</td>\n",
       "      <td>NaN</td>\n",
       "    </tr>\n",
       "    <tr>\n",
       "      <th>1</th>\n",
       "      <td>8a858e275c7ea5ec015c82482d7c3996</td>\n",
       "      <td>1986-01-21 00:00:00.000000</td>\n",
       "      <td>Savings</td>\n",
       "      <td>3.325598</td>\n",
       "      <td>7.119403</td>\n",
       "      <td>Sterling Bank</td>\n",
       "      <td>NaN</td>\n",
       "      <td>Permanent</td>\n",
       "      <td>NaN</td>\n",
       "    </tr>\n",
       "    <tr>\n",
       "      <th>2</th>\n",
       "      <td>8a858e5b5bd99460015bdc95cd485634</td>\n",
       "      <td>1987-04-01 00:00:00.000000</td>\n",
       "      <td>Savings</td>\n",
       "      <td>5.746100</td>\n",
       "      <td>5.563174</td>\n",
       "      <td>Fidelity Bank</td>\n",
       "      <td>NaN</td>\n",
       "      <td>NaN</td>\n",
       "      <td>NaN</td>\n",
       "    </tr>\n",
       "  </tbody>\n",
       "</table>\n",
       "</div>"
      ],
      "text/plain": [
       "                         customerid                   birthdate  \\\n",
       "0  8a858e135cb22031015cbafc76964ebd  1973-10-10 00:00:00.000000   \n",
       "1  8a858e275c7ea5ec015c82482d7c3996  1986-01-21 00:00:00.000000   \n",
       "2  8a858e5b5bd99460015bdc95cd485634  1987-04-01 00:00:00.000000   \n",
       "\n",
       "  bank_account_type  longitude_gps  latitude_gps bank_name_clients  \\\n",
       "0           Savings       3.319219      6.528604           GT Bank   \n",
       "1           Savings       3.325598      7.119403     Sterling Bank   \n",
       "2           Savings       5.746100      5.563174     Fidelity Bank   \n",
       "\n",
       "  bank_branch_clients employment_status_clients level_of_education_clients  \n",
       "0                 NaN                       NaN                        NaN  \n",
       "1                 NaN                 Permanent                        NaN  \n",
       "2                 NaN                       NaN                        NaN  "
      ]
     },
     "execution_count": 3,
     "metadata": {},
     "output_type": "execute_result"
    }
   ],
   "source": [
    "demographics.head(3)"
   ]
  },
  {
   "cell_type": "code",
   "execution_count": 4,
   "id": "6096f048",
   "metadata": {},
   "outputs": [
    {
     "data": {
      "text/plain": [
       "(4346, 9)"
      ]
     },
     "execution_count": 4,
     "metadata": {},
     "output_type": "execute_result"
    }
   ],
   "source": [
    "demographics.shape"
   ]
  },
  {
   "cell_type": "code",
   "execution_count": 5,
   "id": "ce2f3454",
   "metadata": {},
   "outputs": [
    {
     "data": {
      "text/html": [
       "<div>\n",
       "<style scoped>\n",
       "    .dataframe tbody tr th:only-of-type {\n",
       "        vertical-align: middle;\n",
       "    }\n",
       "\n",
       "    .dataframe tbody tr th {\n",
       "        vertical-align: top;\n",
       "    }\n",
       "\n",
       "    .dataframe thead th {\n",
       "        text-align: right;\n",
       "    }\n",
       "</style>\n",
       "<table border=\"1\" class=\"dataframe\">\n",
       "  <thead>\n",
       "    <tr style=\"text-align: right;\">\n",
       "      <th></th>\n",
       "      <th>customerid</th>\n",
       "      <th>birthdate</th>\n",
       "      <th>bank_account_type</th>\n",
       "      <th>longitude_gps</th>\n",
       "      <th>latitude_gps</th>\n",
       "      <th>bank_name_clients</th>\n",
       "      <th>bank_branch_clients</th>\n",
       "      <th>employment_status_clients</th>\n",
       "      <th>level_of_education_clients</th>\n",
       "    </tr>\n",
       "  </thead>\n",
       "  <tbody>\n",
       "    <tr>\n",
       "      <th>1028</th>\n",
       "      <td>8a2a81a74ce8c05d014cfb32a0da1049</td>\n",
       "      <td>1972-01-15 00:00:00.000000</td>\n",
       "      <td>Other</td>\n",
       "      <td>3.43201</td>\n",
       "      <td>6.433055</td>\n",
       "      <td>Diamond Bank</td>\n",
       "      <td>NaN</td>\n",
       "      <td>Permanent</td>\n",
       "      <td>Post-Graduate</td>\n",
       "    </tr>\n",
       "  </tbody>\n",
       "</table>\n",
       "</div>"
      ],
      "text/plain": [
       "                            customerid                   birthdate  \\\n",
       "1028  8a2a81a74ce8c05d014cfb32a0da1049  1972-01-15 00:00:00.000000   \n",
       "\n",
       "     bank_account_type  longitude_gps  latitude_gps bank_name_clients  \\\n",
       "1028             Other        3.43201      6.433055      Diamond Bank   \n",
       "\n",
       "     bank_branch_clients employment_status_clients level_of_education_clients  \n",
       "1028                 NaN                 Permanent              Post-Graduate  "
      ]
     },
     "execution_count": 5,
     "metadata": {},
     "output_type": "execute_result"
    }
   ],
   "source": [
    "demographics[demographics['customerid'] == '8a2a81a74ce8c05d014cfb32a0da1049']"
   ]
  },
  {
   "cell_type": "code",
   "execution_count": null,
   "id": "2803f1e1",
   "metadata": {},
   "outputs": [],
   "source": []
  },
  {
   "cell_type": "code",
   "execution_count": 6,
   "id": "fbd11958",
   "metadata": {},
   "outputs": [
    {
     "data": {
      "text/html": [
       "<div>\n",
       "<style scoped>\n",
       "    .dataframe tbody tr th:only-of-type {\n",
       "        vertical-align: middle;\n",
       "    }\n",
       "\n",
       "    .dataframe tbody tr th {\n",
       "        vertical-align: top;\n",
       "    }\n",
       "\n",
       "    .dataframe thead th {\n",
       "        text-align: right;\n",
       "    }\n",
       "</style>\n",
       "<table border=\"1\" class=\"dataframe\">\n",
       "  <thead>\n",
       "    <tr style=\"text-align: right;\">\n",
       "      <th></th>\n",
       "      <th>customerid</th>\n",
       "      <th>systemloanid</th>\n",
       "      <th>loannumber</th>\n",
       "      <th>approveddate</th>\n",
       "      <th>creationdate</th>\n",
       "      <th>loanamount</th>\n",
       "      <th>totaldue</th>\n",
       "      <th>termdays</th>\n",
       "      <th>closeddate</th>\n",
       "      <th>referredby</th>\n",
       "      <th>firstduedate</th>\n",
       "      <th>firstrepaiddate</th>\n",
       "    </tr>\n",
       "  </thead>\n",
       "  <tbody>\n",
       "    <tr>\n",
       "      <th>0</th>\n",
       "      <td>8a2a81a74ce8c05d014cfb32a0da1049</td>\n",
       "      <td>301682320</td>\n",
       "      <td>2</td>\n",
       "      <td>2016-08-15 18:22:40.000000</td>\n",
       "      <td>2016-08-15 17:22:32.000000</td>\n",
       "      <td>10000.0</td>\n",
       "      <td>13000.0</td>\n",
       "      <td>30</td>\n",
       "      <td>2016-09-01 16:06:48.000000</td>\n",
       "      <td>NaN</td>\n",
       "      <td>2016-09-14 00:00:00.000000</td>\n",
       "      <td>2016-09-01 15:51:43.000000</td>\n",
       "    </tr>\n",
       "    <tr>\n",
       "      <th>1</th>\n",
       "      <td>8a2a81a74ce8c05d014cfb32a0da1049</td>\n",
       "      <td>301883808</td>\n",
       "      <td>9</td>\n",
       "      <td>2017-04-28 18:39:07.000000</td>\n",
       "      <td>2017-04-28 17:38:53.000000</td>\n",
       "      <td>10000.0</td>\n",
       "      <td>13000.0</td>\n",
       "      <td>30</td>\n",
       "      <td>2017-05-28 14:44:49.000000</td>\n",
       "      <td>NaN</td>\n",
       "      <td>2017-05-30 00:00:00.000000</td>\n",
       "      <td>2017-05-26 00:00:00.000000</td>\n",
       "    </tr>\n",
       "    <tr>\n",
       "      <th>2</th>\n",
       "      <td>8a2a81a74ce8c05d014cfb32a0da1049</td>\n",
       "      <td>301831714</td>\n",
       "      <td>8</td>\n",
       "      <td>2017-03-05 10:56:25.000000</td>\n",
       "      <td>2017-03-05 09:56:19.000000</td>\n",
       "      <td>20000.0</td>\n",
       "      <td>23800.0</td>\n",
       "      <td>30</td>\n",
       "      <td>2017-04-26 22:18:56.000000</td>\n",
       "      <td>NaN</td>\n",
       "      <td>2017-04-04 00:00:00.000000</td>\n",
       "      <td>2017-04-26 22:03:47.000000</td>\n",
       "    </tr>\n",
       "  </tbody>\n",
       "</table>\n",
       "</div>"
      ],
      "text/plain": [
       "                         customerid  systemloanid  loannumber  \\\n",
       "0  8a2a81a74ce8c05d014cfb32a0da1049     301682320           2   \n",
       "1  8a2a81a74ce8c05d014cfb32a0da1049     301883808           9   \n",
       "2  8a2a81a74ce8c05d014cfb32a0da1049     301831714           8   \n",
       "\n",
       "                 approveddate                creationdate  loanamount  \\\n",
       "0  2016-08-15 18:22:40.000000  2016-08-15 17:22:32.000000     10000.0   \n",
       "1  2017-04-28 18:39:07.000000  2017-04-28 17:38:53.000000     10000.0   \n",
       "2  2017-03-05 10:56:25.000000  2017-03-05 09:56:19.000000     20000.0   \n",
       "\n",
       "   totaldue  termdays                  closeddate referredby  \\\n",
       "0   13000.0        30  2016-09-01 16:06:48.000000        NaN   \n",
       "1   13000.0        30  2017-05-28 14:44:49.000000        NaN   \n",
       "2   23800.0        30  2017-04-26 22:18:56.000000        NaN   \n",
       "\n",
       "                 firstduedate             firstrepaiddate  \n",
       "0  2016-09-14 00:00:00.000000  2016-09-01 15:51:43.000000  \n",
       "1  2017-05-30 00:00:00.000000  2017-05-26 00:00:00.000000  \n",
       "2  2017-04-04 00:00:00.000000  2017-04-26 22:03:47.000000  "
      ]
     },
     "execution_count": 6,
     "metadata": {},
     "output_type": "execute_result"
    }
   ],
   "source": [
    "previous.head(3)"
   ]
  },
  {
   "cell_type": "code",
   "execution_count": 7,
   "id": "66987767",
   "metadata": {},
   "outputs": [
    {
     "data": {
      "text/plain": [
       "(18183, 12)"
      ]
     },
     "execution_count": 7,
     "metadata": {},
     "output_type": "execute_result"
    }
   ],
   "source": [
    "previous.shape"
   ]
  },
  {
   "cell_type": "code",
   "execution_count": 8,
   "id": "18694b6c",
   "metadata": {},
   "outputs": [
    {
     "data": {
      "text/html": [
       "<div>\n",
       "<style scoped>\n",
       "    .dataframe tbody tr th:only-of-type {\n",
       "        vertical-align: middle;\n",
       "    }\n",
       "\n",
       "    .dataframe tbody tr th {\n",
       "        vertical-align: top;\n",
       "    }\n",
       "\n",
       "    .dataframe thead th {\n",
       "        text-align: right;\n",
       "    }\n",
       "</style>\n",
       "<table border=\"1\" class=\"dataframe\">\n",
       "  <thead>\n",
       "    <tr style=\"text-align: right;\">\n",
       "      <th></th>\n",
       "      <th>customerid</th>\n",
       "      <th>systemloanid</th>\n",
       "      <th>loannumber</th>\n",
       "      <th>approveddate</th>\n",
       "      <th>creationdate</th>\n",
       "      <th>loanamount</th>\n",
       "      <th>totaldue</th>\n",
       "      <th>termdays</th>\n",
       "      <th>closeddate</th>\n",
       "      <th>referredby</th>\n",
       "      <th>firstduedate</th>\n",
       "      <th>firstrepaiddate</th>\n",
       "    </tr>\n",
       "  </thead>\n",
       "  <tbody>\n",
       "    <tr>\n",
       "      <th>0</th>\n",
       "      <td>8a2a81a74ce8c05d014cfb32a0da1049</td>\n",
       "      <td>301682320</td>\n",
       "      <td>2</td>\n",
       "      <td>2016-08-15 18:22:40.000000</td>\n",
       "      <td>2016-08-15 17:22:32.000000</td>\n",
       "      <td>10000.0</td>\n",
       "      <td>13000.0</td>\n",
       "      <td>30</td>\n",
       "      <td>2016-09-01 16:06:48.000000</td>\n",
       "      <td>NaN</td>\n",
       "      <td>2016-09-14 00:00:00.000000</td>\n",
       "      <td>2016-09-01 15:51:43.000000</td>\n",
       "    </tr>\n",
       "    <tr>\n",
       "      <th>1</th>\n",
       "      <td>8a2a81a74ce8c05d014cfb32a0da1049</td>\n",
       "      <td>301883808</td>\n",
       "      <td>9</td>\n",
       "      <td>2017-04-28 18:39:07.000000</td>\n",
       "      <td>2017-04-28 17:38:53.000000</td>\n",
       "      <td>10000.0</td>\n",
       "      <td>13000.0</td>\n",
       "      <td>30</td>\n",
       "      <td>2017-05-28 14:44:49.000000</td>\n",
       "      <td>NaN</td>\n",
       "      <td>2017-05-30 00:00:00.000000</td>\n",
       "      <td>2017-05-26 00:00:00.000000</td>\n",
       "    </tr>\n",
       "    <tr>\n",
       "      <th>2</th>\n",
       "      <td>8a2a81a74ce8c05d014cfb32a0da1049</td>\n",
       "      <td>301831714</td>\n",
       "      <td>8</td>\n",
       "      <td>2017-03-05 10:56:25.000000</td>\n",
       "      <td>2017-03-05 09:56:19.000000</td>\n",
       "      <td>20000.0</td>\n",
       "      <td>23800.0</td>\n",
       "      <td>30</td>\n",
       "      <td>2017-04-26 22:18:56.000000</td>\n",
       "      <td>NaN</td>\n",
       "      <td>2017-04-04 00:00:00.000000</td>\n",
       "      <td>2017-04-26 22:03:47.000000</td>\n",
       "    </tr>\n",
       "    <tr>\n",
       "      <th>55</th>\n",
       "      <td>8a2a81a74ce8c05d014cfb32a0da1049</td>\n",
       "      <td>301923941</td>\n",
       "      <td>10</td>\n",
       "      <td>2017-06-01 13:34:30.000000</td>\n",
       "      <td>2017-06-01 12:34:21.000000</td>\n",
       "      <td>20000.0</td>\n",
       "      <td>24500.0</td>\n",
       "      <td>30</td>\n",
       "      <td>2017-06-25 15:24:06.000000</td>\n",
       "      <td>NaN</td>\n",
       "      <td>2017-07-03 00:00:00.000000</td>\n",
       "      <td>2017-06-25 15:13:56.000000</td>\n",
       "    </tr>\n",
       "    <tr>\n",
       "      <th>56</th>\n",
       "      <td>8a2a81a74ce8c05d014cfb32a0da1049</td>\n",
       "      <td>301954468</td>\n",
       "      <td>11</td>\n",
       "      <td>2017-06-28 10:58:34.000000</td>\n",
       "      <td>2017-06-28 09:58:25.000000</td>\n",
       "      <td>20000.0</td>\n",
       "      <td>24500.0</td>\n",
       "      <td>30</td>\n",
       "      <td>2017-07-25 08:14:36.000000</td>\n",
       "      <td>NaN</td>\n",
       "      <td>2017-07-31 00:00:00.000000</td>\n",
       "      <td>2017-07-25 08:04:27.000000</td>\n",
       "    </tr>\n",
       "    <tr>\n",
       "      <th>57</th>\n",
       "      <td>8a2a81a74ce8c05d014cfb32a0da1049</td>\n",
       "      <td>301777989</td>\n",
       "      <td>6</td>\n",
       "      <td>2016-12-21 19:03:40.000000</td>\n",
       "      <td>2016-12-21 11:02:54.000000</td>\n",
       "      <td>20000.0</td>\n",
       "      <td>23800.0</td>\n",
       "      <td>30</td>\n",
       "      <td>2017-02-28 13:20:29.000000</td>\n",
       "      <td>NaN</td>\n",
       "      <td>2017-01-20 00:00:00.000000</td>\n",
       "      <td>2017-02-28 13:05:11.000000</td>\n",
       "    </tr>\n",
       "    <tr>\n",
       "      <th>1141</th>\n",
       "      <td>8a2a81a74ce8c05d014cfb32a0da1049</td>\n",
       "      <td>301739329</td>\n",
       "      <td>4</td>\n",
       "      <td>2016-10-07 19:00:48.000000</td>\n",
       "      <td>2016-10-07 18:00:37.000000</td>\n",
       "      <td>20000.0</td>\n",
       "      <td>24500.0</td>\n",
       "      <td>30</td>\n",
       "      <td>2016-11-07 08:29:43.000000</td>\n",
       "      <td>NaN</td>\n",
       "      <td>2016-11-07 00:00:00.000000</td>\n",
       "      <td>2016-11-07 08:14:34.000000</td>\n",
       "    </tr>\n",
       "    <tr>\n",
       "      <th>1142</th>\n",
       "      <td>8a2a81a74ce8c05d014cfb32a0da1049</td>\n",
       "      <td>301828139</td>\n",
       "      <td>7</td>\n",
       "      <td>2017-02-28 13:25:25.000000</td>\n",
       "      <td>2017-02-28 12:25:18.000000</td>\n",
       "      <td>20000.0</td>\n",
       "      <td>23800.0</td>\n",
       "      <td>30</td>\n",
       "      <td>2017-03-01 18:25:25.000000</td>\n",
       "      <td>NaN</td>\n",
       "      <td>2017-03-30 00:00:00.000000</td>\n",
       "      <td>2017-03-01 18:10:14.000000</td>\n",
       "    </tr>\n",
       "    <tr>\n",
       "      <th>1742</th>\n",
       "      <td>8a2a81a74ce8c05d014cfb32a0da1049</td>\n",
       "      <td>301675247</td>\n",
       "      <td>1</td>\n",
       "      <td>2016-08-09 22:57:01.000000</td>\n",
       "      <td>2016-08-09 21:56:47.000000</td>\n",
       "      <td>10000.0</td>\n",
       "      <td>13000.0</td>\n",
       "      <td>30</td>\n",
       "      <td>2016-08-15 08:49:18.000000</td>\n",
       "      <td>NaN</td>\n",
       "      <td>2016-09-08 00:00:00.000000</td>\n",
       "      <td>2016-08-15 08:34:14.000000</td>\n",
       "    </tr>\n",
       "    <tr>\n",
       "      <th>1743</th>\n",
       "      <td>8a2a81a74ce8c05d014cfb32a0da1049</td>\n",
       "      <td>301705521</td>\n",
       "      <td>3</td>\n",
       "      <td>2016-09-05 08:45:24.000000</td>\n",
       "      <td>2016-09-05 07:45:16.000000</td>\n",
       "      <td>20000.0</td>\n",
       "      <td>24500.0</td>\n",
       "      <td>30</td>\n",
       "      <td>2016-10-04 18:02:58.000000</td>\n",
       "      <td>NaN</td>\n",
       "      <td>2016-10-05 00:00:00.000000</td>\n",
       "      <td>2016-10-04 17:47:49.000000</td>\n",
       "    </tr>\n",
       "    <tr>\n",
       "      <th>1744</th>\n",
       "      <td>8a2a81a74ce8c05d014cfb32a0da1049</td>\n",
       "      <td>301755438</td>\n",
       "      <td>5</td>\n",
       "      <td>2016-11-07 09:31:42.000000</td>\n",
       "      <td>2016-11-07 08:31:32.000000</td>\n",
       "      <td>30000.0</td>\n",
       "      <td>34500.0</td>\n",
       "      <td>30</td>\n",
       "      <td>2016-12-21 11:50:48.000000</td>\n",
       "      <td>NaN</td>\n",
       "      <td>2016-12-07 00:00:00.000000</td>\n",
       "      <td>2016-12-21 11:35:37.000000</td>\n",
       "    </tr>\n",
       "  </tbody>\n",
       "</table>\n",
       "</div>"
      ],
      "text/plain": [
       "                            customerid  systemloanid  loannumber  \\\n",
       "0     8a2a81a74ce8c05d014cfb32a0da1049     301682320           2   \n",
       "1     8a2a81a74ce8c05d014cfb32a0da1049     301883808           9   \n",
       "2     8a2a81a74ce8c05d014cfb32a0da1049     301831714           8   \n",
       "55    8a2a81a74ce8c05d014cfb32a0da1049     301923941          10   \n",
       "56    8a2a81a74ce8c05d014cfb32a0da1049     301954468          11   \n",
       "57    8a2a81a74ce8c05d014cfb32a0da1049     301777989           6   \n",
       "1141  8a2a81a74ce8c05d014cfb32a0da1049     301739329           4   \n",
       "1142  8a2a81a74ce8c05d014cfb32a0da1049     301828139           7   \n",
       "1742  8a2a81a74ce8c05d014cfb32a0da1049     301675247           1   \n",
       "1743  8a2a81a74ce8c05d014cfb32a0da1049     301705521           3   \n",
       "1744  8a2a81a74ce8c05d014cfb32a0da1049     301755438           5   \n",
       "\n",
       "                    approveddate                creationdate  loanamount  \\\n",
       "0     2016-08-15 18:22:40.000000  2016-08-15 17:22:32.000000     10000.0   \n",
       "1     2017-04-28 18:39:07.000000  2017-04-28 17:38:53.000000     10000.0   \n",
       "2     2017-03-05 10:56:25.000000  2017-03-05 09:56:19.000000     20000.0   \n",
       "55    2017-06-01 13:34:30.000000  2017-06-01 12:34:21.000000     20000.0   \n",
       "56    2017-06-28 10:58:34.000000  2017-06-28 09:58:25.000000     20000.0   \n",
       "57    2016-12-21 19:03:40.000000  2016-12-21 11:02:54.000000     20000.0   \n",
       "1141  2016-10-07 19:00:48.000000  2016-10-07 18:00:37.000000     20000.0   \n",
       "1142  2017-02-28 13:25:25.000000  2017-02-28 12:25:18.000000     20000.0   \n",
       "1742  2016-08-09 22:57:01.000000  2016-08-09 21:56:47.000000     10000.0   \n",
       "1743  2016-09-05 08:45:24.000000  2016-09-05 07:45:16.000000     20000.0   \n",
       "1744  2016-11-07 09:31:42.000000  2016-11-07 08:31:32.000000     30000.0   \n",
       "\n",
       "      totaldue  termdays                  closeddate referredby  \\\n",
       "0      13000.0        30  2016-09-01 16:06:48.000000        NaN   \n",
       "1      13000.0        30  2017-05-28 14:44:49.000000        NaN   \n",
       "2      23800.0        30  2017-04-26 22:18:56.000000        NaN   \n",
       "55     24500.0        30  2017-06-25 15:24:06.000000        NaN   \n",
       "56     24500.0        30  2017-07-25 08:14:36.000000        NaN   \n",
       "57     23800.0        30  2017-02-28 13:20:29.000000        NaN   \n",
       "1141   24500.0        30  2016-11-07 08:29:43.000000        NaN   \n",
       "1142   23800.0        30  2017-03-01 18:25:25.000000        NaN   \n",
       "1742   13000.0        30  2016-08-15 08:49:18.000000        NaN   \n",
       "1743   24500.0        30  2016-10-04 18:02:58.000000        NaN   \n",
       "1744   34500.0        30  2016-12-21 11:50:48.000000        NaN   \n",
       "\n",
       "                    firstduedate             firstrepaiddate  \n",
       "0     2016-09-14 00:00:00.000000  2016-09-01 15:51:43.000000  \n",
       "1     2017-05-30 00:00:00.000000  2017-05-26 00:00:00.000000  \n",
       "2     2017-04-04 00:00:00.000000  2017-04-26 22:03:47.000000  \n",
       "55    2017-07-03 00:00:00.000000  2017-06-25 15:13:56.000000  \n",
       "56    2017-07-31 00:00:00.000000  2017-07-25 08:04:27.000000  \n",
       "57    2017-01-20 00:00:00.000000  2017-02-28 13:05:11.000000  \n",
       "1141  2016-11-07 00:00:00.000000  2016-11-07 08:14:34.000000  \n",
       "1142  2017-03-30 00:00:00.000000  2017-03-01 18:10:14.000000  \n",
       "1742  2016-09-08 00:00:00.000000  2016-08-15 08:34:14.000000  \n",
       "1743  2016-10-05 00:00:00.000000  2016-10-04 17:47:49.000000  \n",
       "1744  2016-12-07 00:00:00.000000  2016-12-21 11:35:37.000000  "
      ]
     },
     "execution_count": 8,
     "metadata": {},
     "output_type": "execute_result"
    }
   ],
   "source": [
    "previous[previous['customerid'] == '8a2a81a74ce8c05d014cfb32a0da1049']"
   ]
  },
  {
   "cell_type": "code",
   "execution_count": null,
   "id": "cff3b051",
   "metadata": {},
   "outputs": [],
   "source": []
  },
  {
   "cell_type": "code",
   "execution_count": 9,
   "id": "b4a8ec65",
   "metadata": {},
   "outputs": [
    {
     "data": {
      "text/html": [
       "<div>\n",
       "<style scoped>\n",
       "    .dataframe tbody tr th:only-of-type {\n",
       "        vertical-align: middle;\n",
       "    }\n",
       "\n",
       "    .dataframe tbody tr th {\n",
       "        vertical-align: top;\n",
       "    }\n",
       "\n",
       "    .dataframe thead th {\n",
       "        text-align: right;\n",
       "    }\n",
       "</style>\n",
       "<table border=\"1\" class=\"dataframe\">\n",
       "  <thead>\n",
       "    <tr style=\"text-align: right;\">\n",
       "      <th></th>\n",
       "      <th>customerid</th>\n",
       "      <th>systemloanid</th>\n",
       "      <th>loannumber</th>\n",
       "      <th>approveddate</th>\n",
       "      <th>creationdate</th>\n",
       "      <th>loanamount</th>\n",
       "      <th>totaldue</th>\n",
       "      <th>termdays</th>\n",
       "      <th>referredby</th>\n",
       "      <th>good_bad_flag</th>\n",
       "    </tr>\n",
       "  </thead>\n",
       "  <tbody>\n",
       "    <tr>\n",
       "      <th>0</th>\n",
       "      <td>8a2a81a74ce8c05d014cfb32a0da1049</td>\n",
       "      <td>301994762</td>\n",
       "      <td>12</td>\n",
       "      <td>2017-07-25 08:22:56.000000</td>\n",
       "      <td>2017-07-25 07:22:47.000000</td>\n",
       "      <td>30000.0</td>\n",
       "      <td>34500.0</td>\n",
       "      <td>30</td>\n",
       "      <td>NaN</td>\n",
       "      <td>Good</td>\n",
       "    </tr>\n",
       "    <tr>\n",
       "      <th>1</th>\n",
       "      <td>8a85886e54beabf90154c0a29ae757c0</td>\n",
       "      <td>301965204</td>\n",
       "      <td>2</td>\n",
       "      <td>2017-07-05 17:04:41.000000</td>\n",
       "      <td>2017-07-05 16:04:18.000000</td>\n",
       "      <td>15000.0</td>\n",
       "      <td>17250.0</td>\n",
       "      <td>30</td>\n",
       "      <td>NaN</td>\n",
       "      <td>Good</td>\n",
       "    </tr>\n",
       "    <tr>\n",
       "      <th>2</th>\n",
       "      <td>8a8588f35438fe12015444567666018e</td>\n",
       "      <td>301966580</td>\n",
       "      <td>7</td>\n",
       "      <td>2017-07-06 14:52:57.000000</td>\n",
       "      <td>2017-07-06 13:52:51.000000</td>\n",
       "      <td>20000.0</td>\n",
       "      <td>22250.0</td>\n",
       "      <td>15</td>\n",
       "      <td>NaN</td>\n",
       "      <td>Good</td>\n",
       "    </tr>\n",
       "  </tbody>\n",
       "</table>\n",
       "</div>"
      ],
      "text/plain": [
       "                         customerid  systemloanid  loannumber  \\\n",
       "0  8a2a81a74ce8c05d014cfb32a0da1049     301994762          12   \n",
       "1  8a85886e54beabf90154c0a29ae757c0     301965204           2   \n",
       "2  8a8588f35438fe12015444567666018e     301966580           7   \n",
       "\n",
       "                 approveddate                creationdate  loanamount  \\\n",
       "0  2017-07-25 08:22:56.000000  2017-07-25 07:22:47.000000     30000.0   \n",
       "1  2017-07-05 17:04:41.000000  2017-07-05 16:04:18.000000     15000.0   \n",
       "2  2017-07-06 14:52:57.000000  2017-07-06 13:52:51.000000     20000.0   \n",
       "\n",
       "   totaldue  termdays referredby good_bad_flag  \n",
       "0   34500.0        30        NaN          Good  \n",
       "1   17250.0        30        NaN          Good  \n",
       "2   22250.0        15        NaN          Good  "
      ]
     },
     "execution_count": 9,
     "metadata": {},
     "output_type": "execute_result"
    }
   ],
   "source": [
    "performance.head(3)"
   ]
  },
  {
   "cell_type": "code",
   "execution_count": 10,
   "id": "192865bc",
   "metadata": {},
   "outputs": [
    {
     "data": {
      "text/plain": [
       "(4368, 10)"
      ]
     },
     "execution_count": 10,
     "metadata": {},
     "output_type": "execute_result"
    }
   ],
   "source": [
    "performance.shape"
   ]
  },
  {
   "cell_type": "code",
   "execution_count": 11,
   "id": "cb9479dd",
   "metadata": {},
   "outputs": [
    {
     "data": {
      "text/html": [
       "<div>\n",
       "<style scoped>\n",
       "    .dataframe tbody tr th:only-of-type {\n",
       "        vertical-align: middle;\n",
       "    }\n",
       "\n",
       "    .dataframe tbody tr th {\n",
       "        vertical-align: top;\n",
       "    }\n",
       "\n",
       "    .dataframe thead th {\n",
       "        text-align: right;\n",
       "    }\n",
       "</style>\n",
       "<table border=\"1\" class=\"dataframe\">\n",
       "  <thead>\n",
       "    <tr style=\"text-align: right;\">\n",
       "      <th></th>\n",
       "      <th>customerid</th>\n",
       "      <th>systemloanid</th>\n",
       "      <th>loannumber</th>\n",
       "      <th>approveddate</th>\n",
       "      <th>creationdate</th>\n",
       "      <th>loanamount</th>\n",
       "      <th>totaldue</th>\n",
       "      <th>termdays</th>\n",
       "      <th>referredby</th>\n",
       "      <th>good_bad_flag</th>\n",
       "    </tr>\n",
       "  </thead>\n",
       "  <tbody>\n",
       "    <tr>\n",
       "      <th>0</th>\n",
       "      <td>8a2a81a74ce8c05d014cfb32a0da1049</td>\n",
       "      <td>301994762</td>\n",
       "      <td>12</td>\n",
       "      <td>2017-07-25 08:22:56.000000</td>\n",
       "      <td>2017-07-25 07:22:47.000000</td>\n",
       "      <td>30000.0</td>\n",
       "      <td>34500.0</td>\n",
       "      <td>30</td>\n",
       "      <td>NaN</td>\n",
       "      <td>Good</td>\n",
       "    </tr>\n",
       "  </tbody>\n",
       "</table>\n",
       "</div>"
      ],
      "text/plain": [
       "                         customerid  systemloanid  loannumber  \\\n",
       "0  8a2a81a74ce8c05d014cfb32a0da1049     301994762          12   \n",
       "\n",
       "                 approveddate                creationdate  loanamount  \\\n",
       "0  2017-07-25 08:22:56.000000  2017-07-25 07:22:47.000000     30000.0   \n",
       "\n",
       "   totaldue  termdays referredby good_bad_flag  \n",
       "0   34500.0        30        NaN          Good  "
      ]
     },
     "execution_count": 11,
     "metadata": {},
     "output_type": "execute_result"
    }
   ],
   "source": [
    "performance[performance['customerid'] == '8a2a81a74ce8c05d014cfb32a0da1049']"
   ]
  },
  {
   "cell_type": "code",
   "execution_count": null,
   "id": "e16964f3",
   "metadata": {},
   "outputs": [],
   "source": []
  },
  {
   "cell_type": "code",
   "execution_count": 12,
   "id": "ec9d91c5",
   "metadata": {},
   "outputs": [],
   "source": [
    "# Merging the first two datasets using customerid as primary key.\n",
    "\n",
    "dataset1 = pd.merge(demographics, previous, on=\"customerid\")"
   ]
  },
  {
   "cell_type": "code",
   "execution_count": 13,
   "id": "5387df77",
   "metadata": {},
   "outputs": [
    {
     "data": {
      "text/html": [
       "<div>\n",
       "<style scoped>\n",
       "    .dataframe tbody tr th:only-of-type {\n",
       "        vertical-align: middle;\n",
       "    }\n",
       "\n",
       "    .dataframe tbody tr th {\n",
       "        vertical-align: top;\n",
       "    }\n",
       "\n",
       "    .dataframe thead th {\n",
       "        text-align: right;\n",
       "    }\n",
       "</style>\n",
       "<table border=\"1\" class=\"dataframe\">\n",
       "  <thead>\n",
       "    <tr style=\"text-align: right;\">\n",
       "      <th></th>\n",
       "      <th>customerid</th>\n",
       "      <th>birthdate</th>\n",
       "      <th>bank_account_type</th>\n",
       "      <th>longitude_gps</th>\n",
       "      <th>latitude_gps</th>\n",
       "      <th>bank_name_clients</th>\n",
       "      <th>bank_branch_clients</th>\n",
       "      <th>employment_status_clients</th>\n",
       "      <th>level_of_education_clients</th>\n",
       "      <th>systemloanid</th>\n",
       "      <th>loannumber</th>\n",
       "      <th>approveddate</th>\n",
       "      <th>creationdate</th>\n",
       "      <th>loanamount</th>\n",
       "      <th>totaldue</th>\n",
       "      <th>termdays</th>\n",
       "      <th>closeddate</th>\n",
       "      <th>referredby</th>\n",
       "      <th>firstduedate</th>\n",
       "      <th>firstrepaiddate</th>\n",
       "    </tr>\n",
       "  </thead>\n",
       "  <tbody>\n",
       "    <tr>\n",
       "      <th>0</th>\n",
       "      <td>8a858e135cb22031015cbafc76964ebd</td>\n",
       "      <td>1973-10-10 00:00:00.000000</td>\n",
       "      <td>Savings</td>\n",
       "      <td>3.319219</td>\n",
       "      <td>6.528604</td>\n",
       "      <td>GT Bank</td>\n",
       "      <td>NaN</td>\n",
       "      <td>NaN</td>\n",
       "      <td>NaN</td>\n",
       "      <td>301943951</td>\n",
       "      <td>1</td>\n",
       "      <td>2017-06-19 17:55:26.000000</td>\n",
       "      <td>2017-06-19 16:54:19.000000</td>\n",
       "      <td>10000.0</td>\n",
       "      <td>11500.0</td>\n",
       "      <td>15</td>\n",
       "      <td>2017-07-04 18:09:47.000000</td>\n",
       "      <td>8a858899538ddb8e0153a780c56e34bb</td>\n",
       "      <td>2017-07-05 00:00:00.000000</td>\n",
       "      <td>2017-07-04 17:59:36.000000</td>\n",
       "    </tr>\n",
       "    <tr>\n",
       "      <th>1</th>\n",
       "      <td>8a858e275c7ea5ec015c82482d7c3996</td>\n",
       "      <td>1986-01-21 00:00:00.000000</td>\n",
       "      <td>Savings</td>\n",
       "      <td>3.325598</td>\n",
       "      <td>7.119403</td>\n",
       "      <td>Sterling Bank</td>\n",
       "      <td>NaN</td>\n",
       "      <td>Permanent</td>\n",
       "      <td>NaN</td>\n",
       "      <td>301929966</td>\n",
       "      <td>1</td>\n",
       "      <td>2017-06-07 12:47:30.000000</td>\n",
       "      <td>2017-06-07 11:46:22.000000</td>\n",
       "      <td>10000.0</td>\n",
       "      <td>13000.0</td>\n",
       "      <td>30</td>\n",
       "      <td>2017-07-10 08:52:54.000000</td>\n",
       "      <td>NaN</td>\n",
       "      <td>2017-07-07 00:00:00.000000</td>\n",
       "      <td>2017-07-10 08:42:44.000000</td>\n",
       "    </tr>\n",
       "    <tr>\n",
       "      <th>2</th>\n",
       "      <td>8a858e5b5bd99460015bdc95cd485634</td>\n",
       "      <td>1987-04-01 00:00:00.000000</td>\n",
       "      <td>Savings</td>\n",
       "      <td>5.746100</td>\n",
       "      <td>5.563174</td>\n",
       "      <td>Fidelity Bank</td>\n",
       "      <td>NaN</td>\n",
       "      <td>NaN</td>\n",
       "      <td>NaN</td>\n",
       "      <td>301931228</td>\n",
       "      <td>3</td>\n",
       "      <td>2017-06-08 11:49:34.000000</td>\n",
       "      <td>2017-06-08 10:49:27.000000</td>\n",
       "      <td>10000.0</td>\n",
       "      <td>13000.0</td>\n",
       "      <td>30</td>\n",
       "      <td>2017-07-11 10:12:20.000000</td>\n",
       "      <td>NaN</td>\n",
       "      <td>2017-07-10 00:00:00.000000</td>\n",
       "      <td>2017-07-11 10:02:11.000000</td>\n",
       "    </tr>\n",
       "  </tbody>\n",
       "</table>\n",
       "</div>"
      ],
      "text/plain": [
       "                         customerid                   birthdate  \\\n",
       "0  8a858e135cb22031015cbafc76964ebd  1973-10-10 00:00:00.000000   \n",
       "1  8a858e275c7ea5ec015c82482d7c3996  1986-01-21 00:00:00.000000   \n",
       "2  8a858e5b5bd99460015bdc95cd485634  1987-04-01 00:00:00.000000   \n",
       "\n",
       "  bank_account_type  longitude_gps  latitude_gps bank_name_clients  \\\n",
       "0           Savings       3.319219      6.528604           GT Bank   \n",
       "1           Savings       3.325598      7.119403     Sterling Bank   \n",
       "2           Savings       5.746100      5.563174     Fidelity Bank   \n",
       "\n",
       "  bank_branch_clients employment_status_clients level_of_education_clients  \\\n",
       "0                 NaN                       NaN                        NaN   \n",
       "1                 NaN                 Permanent                        NaN   \n",
       "2                 NaN                       NaN                        NaN   \n",
       "\n",
       "   systemloanid  loannumber                approveddate  \\\n",
       "0     301943951           1  2017-06-19 17:55:26.000000   \n",
       "1     301929966           1  2017-06-07 12:47:30.000000   \n",
       "2     301931228           3  2017-06-08 11:49:34.000000   \n",
       "\n",
       "                 creationdate  loanamount  totaldue  termdays  \\\n",
       "0  2017-06-19 16:54:19.000000     10000.0   11500.0        15   \n",
       "1  2017-06-07 11:46:22.000000     10000.0   13000.0        30   \n",
       "2  2017-06-08 10:49:27.000000     10000.0   13000.0        30   \n",
       "\n",
       "                   closeddate                        referredby  \\\n",
       "0  2017-07-04 18:09:47.000000  8a858899538ddb8e0153a780c56e34bb   \n",
       "1  2017-07-10 08:52:54.000000                               NaN   \n",
       "2  2017-07-11 10:12:20.000000                               NaN   \n",
       "\n",
       "                 firstduedate             firstrepaiddate  \n",
       "0  2017-07-05 00:00:00.000000  2017-07-04 17:59:36.000000  \n",
       "1  2017-07-07 00:00:00.000000  2017-07-10 08:42:44.000000  \n",
       "2  2017-07-10 00:00:00.000000  2017-07-11 10:02:11.000000  "
      ]
     },
     "execution_count": 13,
     "metadata": {},
     "output_type": "execute_result"
    }
   ],
   "source": [
    "dataset1.head(3)"
   ]
  },
  {
   "cell_type": "code",
   "execution_count": 14,
   "id": "ec951a96",
   "metadata": {},
   "outputs": [
    {
     "data": {
      "text/plain": [
       "(13693, 20)"
      ]
     },
     "execution_count": 14,
     "metadata": {},
     "output_type": "execute_result"
    }
   ],
   "source": [
    "dataset1.shape"
   ]
  },
  {
   "cell_type": "code",
   "execution_count": null,
   "id": "d349aa63",
   "metadata": {},
   "outputs": [],
   "source": []
  },
  {
   "cell_type": "code",
   "execution_count": 15,
   "id": "fdaff785",
   "metadata": {},
   "outputs": [],
   "source": [
    "# Merging the third dataset with the already merged two (dataset1).\n",
    "\n",
    "dataset = pd.merge(dataset1, performance, on='customerid')"
   ]
  },
  {
   "cell_type": "code",
   "execution_count": 16,
   "id": "1216ad8c",
   "metadata": {},
   "outputs": [
    {
     "data": {
      "text/html": [
       "<div>\n",
       "<style scoped>\n",
       "    .dataframe tbody tr th:only-of-type {\n",
       "        vertical-align: middle;\n",
       "    }\n",
       "\n",
       "    .dataframe tbody tr th {\n",
       "        vertical-align: top;\n",
       "    }\n",
       "\n",
       "    .dataframe thead th {\n",
       "        text-align: right;\n",
       "    }\n",
       "</style>\n",
       "<table border=\"1\" class=\"dataframe\">\n",
       "  <thead>\n",
       "    <tr style=\"text-align: right;\">\n",
       "      <th></th>\n",
       "      <th>customerid</th>\n",
       "      <th>birthdate</th>\n",
       "      <th>bank_account_type</th>\n",
       "      <th>longitude_gps</th>\n",
       "      <th>latitude_gps</th>\n",
       "      <th>bank_name_clients</th>\n",
       "      <th>bank_branch_clients</th>\n",
       "      <th>employment_status_clients</th>\n",
       "      <th>level_of_education_clients</th>\n",
       "      <th>systemloanid_x</th>\n",
       "      <th>loannumber_x</th>\n",
       "      <th>approveddate_x</th>\n",
       "      <th>creationdate_x</th>\n",
       "      <th>loanamount_x</th>\n",
       "      <th>totaldue_x</th>\n",
       "      <th>termdays_x</th>\n",
       "      <th>closeddate</th>\n",
       "      <th>referredby_x</th>\n",
       "      <th>firstduedate</th>\n",
       "      <th>firstrepaiddate</th>\n",
       "      <th>systemloanid_y</th>\n",
       "      <th>loannumber_y</th>\n",
       "      <th>approveddate_y</th>\n",
       "      <th>creationdate_y</th>\n",
       "      <th>loanamount_y</th>\n",
       "      <th>totaldue_y</th>\n",
       "      <th>termdays_y</th>\n",
       "      <th>referredby_y</th>\n",
       "      <th>good_bad_flag</th>\n",
       "    </tr>\n",
       "  </thead>\n",
       "  <tbody>\n",
       "    <tr>\n",
       "      <th>0</th>\n",
       "      <td>8a858e135cb22031015cbafc76964ebd</td>\n",
       "      <td>1973-10-10 00:00:00.000000</td>\n",
       "      <td>Savings</td>\n",
       "      <td>3.319219</td>\n",
       "      <td>6.528604</td>\n",
       "      <td>GT Bank</td>\n",
       "      <td>NaN</td>\n",
       "      <td>NaN</td>\n",
       "      <td>NaN</td>\n",
       "      <td>301943951</td>\n",
       "      <td>1</td>\n",
       "      <td>2017-06-19 17:55:26.000000</td>\n",
       "      <td>2017-06-19 16:54:19.000000</td>\n",
       "      <td>10000.0</td>\n",
       "      <td>11500.0</td>\n",
       "      <td>15</td>\n",
       "      <td>2017-07-04 18:09:47.000000</td>\n",
       "      <td>8a858899538ddb8e0153a780c56e34bb</td>\n",
       "      <td>2017-07-05 00:00:00.000000</td>\n",
       "      <td>2017-07-04 17:59:36.000000</td>\n",
       "      <td>301964962</td>\n",
       "      <td>2</td>\n",
       "      <td>2017-07-05 14:29:48.000000</td>\n",
       "      <td>2017-07-05 13:29:42.000000</td>\n",
       "      <td>10000.0</td>\n",
       "      <td>13000.0</td>\n",
       "      <td>30</td>\n",
       "      <td>8a858899538ddb8e0153a780c56e34bb</td>\n",
       "      <td>Good</td>\n",
       "    </tr>\n",
       "    <tr>\n",
       "      <th>1</th>\n",
       "      <td>8a858e275c7ea5ec015c82482d7c3996</td>\n",
       "      <td>1986-01-21 00:00:00.000000</td>\n",
       "      <td>Savings</td>\n",
       "      <td>3.325598</td>\n",
       "      <td>7.119403</td>\n",
       "      <td>Sterling Bank</td>\n",
       "      <td>NaN</td>\n",
       "      <td>Permanent</td>\n",
       "      <td>NaN</td>\n",
       "      <td>301929966</td>\n",
       "      <td>1</td>\n",
       "      <td>2017-06-07 12:47:30.000000</td>\n",
       "      <td>2017-06-07 11:46:22.000000</td>\n",
       "      <td>10000.0</td>\n",
       "      <td>13000.0</td>\n",
       "      <td>30</td>\n",
       "      <td>2017-07-10 08:52:54.000000</td>\n",
       "      <td>NaN</td>\n",
       "      <td>2017-07-07 00:00:00.000000</td>\n",
       "      <td>2017-07-10 08:42:44.000000</td>\n",
       "      <td>301972172</td>\n",
       "      <td>2</td>\n",
       "      <td>2017-07-10 21:21:46.000000</td>\n",
       "      <td>2017-07-10 20:21:40.000000</td>\n",
       "      <td>10000.0</td>\n",
       "      <td>13000.0</td>\n",
       "      <td>30</td>\n",
       "      <td>NaN</td>\n",
       "      <td>Bad</td>\n",
       "    </tr>\n",
       "    <tr>\n",
       "      <th>2</th>\n",
       "      <td>8a858e5b5bd99460015bdc95cd485634</td>\n",
       "      <td>1987-04-01 00:00:00.000000</td>\n",
       "      <td>Savings</td>\n",
       "      <td>5.746100</td>\n",
       "      <td>5.563174</td>\n",
       "      <td>Fidelity Bank</td>\n",
       "      <td>NaN</td>\n",
       "      <td>NaN</td>\n",
       "      <td>NaN</td>\n",
       "      <td>301931228</td>\n",
       "      <td>3</td>\n",
       "      <td>2017-06-08 11:49:34.000000</td>\n",
       "      <td>2017-06-08 10:49:27.000000</td>\n",
       "      <td>10000.0</td>\n",
       "      <td>13000.0</td>\n",
       "      <td>30</td>\n",
       "      <td>2017-07-11 10:12:20.000000</td>\n",
       "      <td>NaN</td>\n",
       "      <td>2017-07-10 00:00:00.000000</td>\n",
       "      <td>2017-07-11 10:02:11.000000</td>\n",
       "      <td>301976271</td>\n",
       "      <td>4</td>\n",
       "      <td>2017-07-13 15:40:27.000000</td>\n",
       "      <td>2017-07-13 14:40:19.000000</td>\n",
       "      <td>10000.0</td>\n",
       "      <td>13000.0</td>\n",
       "      <td>30</td>\n",
       "      <td>NaN</td>\n",
       "      <td>Good</td>\n",
       "    </tr>\n",
       "  </tbody>\n",
       "</table>\n",
       "</div>"
      ],
      "text/plain": [
       "                         customerid                   birthdate  \\\n",
       "0  8a858e135cb22031015cbafc76964ebd  1973-10-10 00:00:00.000000   \n",
       "1  8a858e275c7ea5ec015c82482d7c3996  1986-01-21 00:00:00.000000   \n",
       "2  8a858e5b5bd99460015bdc95cd485634  1987-04-01 00:00:00.000000   \n",
       "\n",
       "  bank_account_type  longitude_gps  latitude_gps bank_name_clients  \\\n",
       "0           Savings       3.319219      6.528604           GT Bank   \n",
       "1           Savings       3.325598      7.119403     Sterling Bank   \n",
       "2           Savings       5.746100      5.563174     Fidelity Bank   \n",
       "\n",
       "  bank_branch_clients employment_status_clients level_of_education_clients  \\\n",
       "0                 NaN                       NaN                        NaN   \n",
       "1                 NaN                 Permanent                        NaN   \n",
       "2                 NaN                       NaN                        NaN   \n",
       "\n",
       "   systemloanid_x  loannumber_x              approveddate_x  \\\n",
       "0       301943951             1  2017-06-19 17:55:26.000000   \n",
       "1       301929966             1  2017-06-07 12:47:30.000000   \n",
       "2       301931228             3  2017-06-08 11:49:34.000000   \n",
       "\n",
       "               creationdate_x  loanamount_x  totaldue_x  termdays_x  \\\n",
       "0  2017-06-19 16:54:19.000000       10000.0     11500.0          15   \n",
       "1  2017-06-07 11:46:22.000000       10000.0     13000.0          30   \n",
       "2  2017-06-08 10:49:27.000000       10000.0     13000.0          30   \n",
       "\n",
       "                   closeddate                      referredby_x  \\\n",
       "0  2017-07-04 18:09:47.000000  8a858899538ddb8e0153a780c56e34bb   \n",
       "1  2017-07-10 08:52:54.000000                               NaN   \n",
       "2  2017-07-11 10:12:20.000000                               NaN   \n",
       "\n",
       "                 firstduedate             firstrepaiddate  systemloanid_y  \\\n",
       "0  2017-07-05 00:00:00.000000  2017-07-04 17:59:36.000000       301964962   \n",
       "1  2017-07-07 00:00:00.000000  2017-07-10 08:42:44.000000       301972172   \n",
       "2  2017-07-10 00:00:00.000000  2017-07-11 10:02:11.000000       301976271   \n",
       "\n",
       "   loannumber_y              approveddate_y              creationdate_y  \\\n",
       "0             2  2017-07-05 14:29:48.000000  2017-07-05 13:29:42.000000   \n",
       "1             2  2017-07-10 21:21:46.000000  2017-07-10 20:21:40.000000   \n",
       "2             4  2017-07-13 15:40:27.000000  2017-07-13 14:40:19.000000   \n",
       "\n",
       "   loanamount_y  totaldue_y  termdays_y                      referredby_y  \\\n",
       "0       10000.0     13000.0          30  8a858899538ddb8e0153a780c56e34bb   \n",
       "1       10000.0     13000.0          30                               NaN   \n",
       "2       10000.0     13000.0          30                               NaN   \n",
       "\n",
       "  good_bad_flag  \n",
       "0          Good  \n",
       "1           Bad  \n",
       "2          Good  "
      ]
     },
     "execution_count": 16,
     "metadata": {},
     "output_type": "execute_result"
    }
   ],
   "source": [
    "dataset.head(3)"
   ]
  },
  {
   "cell_type": "code",
   "execution_count": 17,
   "id": "4cc49bac",
   "metadata": {},
   "outputs": [
    {
     "data": {
      "text/plain": [
       "(13693, 29)"
      ]
     },
     "execution_count": 17,
     "metadata": {},
     "output_type": "execute_result"
    }
   ],
   "source": [
    "dataset.shape"
   ]
  },
  {
   "cell_type": "code",
   "execution_count": null,
   "id": "fd9d68dd",
   "metadata": {},
   "outputs": [],
   "source": []
  },
  {
   "cell_type": "markdown",
   "id": "1b2f2692",
   "metadata": {},
   "source": [
    "## Data Inspection and Cleaning."
   ]
  },
  {
   "cell_type": "code",
   "execution_count": 18,
   "id": "75632d95",
   "metadata": {
    "scrolled": true
   },
   "outputs": [
    {
     "name": "stdout",
     "output_type": "stream",
     "text": [
      "<class 'pandas.core.frame.DataFrame'>\n",
      "Int64Index: 13693 entries, 0 to 13692\n",
      "Data columns (total 29 columns):\n",
      " #   Column                      Non-Null Count  Dtype  \n",
      "---  ------                      --------------  -----  \n",
      " 0   customerid                  13693 non-null  object \n",
      " 1   birthdate                   13693 non-null  object \n",
      " 2   bank_account_type           13693 non-null  object \n",
      " 3   longitude_gps               13693 non-null  float64\n",
      " 4   latitude_gps                13693 non-null  float64\n",
      " 5   bank_name_clients           13693 non-null  object \n",
      " 6   bank_branch_clients         104 non-null    object \n",
      " 7   employment_status_clients   12330 non-null  object \n",
      " 8   level_of_education_clients  3464 non-null   object \n",
      " 9   systemloanid_x              13693 non-null  int64  \n",
      " 10  loannumber_x                13693 non-null  int64  \n",
      " 11  approveddate_x              13693 non-null  object \n",
      " 12  creationdate_x              13693 non-null  object \n",
      " 13  loanamount_x                13693 non-null  float64\n",
      " 14  totaldue_x                  13693 non-null  float64\n",
      " 15  termdays_x                  13693 non-null  int64  \n",
      " 16  closeddate                  13693 non-null  object \n",
      " 17  referredby_x                802 non-null    object \n",
      " 18  firstduedate                13693 non-null  object \n",
      " 19  firstrepaiddate             13693 non-null  object \n",
      " 20  systemloanid_y              13693 non-null  int64  \n",
      " 21  loannumber_y                13693 non-null  int64  \n",
      " 22  approveddate_y              13693 non-null  object \n",
      " 23  creationdate_y              13693 non-null  object \n",
      " 24  loanamount_y                13693 non-null  float64\n",
      " 25  totaldue_y                  13693 non-null  float64\n",
      " 26  termdays_y                  13693 non-null  int64  \n",
      " 27  referredby_y                802 non-null    object \n",
      " 28  good_bad_flag               13693 non-null  object \n",
      "dtypes: float64(6), int64(6), object(17)\n",
      "memory usage: 3.1+ MB\n"
     ]
    }
   ],
   "source": [
    "# Information about the data.\n",
    "\n",
    "dataset.info()"
   ]
  },
  {
   "cell_type": "code",
   "execution_count": 19,
   "id": "56953058",
   "metadata": {},
   "outputs": [
    {
     "data": {
      "text/plain": [
       "3264"
      ]
     },
     "execution_count": 19,
     "metadata": {},
     "output_type": "execute_result"
    }
   ],
   "source": [
    "# Number of unique customers.\n",
    "\n",
    "len(dataset['customerid'].unique())"
   ]
  },
  {
   "cell_type": "code",
   "execution_count": 20,
   "id": "8709fca0",
   "metadata": {},
   "outputs": [
    {
     "data": {
      "text/html": [
       "<div>\n",
       "<style scoped>\n",
       "    .dataframe tbody tr th:only-of-type {\n",
       "        vertical-align: middle;\n",
       "    }\n",
       "\n",
       "    .dataframe tbody tr th {\n",
       "        vertical-align: top;\n",
       "    }\n",
       "\n",
       "    .dataframe thead th {\n",
       "        text-align: right;\n",
       "    }\n",
       "</style>\n",
       "<table border=\"1\" class=\"dataframe\">\n",
       "  <thead>\n",
       "    <tr style=\"text-align: right;\">\n",
       "      <th></th>\n",
       "      <th>longitude_gps</th>\n",
       "      <th>latitude_gps</th>\n",
       "      <th>systemloanid_x</th>\n",
       "      <th>loannumber_x</th>\n",
       "      <th>loanamount_x</th>\n",
       "      <th>totaldue_x</th>\n",
       "      <th>termdays_x</th>\n",
       "      <th>systemloanid_y</th>\n",
       "      <th>loannumber_y</th>\n",
       "      <th>loanamount_y</th>\n",
       "      <th>totaldue_y</th>\n",
       "      <th>termdays_y</th>\n",
       "    </tr>\n",
       "  </thead>\n",
       "  <tbody>\n",
       "    <tr>\n",
       "      <th>count</th>\n",
       "      <td>13693.000000</td>\n",
       "      <td>13693.000000</td>\n",
       "      <td>1.369300e+04</td>\n",
       "      <td>13693.000000</td>\n",
       "      <td>13693.000000</td>\n",
       "      <td>13693.000000</td>\n",
       "      <td>13693.000000</td>\n",
       "      <td>1.369300e+04</td>\n",
       "      <td>13693.000000</td>\n",
       "      <td>13693.000000</td>\n",
       "      <td>13693.000000</td>\n",
       "      <td>13693.000000</td>\n",
       "    </tr>\n",
       "    <tr>\n",
       "      <th>mean</th>\n",
       "      <td>4.482207</td>\n",
       "      <td>7.291442</td>\n",
       "      <td>3.018395e+08</td>\n",
       "      <td>4.200760</td>\n",
       "      <td>16566.347769</td>\n",
       "      <td>19646.612269</td>\n",
       "      <td>26.742131</td>\n",
       "      <td>3.019801e+08</td>\n",
       "      <td>8.401081</td>\n",
       "      <td>25688.673045</td>\n",
       "      <td>29812.666494</td>\n",
       "      <td>33.233769</td>\n",
       "    </tr>\n",
       "    <tr>\n",
       "      <th>std</th>\n",
       "      <td>8.639590</td>\n",
       "      <td>3.436232</td>\n",
       "      <td>9.304690e+04</td>\n",
       "      <td>3.269552</td>\n",
       "      <td>9375.687619</td>\n",
       "      <td>10512.238823</td>\n",
       "      <td>10.997624</td>\n",
       "      <td>1.343531e+04</td>\n",
       "      <td>4.318780</td>\n",
       "      <td>12625.374212</td>\n",
       "      <td>13772.770273</td>\n",
       "      <td>14.440482</td>\n",
       "    </tr>\n",
       "    <tr>\n",
       "      <th>min</th>\n",
       "      <td>-118.247009</td>\n",
       "      <td>-33.868818</td>\n",
       "      <td>3.016001e+08</td>\n",
       "      <td>1.000000</td>\n",
       "      <td>3000.000000</td>\n",
       "      <td>3900.000000</td>\n",
       "      <td>15.000000</td>\n",
       "      <td>3.019585e+08</td>\n",
       "      <td>2.000000</td>\n",
       "      <td>10000.000000</td>\n",
       "      <td>10000.000000</td>\n",
       "      <td>15.000000</td>\n",
       "    </tr>\n",
       "    <tr>\n",
       "      <th>25%</th>\n",
       "      <td>3.354793</td>\n",
       "      <td>6.471885</td>\n",
       "      <td>3.017767e+08</td>\n",
       "      <td>2.000000</td>\n",
       "      <td>10000.000000</td>\n",
       "      <td>11500.000000</td>\n",
       "      <td>15.000000</td>\n",
       "      <td>3.019678e+08</td>\n",
       "      <td>5.000000</td>\n",
       "      <td>10000.000000</td>\n",
       "      <td>13000.000000</td>\n",
       "      <td>30.000000</td>\n",
       "    </tr>\n",
       "    <tr>\n",
       "      <th>50%</th>\n",
       "      <td>3.576022</td>\n",
       "      <td>6.617633</td>\n",
       "      <td>3.018545e+08</td>\n",
       "      <td>3.000000</td>\n",
       "      <td>10000.000000</td>\n",
       "      <td>13000.000000</td>\n",
       "      <td>30.000000</td>\n",
       "      <td>3.019787e+08</td>\n",
       "      <td>8.000000</td>\n",
       "      <td>30000.000000</td>\n",
       "      <td>33000.000000</td>\n",
       "      <td>30.000000</td>\n",
       "    </tr>\n",
       "    <tr>\n",
       "      <th>75%</th>\n",
       "      <td>6.364658</td>\n",
       "      <td>7.421333</td>\n",
       "      <td>3.019193e+08</td>\n",
       "      <td>6.000000</td>\n",
       "      <td>20000.000000</td>\n",
       "      <td>24500.000000</td>\n",
       "      <td>30.000000</td>\n",
       "      <td>3.019929e+08</td>\n",
       "      <td>11.000000</td>\n",
       "      <td>40000.000000</td>\n",
       "      <td>44000.000000</td>\n",
       "      <td>30.000000</td>\n",
       "    </tr>\n",
       "    <tr>\n",
       "      <th>max</th>\n",
       "      <td>151.209290</td>\n",
       "      <td>71.228069</td>\n",
       "      <td>3.020003e+08</td>\n",
       "      <td>26.000000</td>\n",
       "      <td>60000.000000</td>\n",
       "      <td>68100.000000</td>\n",
       "      <td>90.000000</td>\n",
       "      <td>3.020040e+08</td>\n",
       "      <td>27.000000</td>\n",
       "      <td>60000.000000</td>\n",
       "      <td>68100.000000</td>\n",
       "      <td>90.000000</td>\n",
       "    </tr>\n",
       "  </tbody>\n",
       "</table>\n",
       "</div>"
      ],
      "text/plain": [
       "       longitude_gps  latitude_gps  systemloanid_x  loannumber_x  \\\n",
       "count   13693.000000  13693.000000    1.369300e+04  13693.000000   \n",
       "mean        4.482207      7.291442    3.018395e+08      4.200760   \n",
       "std         8.639590      3.436232    9.304690e+04      3.269552   \n",
       "min      -118.247009    -33.868818    3.016001e+08      1.000000   \n",
       "25%         3.354793      6.471885    3.017767e+08      2.000000   \n",
       "50%         3.576022      6.617633    3.018545e+08      3.000000   \n",
       "75%         6.364658      7.421333    3.019193e+08      6.000000   \n",
       "max       151.209290     71.228069    3.020003e+08     26.000000   \n",
       "\n",
       "       loanamount_x    totaldue_x    termdays_x  systemloanid_y  loannumber_y  \\\n",
       "count  13693.000000  13693.000000  13693.000000    1.369300e+04  13693.000000   \n",
       "mean   16566.347769  19646.612269     26.742131    3.019801e+08      8.401081   \n",
       "std     9375.687619  10512.238823     10.997624    1.343531e+04      4.318780   \n",
       "min     3000.000000   3900.000000     15.000000    3.019585e+08      2.000000   \n",
       "25%    10000.000000  11500.000000     15.000000    3.019678e+08      5.000000   \n",
       "50%    10000.000000  13000.000000     30.000000    3.019787e+08      8.000000   \n",
       "75%    20000.000000  24500.000000     30.000000    3.019929e+08     11.000000   \n",
       "max    60000.000000  68100.000000     90.000000    3.020040e+08     27.000000   \n",
       "\n",
       "       loanamount_y    totaldue_y    termdays_y  \n",
       "count  13693.000000  13693.000000  13693.000000  \n",
       "mean   25688.673045  29812.666494     33.233769  \n",
       "std    12625.374212  13772.770273     14.440482  \n",
       "min    10000.000000  10000.000000     15.000000  \n",
       "25%    10000.000000  13000.000000     30.000000  \n",
       "50%    30000.000000  33000.000000     30.000000  \n",
       "75%    40000.000000  44000.000000     30.000000  \n",
       "max    60000.000000  68100.000000     90.000000  "
      ]
     },
     "execution_count": 20,
     "metadata": {},
     "output_type": "execute_result"
    }
   ],
   "source": [
    "dataset.describe()"
   ]
  },
  {
   "cell_type": "code",
   "execution_count": null,
   "id": "3d3ece3a",
   "metadata": {},
   "outputs": [],
   "source": []
  },
  {
   "cell_type": "markdown",
   "id": "5b618b5e",
   "metadata": {},
   "source": [
    "We observed that there are two columns for loannumber, loanamount, termdays etc. that are having different values. This is cos we merged the current loan application data with the previous loan application data which has details of those variables. \n",
    "\n",
    "To avoid confusion on which loannumber, loanamount, and termdays to use, we'll drop the previous loan dataset.\n",
    "\n",
    "For now, we do not need the previous loan dataset cos the loannumber in the performance dataset already gives a little detail about it. So, We'd merge the demographics and performance datasets as 'main', and then come back to 'dataset' if need be."
   ]
  },
  {
   "cell_type": "code",
   "execution_count": 21,
   "id": "2c0278f6",
   "metadata": {},
   "outputs": [],
   "source": [
    "main = pd.merge(demographics, performance, on='customerid')"
   ]
  },
  {
   "cell_type": "code",
   "execution_count": 22,
   "id": "c0dbeae2",
   "metadata": {},
   "outputs": [
    {
     "data": {
      "text/html": [
       "<div>\n",
       "<style scoped>\n",
       "    .dataframe tbody tr th:only-of-type {\n",
       "        vertical-align: middle;\n",
       "    }\n",
       "\n",
       "    .dataframe tbody tr th {\n",
       "        vertical-align: top;\n",
       "    }\n",
       "\n",
       "    .dataframe thead th {\n",
       "        text-align: right;\n",
       "    }\n",
       "</style>\n",
       "<table border=\"1\" class=\"dataframe\">\n",
       "  <thead>\n",
       "    <tr style=\"text-align: right;\">\n",
       "      <th></th>\n",
       "      <th>customerid</th>\n",
       "      <th>birthdate</th>\n",
       "      <th>bank_account_type</th>\n",
       "      <th>longitude_gps</th>\n",
       "      <th>latitude_gps</th>\n",
       "      <th>bank_name_clients</th>\n",
       "      <th>bank_branch_clients</th>\n",
       "      <th>employment_status_clients</th>\n",
       "      <th>level_of_education_clients</th>\n",
       "      <th>systemloanid</th>\n",
       "      <th>loannumber</th>\n",
       "      <th>approveddate</th>\n",
       "      <th>creationdate</th>\n",
       "      <th>loanamount</th>\n",
       "      <th>totaldue</th>\n",
       "      <th>termdays</th>\n",
       "      <th>referredby</th>\n",
       "      <th>good_bad_flag</th>\n",
       "    </tr>\n",
       "  </thead>\n",
       "  <tbody>\n",
       "    <tr>\n",
       "      <th>0</th>\n",
       "      <td>8a858e135cb22031015cbafc76964ebd</td>\n",
       "      <td>1973-10-10 00:00:00.000000</td>\n",
       "      <td>Savings</td>\n",
       "      <td>3.319219</td>\n",
       "      <td>6.528604</td>\n",
       "      <td>GT Bank</td>\n",
       "      <td>NaN</td>\n",
       "      <td>NaN</td>\n",
       "      <td>NaN</td>\n",
       "      <td>301964962</td>\n",
       "      <td>2</td>\n",
       "      <td>2017-07-05 14:29:48.000000</td>\n",
       "      <td>2017-07-05 13:29:42.000000</td>\n",
       "      <td>10000.0</td>\n",
       "      <td>13000.0</td>\n",
       "      <td>30</td>\n",
       "      <td>8a858899538ddb8e0153a780c56e34bb</td>\n",
       "      <td>Good</td>\n",
       "    </tr>\n",
       "    <tr>\n",
       "      <th>1</th>\n",
       "      <td>8a858e275c7ea5ec015c82482d7c3996</td>\n",
       "      <td>1986-01-21 00:00:00.000000</td>\n",
       "      <td>Savings</td>\n",
       "      <td>3.325598</td>\n",
       "      <td>7.119403</td>\n",
       "      <td>Sterling Bank</td>\n",
       "      <td>NaN</td>\n",
       "      <td>Permanent</td>\n",
       "      <td>NaN</td>\n",
       "      <td>301972172</td>\n",
       "      <td>2</td>\n",
       "      <td>2017-07-10 21:21:46.000000</td>\n",
       "      <td>2017-07-10 20:21:40.000000</td>\n",
       "      <td>10000.0</td>\n",
       "      <td>13000.0</td>\n",
       "      <td>30</td>\n",
       "      <td>NaN</td>\n",
       "      <td>Bad</td>\n",
       "    </tr>\n",
       "    <tr>\n",
       "      <th>2</th>\n",
       "      <td>8a858e5b5bd99460015bdc95cd485634</td>\n",
       "      <td>1987-04-01 00:00:00.000000</td>\n",
       "      <td>Savings</td>\n",
       "      <td>5.746100</td>\n",
       "      <td>5.563174</td>\n",
       "      <td>Fidelity Bank</td>\n",
       "      <td>NaN</td>\n",
       "      <td>NaN</td>\n",
       "      <td>NaN</td>\n",
       "      <td>301976271</td>\n",
       "      <td>4</td>\n",
       "      <td>2017-07-13 15:40:27.000000</td>\n",
       "      <td>2017-07-13 14:40:19.000000</td>\n",
       "      <td>10000.0</td>\n",
       "      <td>13000.0</td>\n",
       "      <td>30</td>\n",
       "      <td>NaN</td>\n",
       "      <td>Good</td>\n",
       "    </tr>\n",
       "  </tbody>\n",
       "</table>\n",
       "</div>"
      ],
      "text/plain": [
       "                         customerid                   birthdate  \\\n",
       "0  8a858e135cb22031015cbafc76964ebd  1973-10-10 00:00:00.000000   \n",
       "1  8a858e275c7ea5ec015c82482d7c3996  1986-01-21 00:00:00.000000   \n",
       "2  8a858e5b5bd99460015bdc95cd485634  1987-04-01 00:00:00.000000   \n",
       "\n",
       "  bank_account_type  longitude_gps  latitude_gps bank_name_clients  \\\n",
       "0           Savings       3.319219      6.528604           GT Bank   \n",
       "1           Savings       3.325598      7.119403     Sterling Bank   \n",
       "2           Savings       5.746100      5.563174     Fidelity Bank   \n",
       "\n",
       "  bank_branch_clients employment_status_clients level_of_education_clients  \\\n",
       "0                 NaN                       NaN                        NaN   \n",
       "1                 NaN                 Permanent                        NaN   \n",
       "2                 NaN                       NaN                        NaN   \n",
       "\n",
       "   systemloanid  loannumber                approveddate  \\\n",
       "0     301964962           2  2017-07-05 14:29:48.000000   \n",
       "1     301972172           2  2017-07-10 21:21:46.000000   \n",
       "2     301976271           4  2017-07-13 15:40:27.000000   \n",
       "\n",
       "                 creationdate  loanamount  totaldue  termdays  \\\n",
       "0  2017-07-05 13:29:42.000000     10000.0   13000.0        30   \n",
       "1  2017-07-10 20:21:40.000000     10000.0   13000.0        30   \n",
       "2  2017-07-13 14:40:19.000000     10000.0   13000.0        30   \n",
       "\n",
       "                         referredby good_bad_flag  \n",
       "0  8a858899538ddb8e0153a780c56e34bb          Good  \n",
       "1                               NaN           Bad  \n",
       "2                               NaN          Good  "
      ]
     },
     "execution_count": 22,
     "metadata": {},
     "output_type": "execute_result"
    }
   ],
   "source": [
    "main.head(3)"
   ]
  },
  {
   "cell_type": "code",
   "execution_count": 23,
   "id": "b094ff05",
   "metadata": {},
   "outputs": [
    {
     "data": {
      "text/plain": [
       "(3277, 18)"
      ]
     },
     "execution_count": 23,
     "metadata": {},
     "output_type": "execute_result"
    }
   ],
   "source": [
    "main.shape"
   ]
  },
  {
   "cell_type": "code",
   "execution_count": 24,
   "id": "bbc2b1c6",
   "metadata": {
    "scrolled": true
   },
   "outputs": [
    {
     "name": "stdout",
     "output_type": "stream",
     "text": [
      "<class 'pandas.core.frame.DataFrame'>\n",
      "Int64Index: 3277 entries, 0 to 3276\n",
      "Data columns (total 18 columns):\n",
      " #   Column                      Non-Null Count  Dtype  \n",
      "---  ------                      --------------  -----  \n",
      " 0   customerid                  3277 non-null   object \n",
      " 1   birthdate                   3277 non-null   object \n",
      " 2   bank_account_type           3277 non-null   object \n",
      " 3   longitude_gps               3277 non-null   float64\n",
      " 4   latitude_gps                3277 non-null   float64\n",
      " 5   bank_name_clients           3277 non-null   object \n",
      " 6   bank_branch_clients         33 non-null     object \n",
      " 7   employment_status_clients   2784 non-null   object \n",
      " 8   level_of_education_clients  443 non-null    object \n",
      " 9   systemloanid                3277 non-null   int64  \n",
      " 10  loannumber                  3277 non-null   int64  \n",
      " 11  approveddate                3277 non-null   object \n",
      " 12  creationdate                3277 non-null   object \n",
      " 13  loanamount                  3277 non-null   float64\n",
      " 14  totaldue                    3277 non-null   float64\n",
      " 15  termdays                    3277 non-null   int64  \n",
      " 16  referredby                  450 non-null    object \n",
      " 17  good_bad_flag               3277 non-null   object \n",
      "dtypes: float64(4), int64(3), object(11)\n",
      "memory usage: 486.4+ KB\n"
     ]
    }
   ],
   "source": [
    "main.info()"
   ]
  },
  {
   "cell_type": "code",
   "execution_count": 25,
   "id": "0913b745",
   "metadata": {},
   "outputs": [
    {
     "data": {
      "text/plain": [
       "3269"
      ]
     },
     "execution_count": 25,
     "metadata": {},
     "output_type": "execute_result"
    }
   ],
   "source": [
    "# Unique entries.\n",
    "\n",
    "len(main['customerid'].unique())"
   ]
  },
  {
   "cell_type": "markdown",
   "id": "8d2e2acb",
   "metadata": {},
   "source": [
    "Since there are 3269 unique customers out of 3277, it implies 8 duplicates. We will check for these entries to be sure that they do not contain different information. Hence, we have an option to drop them (duplicates)"
   ]
  },
  {
   "cell_type": "code",
   "execution_count": 26,
   "id": "418f3098",
   "metadata": {},
   "outputs": [
    {
     "data": {
      "text/plain": [
       "True"
      ]
     },
     "execution_count": 26,
     "metadata": {},
     "output_type": "execute_result"
    }
   ],
   "source": [
    "# Are there duplicates?\n",
    "\n",
    "main.duplicated().any()"
   ]
  },
  {
   "cell_type": "code",
   "execution_count": 27,
   "id": "742050a9",
   "metadata": {},
   "outputs": [
    {
     "data": {
      "text/plain": [
       "8"
      ]
     },
     "execution_count": 27,
     "metadata": {},
     "output_type": "execute_result"
    }
   ],
   "source": [
    "# How many duplicates are in the dataset?\n",
    "\n",
    "main.duplicated().sum()"
   ]
  },
  {
   "cell_type": "code",
   "execution_count": 28,
   "id": "4779d856",
   "metadata": {
    "scrolled": true
   },
   "outputs": [
    {
     "data": {
      "text/plain": [
       "(3269, 18)"
      ]
     },
     "execution_count": 28,
     "metadata": {},
     "output_type": "execute_result"
    }
   ],
   "source": [
    "# Let us drop them.\n",
    "\n",
    "main = main.drop_duplicates()\n",
    "\n",
    "main.shape"
   ]
  },
  {
   "cell_type": "code",
   "execution_count": 29,
   "id": "03d06571",
   "metadata": {},
   "outputs": [
    {
     "data": {
      "text/html": [
       "<div>\n",
       "<style scoped>\n",
       "    .dataframe tbody tr th:only-of-type {\n",
       "        vertical-align: middle;\n",
       "    }\n",
       "\n",
       "    .dataframe tbody tr th {\n",
       "        vertical-align: top;\n",
       "    }\n",
       "\n",
       "    .dataframe thead th {\n",
       "        text-align: right;\n",
       "    }\n",
       "</style>\n",
       "<table border=\"1\" class=\"dataframe\">\n",
       "  <thead>\n",
       "    <tr style=\"text-align: right;\">\n",
       "      <th></th>\n",
       "      <th>longitude_gps</th>\n",
       "      <th>latitude_gps</th>\n",
       "      <th>systemloanid</th>\n",
       "      <th>loannumber</th>\n",
       "      <th>loanamount</th>\n",
       "      <th>totaldue</th>\n",
       "      <th>termdays</th>\n",
       "    </tr>\n",
       "  </thead>\n",
       "  <tbody>\n",
       "    <tr>\n",
       "      <th>count</th>\n",
       "      <td>3269.000000</td>\n",
       "      <td>3269.000000</td>\n",
       "      <td>3.269000e+03</td>\n",
       "      <td>3269.000000</td>\n",
       "      <td>3269.000000</td>\n",
       "      <td>3269.000000</td>\n",
       "      <td>3269.000000</td>\n",
       "    </tr>\n",
       "    <tr>\n",
       "      <th>mean</th>\n",
       "      <td>4.530975</td>\n",
       "      <td>7.290383</td>\n",
       "      <td>3.019807e+08</td>\n",
       "      <td>5.189660</td>\n",
       "      <td>17837.259101</td>\n",
       "      <td>21287.068064</td>\n",
       "      <td>29.252065</td>\n",
       "    </tr>\n",
       "    <tr>\n",
       "      <th>std</th>\n",
       "      <td>7.925454</td>\n",
       "      <td>3.269601</td>\n",
       "      <td>1.344962e+04</td>\n",
       "      <td>3.667166</td>\n",
       "      <td>10742.898110</td>\n",
       "      <td>11929.002681</td>\n",
       "      <td>11.403851</td>\n",
       "    </tr>\n",
       "    <tr>\n",
       "      <th>min</th>\n",
       "      <td>-118.247009</td>\n",
       "      <td>-33.868818</td>\n",
       "      <td>3.019585e+08</td>\n",
       "      <td>2.000000</td>\n",
       "      <td>10000.000000</td>\n",
       "      <td>10000.000000</td>\n",
       "      <td>15.000000</td>\n",
       "    </tr>\n",
       "    <tr>\n",
       "      <th>25%</th>\n",
       "      <td>3.354842</td>\n",
       "      <td>6.473645</td>\n",
       "      <td>3.019689e+08</td>\n",
       "      <td>2.000000</td>\n",
       "      <td>10000.000000</td>\n",
       "      <td>13000.000000</td>\n",
       "      <td>30.000000</td>\n",
       "    </tr>\n",
       "    <tr>\n",
       "      <th>50%</th>\n",
       "      <td>3.584222</td>\n",
       "      <td>6.625681</td>\n",
       "      <td>3.019794e+08</td>\n",
       "      <td>4.000000</td>\n",
       "      <td>10000.000000</td>\n",
       "      <td>13000.000000</td>\n",
       "      <td>30.000000</td>\n",
       "    </tr>\n",
       "    <tr>\n",
       "      <th>75%</th>\n",
       "      <td>6.439855</td>\n",
       "      <td>7.426745</td>\n",
       "      <td>3.019934e+08</td>\n",
       "      <td>7.000000</td>\n",
       "      <td>20000.000000</td>\n",
       "      <td>24500.000000</td>\n",
       "      <td>30.000000</td>\n",
       "    </tr>\n",
       "    <tr>\n",
       "      <th>max</th>\n",
       "      <td>151.209290</td>\n",
       "      <td>71.228069</td>\n",
       "      <td>3.020040e+08</td>\n",
       "      <td>27.000000</td>\n",
       "      <td>60000.000000</td>\n",
       "      <td>68100.000000</td>\n",
       "      <td>90.000000</td>\n",
       "    </tr>\n",
       "  </tbody>\n",
       "</table>\n",
       "</div>"
      ],
      "text/plain": [
       "       longitude_gps  latitude_gps  systemloanid   loannumber    loanamount  \\\n",
       "count    3269.000000   3269.000000  3.269000e+03  3269.000000   3269.000000   \n",
       "mean        4.530975      7.290383  3.019807e+08     5.189660  17837.259101   \n",
       "std         7.925454      3.269601  1.344962e+04     3.667166  10742.898110   \n",
       "min      -118.247009    -33.868818  3.019585e+08     2.000000  10000.000000   \n",
       "25%         3.354842      6.473645  3.019689e+08     2.000000  10000.000000   \n",
       "50%         3.584222      6.625681  3.019794e+08     4.000000  10000.000000   \n",
       "75%         6.439855      7.426745  3.019934e+08     7.000000  20000.000000   \n",
       "max       151.209290     71.228069  3.020040e+08    27.000000  60000.000000   \n",
       "\n",
       "           totaldue     termdays  \n",
       "count   3269.000000  3269.000000  \n",
       "mean   21287.068064    29.252065  \n",
       "std    11929.002681    11.403851  \n",
       "min    10000.000000    15.000000  \n",
       "25%    13000.000000    30.000000  \n",
       "50%    13000.000000    30.000000  \n",
       "75%    24500.000000    30.000000  \n",
       "max    68100.000000    90.000000  "
      ]
     },
     "execution_count": 29,
     "metadata": {},
     "output_type": "execute_result"
    }
   ],
   "source": [
    "# Descriptive Statistics.\n",
    "\n",
    "main.describe()"
   ]
  },
  {
   "cell_type": "code",
   "execution_count": 30,
   "id": "a6d5ef33",
   "metadata": {},
   "outputs": [
    {
     "data": {
      "text/plain": [
       "Index(['customerid', 'birthdate', 'bank_account_type', 'longitude_gps',\n",
       "       'latitude_gps', 'bank_name_clients', 'bank_branch_clients',\n",
       "       'employment_status_clients', 'level_of_education_clients',\n",
       "       'systemloanid', 'loannumber', 'approveddate', 'creationdate',\n",
       "       'loanamount', 'totaldue', 'termdays', 'referredby', 'good_bad_flag'],\n",
       "      dtype='object')"
      ]
     },
     "execution_count": 30,
     "metadata": {},
     "output_type": "execute_result"
    }
   ],
   "source": [
    "main.columns"
   ]
  },
  {
   "cell_type": "code",
   "execution_count": null,
   "id": "a198809d",
   "metadata": {},
   "outputs": [],
   "source": []
  },
  {
   "cell_type": "markdown",
   "id": "62d5bcbb",
   "metadata": {},
   "source": [
    "## Exploring Variables."
   ]
  },
  {
   "cell_type": "code",
   "execution_count": 31,
   "id": "58336c10",
   "metadata": {},
   "outputs": [
    {
     "data": {
      "text/plain": [
       "(3269, 8)"
      ]
     },
     "execution_count": 31,
     "metadata": {},
     "output_type": "execute_result"
    }
   ],
   "source": [
    "# Variable selection.\n",
    "\n",
    "# Dropping unwanted columns.\n",
    "columns_to_drop = ['customerid', 'longitude_gps', 'latitude_gps', 'bank_name_clients', 'bank_branch_clients', \n",
    "                   'systemloanid', 'approveddate', 'creationdate', 'totaldue', 'referredby']\n",
    "\n",
    "data = main.drop(columns_to_drop, axis=1)\n",
    "\n",
    "data.shape"
   ]
  },
  {
   "cell_type": "code",
   "execution_count": 32,
   "id": "b6bafa38",
   "metadata": {},
   "outputs": [
    {
     "data": {
      "text/plain": [
       "birthdate                        0\n",
       "bank_account_type                0\n",
       "employment_status_clients      493\n",
       "level_of_education_clients    2826\n",
       "loannumber                       0\n",
       "loanamount                       0\n",
       "termdays                         0\n",
       "good_bad_flag                    0\n",
       "dtype: int64"
      ]
     },
     "execution_count": 32,
     "metadata": {},
     "output_type": "execute_result"
    }
   ],
   "source": [
    "# Missing values\n",
    "\n",
    "data.isna().sum()"
   ]
  },
  {
   "cell_type": "code",
   "execution_count": 33,
   "id": "b3a4ec97",
   "metadata": {},
   "outputs": [],
   "source": [
    "# wrap the null responses as Nil, that is if i in a return employed elif ..., else Nil\n",
    "# Or data[data['employment_status_clients'] == null, 'employment'] = 'Nil'"
   ]
  },
  {
   "cell_type": "markdown",
   "id": "f7bc2f24",
   "metadata": {},
   "source": [
    "## ENCODING THE TARGET VARIABLE."
   ]
  },
  {
   "cell_type": "code",
   "execution_count": 34,
   "id": "295f97fc",
   "metadata": {},
   "outputs": [
    {
     "data": {
      "text/plain": [
       "Good    2556\n",
       "Bad      713\n",
       "Name: good_bad_flag, dtype: int64"
      ]
     },
     "execution_count": 34,
     "metadata": {},
     "output_type": "execute_result"
    }
   ],
   "source": [
    "# Target Variable\n",
    "# 'good_bad_flag'\n",
    "# Good implies non-default\n",
    "# Bad implies default\n",
    "\n",
    "\n",
    "data['good_bad_flag'].value_counts()"
   ]
  },
  {
   "cell_type": "code",
   "execution_count": 35,
   "id": "0729f213",
   "metadata": {},
   "outputs": [
    {
     "data": {
      "text/plain": [
       "1    2556\n",
       "0     713\n",
       "Name: good_bad_flag, dtype: int64"
      ]
     },
     "execution_count": 35,
     "metadata": {},
     "output_type": "execute_result"
    }
   ],
   "source": [
    "# LabelEncoder or LabelBinarizer are appropriate for encoding the target and not the features. \n",
    "# This is cos the target is being predicted, so the weights assigned by the algorithm during encoding will not affect our modeling.\n",
    "\n",
    "from sklearn.preprocessing import LabelEncoder\n",
    "\n",
    "encoder = LabelEncoder()\n",
    "data['good_bad_flag'] = encoder.fit_transform(data['good_bad_flag'])\n",
    "\n",
    "data['good_bad_flag'].value_counts()"
   ]
  },
  {
   "cell_type": "code",
   "execution_count": 36,
   "id": "b31630c0",
   "metadata": {},
   "outputs": [],
   "source": [
    "# LabelEncoder encodes in alphabetic order. Hence,\n",
    "# 0 = Bad and 1 = Good"
   ]
  },
  {
   "cell_type": "code",
   "execution_count": null,
   "id": "b3c8d889",
   "metadata": {},
   "outputs": [],
   "source": []
  },
  {
   "cell_type": "markdown",
   "id": "2768481f",
   "metadata": {},
   "source": [
    "## FEATURE ENGINEERING AGE FROM BIRTHDATE"
   ]
  },
  {
   "cell_type": "code",
   "execution_count": 37,
   "id": "79f1a458",
   "metadata": {},
   "outputs": [
    {
     "data": {
      "text/plain": [
       "0       1973-10-10 00:00:00.000000\n",
       "1       1986-01-21 00:00:00.000000\n",
       "2       1987-04-01 00:00:00.000000\n",
       "3       1991-07-19 00:00:00.000000\n",
       "4       1990-07-21 00:00:00.000000\n",
       "                   ...            \n",
       "3272    1982-10-19 00:00:00.000000\n",
       "3273    1986-02-16 00:00:00.000000\n",
       "3274    1983-06-07 00:00:00.000000\n",
       "3275    1985-12-13 00:00:00.000000\n",
       "3276    1982-07-01 00:00:00.000000\n",
       "Name: birthdate, Length: 3269, dtype: object"
      ]
     },
     "execution_count": 37,
     "metadata": {},
     "output_type": "execute_result"
    }
   ],
   "source": [
    "# 'birthdate'\n",
    "\n",
    "data['birthdate']"
   ]
  },
  {
   "cell_type": "code",
   "execution_count": 38,
   "id": "0662130f",
   "metadata": {},
   "outputs": [],
   "source": [
    "# Split the column into two to remove all those time counters (ie zeros).\n",
    "\n",
    "data[['date', 'time']] = data['birthdate'].str.split(expand=True)"
   ]
  },
  {
   "cell_type": "code",
   "execution_count": 39,
   "id": "fd35be92",
   "metadata": {},
   "outputs": [
    {
     "data": {
      "text/html": [
       "<div>\n",
       "<style scoped>\n",
       "    .dataframe tbody tr th:only-of-type {\n",
       "        vertical-align: middle;\n",
       "    }\n",
       "\n",
       "    .dataframe tbody tr th {\n",
       "        vertical-align: top;\n",
       "    }\n",
       "\n",
       "    .dataframe thead th {\n",
       "        text-align: right;\n",
       "    }\n",
       "</style>\n",
       "<table border=\"1\" class=\"dataframe\">\n",
       "  <thead>\n",
       "    <tr style=\"text-align: right;\">\n",
       "      <th></th>\n",
       "      <th>birthdate</th>\n",
       "      <th>bank_account_type</th>\n",
       "      <th>employment_status_clients</th>\n",
       "      <th>level_of_education_clients</th>\n",
       "      <th>loannumber</th>\n",
       "      <th>loanamount</th>\n",
       "      <th>termdays</th>\n",
       "      <th>good_bad_flag</th>\n",
       "      <th>date</th>\n",
       "      <th>time</th>\n",
       "    </tr>\n",
       "  </thead>\n",
       "  <tbody>\n",
       "    <tr>\n",
       "      <th>0</th>\n",
       "      <td>1973-10-10 00:00:00.000000</td>\n",
       "      <td>Savings</td>\n",
       "      <td>NaN</td>\n",
       "      <td>NaN</td>\n",
       "      <td>2</td>\n",
       "      <td>10000.0</td>\n",
       "      <td>30</td>\n",
       "      <td>1</td>\n",
       "      <td>1973-10-10</td>\n",
       "      <td>00:00:00.000000</td>\n",
       "    </tr>\n",
       "    <tr>\n",
       "      <th>1</th>\n",
       "      <td>1986-01-21 00:00:00.000000</td>\n",
       "      <td>Savings</td>\n",
       "      <td>Permanent</td>\n",
       "      <td>NaN</td>\n",
       "      <td>2</td>\n",
       "      <td>10000.0</td>\n",
       "      <td>30</td>\n",
       "      <td>0</td>\n",
       "      <td>1986-01-21</td>\n",
       "      <td>00:00:00.000000</td>\n",
       "    </tr>\n",
       "    <tr>\n",
       "      <th>2</th>\n",
       "      <td>1987-04-01 00:00:00.000000</td>\n",
       "      <td>Savings</td>\n",
       "      <td>NaN</td>\n",
       "      <td>NaN</td>\n",
       "      <td>4</td>\n",
       "      <td>10000.0</td>\n",
       "      <td>30</td>\n",
       "      <td>1</td>\n",
       "      <td>1987-04-01</td>\n",
       "      <td>00:00:00.000000</td>\n",
       "    </tr>\n",
       "    <tr>\n",
       "      <th>3</th>\n",
       "      <td>1991-07-19 00:00:00.000000</td>\n",
       "      <td>Savings</td>\n",
       "      <td>Permanent</td>\n",
       "      <td>NaN</td>\n",
       "      <td>2</td>\n",
       "      <td>10000.0</td>\n",
       "      <td>15</td>\n",
       "      <td>1</td>\n",
       "      <td>1991-07-19</td>\n",
       "      <td>00:00:00.000000</td>\n",
       "    </tr>\n",
       "    <tr>\n",
       "      <th>4</th>\n",
       "      <td>1990-07-21 00:00:00.000000</td>\n",
       "      <td>Savings</td>\n",
       "      <td>Permanent</td>\n",
       "      <td>NaN</td>\n",
       "      <td>6</td>\n",
       "      <td>20000.0</td>\n",
       "      <td>30</td>\n",
       "      <td>1</td>\n",
       "      <td>1990-07-21</td>\n",
       "      <td>00:00:00.000000</td>\n",
       "    </tr>\n",
       "    <tr>\n",
       "      <th>...</th>\n",
       "      <td>...</td>\n",
       "      <td>...</td>\n",
       "      <td>...</td>\n",
       "      <td>...</td>\n",
       "      <td>...</td>\n",
       "      <td>...</td>\n",
       "      <td>...</td>\n",
       "      <td>...</td>\n",
       "      <td>...</td>\n",
       "      <td>...</td>\n",
       "    </tr>\n",
       "    <tr>\n",
       "      <th>3272</th>\n",
       "      <td>1982-10-19 00:00:00.000000</td>\n",
       "      <td>Savings</td>\n",
       "      <td>Permanent</td>\n",
       "      <td>NaN</td>\n",
       "      <td>3</td>\n",
       "      <td>10000.0</td>\n",
       "      <td>15</td>\n",
       "      <td>0</td>\n",
       "      <td>1982-10-19</td>\n",
       "      <td>00:00:00.000000</td>\n",
       "    </tr>\n",
       "    <tr>\n",
       "      <th>3273</th>\n",
       "      <td>1986-02-16 00:00:00.000000</td>\n",
       "      <td>Savings</td>\n",
       "      <td>NaN</td>\n",
       "      <td>NaN</td>\n",
       "      <td>3</td>\n",
       "      <td>10000.0</td>\n",
       "      <td>15</td>\n",
       "      <td>1</td>\n",
       "      <td>1986-02-16</td>\n",
       "      <td>00:00:00.000000</td>\n",
       "    </tr>\n",
       "    <tr>\n",
       "      <th>3274</th>\n",
       "      <td>1983-06-07 00:00:00.000000</td>\n",
       "      <td>Other</td>\n",
       "      <td>Self-Employed</td>\n",
       "      <td>NaN</td>\n",
       "      <td>11</td>\n",
       "      <td>40000.0</td>\n",
       "      <td>30</td>\n",
       "      <td>1</td>\n",
       "      <td>1983-06-07</td>\n",
       "      <td>00:00:00.000000</td>\n",
       "    </tr>\n",
       "    <tr>\n",
       "      <th>3275</th>\n",
       "      <td>1985-12-13 00:00:00.000000</td>\n",
       "      <td>Other</td>\n",
       "      <td>Permanent</td>\n",
       "      <td>Graduate</td>\n",
       "      <td>7</td>\n",
       "      <td>20000.0</td>\n",
       "      <td>30</td>\n",
       "      <td>1</td>\n",
       "      <td>1985-12-13</td>\n",
       "      <td>00:00:00.000000</td>\n",
       "    </tr>\n",
       "    <tr>\n",
       "      <th>3276</th>\n",
       "      <td>1982-07-01 00:00:00.000000</td>\n",
       "      <td>Savings</td>\n",
       "      <td>NaN</td>\n",
       "      <td>NaN</td>\n",
       "      <td>2</td>\n",
       "      <td>10000.0</td>\n",
       "      <td>15</td>\n",
       "      <td>1</td>\n",
       "      <td>1982-07-01</td>\n",
       "      <td>00:00:00.000000</td>\n",
       "    </tr>\n",
       "  </tbody>\n",
       "</table>\n",
       "<p>3269 rows × 10 columns</p>\n",
       "</div>"
      ],
      "text/plain": [
       "                       birthdate bank_account_type employment_status_clients  \\\n",
       "0     1973-10-10 00:00:00.000000           Savings                       NaN   \n",
       "1     1986-01-21 00:00:00.000000           Savings                 Permanent   \n",
       "2     1987-04-01 00:00:00.000000           Savings                       NaN   \n",
       "3     1991-07-19 00:00:00.000000           Savings                 Permanent   \n",
       "4     1990-07-21 00:00:00.000000           Savings                 Permanent   \n",
       "...                          ...               ...                       ...   \n",
       "3272  1982-10-19 00:00:00.000000           Savings                 Permanent   \n",
       "3273  1986-02-16 00:00:00.000000           Savings                       NaN   \n",
       "3274  1983-06-07 00:00:00.000000             Other             Self-Employed   \n",
       "3275  1985-12-13 00:00:00.000000             Other                 Permanent   \n",
       "3276  1982-07-01 00:00:00.000000           Savings                       NaN   \n",
       "\n",
       "     level_of_education_clients  loannumber  loanamount  termdays  \\\n",
       "0                           NaN           2     10000.0        30   \n",
       "1                           NaN           2     10000.0        30   \n",
       "2                           NaN           4     10000.0        30   \n",
       "3                           NaN           2     10000.0        15   \n",
       "4                           NaN           6     20000.0        30   \n",
       "...                         ...         ...         ...       ...   \n",
       "3272                        NaN           3     10000.0        15   \n",
       "3273                        NaN           3     10000.0        15   \n",
       "3274                        NaN          11     40000.0        30   \n",
       "3275                   Graduate           7     20000.0        30   \n",
       "3276                        NaN           2     10000.0        15   \n",
       "\n",
       "      good_bad_flag        date             time  \n",
       "0                 1  1973-10-10  00:00:00.000000  \n",
       "1                 0  1986-01-21  00:00:00.000000  \n",
       "2                 1  1987-04-01  00:00:00.000000  \n",
       "3                 1  1991-07-19  00:00:00.000000  \n",
       "4                 1  1990-07-21  00:00:00.000000  \n",
       "...             ...         ...              ...  \n",
       "3272              0  1982-10-19  00:00:00.000000  \n",
       "3273              1  1986-02-16  00:00:00.000000  \n",
       "3274              1  1983-06-07  00:00:00.000000  \n",
       "3275              1  1985-12-13  00:00:00.000000  \n",
       "3276              1  1982-07-01  00:00:00.000000  \n",
       "\n",
       "[3269 rows x 10 columns]"
      ]
     },
     "execution_count": 39,
     "metadata": {},
     "output_type": "execute_result"
    }
   ],
   "source": [
    "data"
   ]
  },
  {
   "cell_type": "markdown",
   "id": "d947ea94",
   "metadata": {},
   "source": [
    "# OR"
   ]
  },
  {
   "cell_type": "code",
   "execution_count": 40,
   "id": "4eaa4bdb",
   "metadata": {},
   "outputs": [
    {
     "data": {
      "text/plain": [
       "dtype('<M8[ns]')"
      ]
     },
     "execution_count": 40,
     "metadata": {},
     "output_type": "execute_result"
    }
   ],
   "source": [
    "# Convert 'birthdate' to datetime format.\n",
    "import datetime\n",
    "\n",
    "data['birthdate'] = pd.to_datetime(data['birthdate'])\n",
    "data['birthdate'].dtype"
   ]
  },
  {
   "cell_type": "code",
   "execution_count": 41,
   "id": "c4c41781",
   "metadata": {},
   "outputs": [
    {
     "data": {
      "text/plain": [
       "0      1973-10-10\n",
       "1      1986-01-21\n",
       "2      1987-04-01\n",
       "3      1991-07-19\n",
       "4      1990-07-21\n",
       "          ...    \n",
       "3272   1982-10-19\n",
       "3273   1986-02-16\n",
       "3274   1983-06-07\n",
       "3275   1985-12-13\n",
       "3276   1982-07-01\n",
       "Name: birthdate, Length: 3269, dtype: datetime64[ns]"
      ]
     },
     "execution_count": 41,
     "metadata": {},
     "output_type": "execute_result"
    }
   ],
   "source": [
    "data['birthdate']"
   ]
  },
  {
   "cell_type": "code",
   "execution_count": 42,
   "id": "c7acff57",
   "metadata": {},
   "outputs": [
    {
     "data": {
      "text/plain": [
       "0      1973-10-10\n",
       "1      1986-01-21\n",
       "2      1987-04-01\n",
       "3      1991-07-19\n",
       "4      1990-07-21\n",
       "          ...    \n",
       "3272   1982-10-19\n",
       "3273   1986-02-16\n",
       "3274   1983-06-07\n",
       "3275   1985-12-13\n",
       "3276   1982-07-01\n",
       "Name: birthdate, Length: 3269, dtype: datetime64[ns]"
      ]
     },
     "execution_count": 42,
     "metadata": {},
     "output_type": "execute_result"
    }
   ],
   "source": [
    "data.birthdate"
   ]
  },
  {
   "cell_type": "code",
   "execution_count": 43,
   "id": "85514eea",
   "metadata": {},
   "outputs": [
    {
     "data": {
      "text/html": [
       "<div>\n",
       "<style scoped>\n",
       "    .dataframe tbody tr th:only-of-type {\n",
       "        vertical-align: middle;\n",
       "    }\n",
       "\n",
       "    .dataframe tbody tr th {\n",
       "        vertical-align: top;\n",
       "    }\n",
       "\n",
       "    .dataframe thead th {\n",
       "        text-align: right;\n",
       "    }\n",
       "</style>\n",
       "<table border=\"1\" class=\"dataframe\">\n",
       "  <thead>\n",
       "    <tr style=\"text-align: right;\">\n",
       "      <th></th>\n",
       "      <th>birthdate</th>\n",
       "      <th>bank_account_type</th>\n",
       "      <th>employment_status_clients</th>\n",
       "      <th>level_of_education_clients</th>\n",
       "      <th>loannumber</th>\n",
       "      <th>loanamount</th>\n",
       "      <th>termdays</th>\n",
       "      <th>good_bad_flag</th>\n",
       "      <th>date</th>\n",
       "      <th>time</th>\n",
       "      <th>year</th>\n",
       "    </tr>\n",
       "  </thead>\n",
       "  <tbody>\n",
       "    <tr>\n",
       "      <th>0</th>\n",
       "      <td>1973-10-10</td>\n",
       "      <td>Savings</td>\n",
       "      <td>NaN</td>\n",
       "      <td>NaN</td>\n",
       "      <td>2</td>\n",
       "      <td>10000.0</td>\n",
       "      <td>30</td>\n",
       "      <td>1</td>\n",
       "      <td>1973-10-10</td>\n",
       "      <td>00:00:00.000000</td>\n",
       "      <td>1973</td>\n",
       "    </tr>\n",
       "    <tr>\n",
       "      <th>1</th>\n",
       "      <td>1986-01-21</td>\n",
       "      <td>Savings</td>\n",
       "      <td>Permanent</td>\n",
       "      <td>NaN</td>\n",
       "      <td>2</td>\n",
       "      <td>10000.0</td>\n",
       "      <td>30</td>\n",
       "      <td>0</td>\n",
       "      <td>1986-01-21</td>\n",
       "      <td>00:00:00.000000</td>\n",
       "      <td>1986</td>\n",
       "    </tr>\n",
       "    <tr>\n",
       "      <th>2</th>\n",
       "      <td>1987-04-01</td>\n",
       "      <td>Savings</td>\n",
       "      <td>NaN</td>\n",
       "      <td>NaN</td>\n",
       "      <td>4</td>\n",
       "      <td>10000.0</td>\n",
       "      <td>30</td>\n",
       "      <td>1</td>\n",
       "      <td>1987-04-01</td>\n",
       "      <td>00:00:00.000000</td>\n",
       "      <td>1987</td>\n",
       "    </tr>\n",
       "  </tbody>\n",
       "</table>\n",
       "</div>"
      ],
      "text/plain": [
       "   birthdate bank_account_type employment_status_clients  \\\n",
       "0 1973-10-10           Savings                       NaN   \n",
       "1 1986-01-21           Savings                 Permanent   \n",
       "2 1987-04-01           Savings                       NaN   \n",
       "\n",
       "  level_of_education_clients  loannumber  loanamount  termdays  good_bad_flag  \\\n",
       "0                        NaN           2     10000.0        30              1   \n",
       "1                        NaN           2     10000.0        30              0   \n",
       "2                        NaN           4     10000.0        30              1   \n",
       "\n",
       "         date             time  year  \n",
       "0  1973-10-10  00:00:00.000000  1973  \n",
       "1  1986-01-21  00:00:00.000000  1986  \n",
       "2  1987-04-01  00:00:00.000000  1987  "
      ]
     },
     "execution_count": 43,
     "metadata": {},
     "output_type": "execute_result"
    }
   ],
   "source": [
    "# Creating a year column from birthdate,\n",
    "\n",
    "data['year'] = data['birthdate'].dt.year\n",
    "data.head(3)"
   ]
  },
  {
   "cell_type": "code",
   "execution_count": 44,
   "id": "4e354e88",
   "metadata": {},
   "outputs": [],
   "source": [
    "# Creating an age column.\n",
    "\n",
    "data['age'] = 2021 - data['year']"
   ]
  },
  {
   "cell_type": "code",
   "execution_count": 45,
   "id": "c1fb6e60",
   "metadata": {
    "scrolled": true
   },
   "outputs": [
    {
     "data": {
      "text/plain": [
       "35    243\n",
       "37    233\n",
       "36    220\n",
       "33    211\n",
       "34    203\n",
       "32    195\n",
       "38    190\n",
       "31    169\n",
       "39    168\n",
       "41    152\n",
       "40    145\n",
       "30    128\n",
       "29    124\n",
       "42    121\n",
       "43    104\n",
       "28     97\n",
       "44     80\n",
       "45     72\n",
       "46     69\n",
       "27     62\n",
       "47     55\n",
       "26     44\n",
       "49     33\n",
       "51     29\n",
       "48     28\n",
       "50     17\n",
       "52     14\n",
       "53     12\n",
       "54     12\n",
       "55     10\n",
       "56      8\n",
       "57      7\n",
       "59      5\n",
       "58      4\n",
       "25      3\n",
       "60      2\n",
       "Name: age, dtype: int64"
      ]
     },
     "execution_count": 45,
     "metadata": {},
     "output_type": "execute_result"
    }
   ],
   "source": [
    "data['age'].value_counts()"
   ]
  },
  {
   "cell_type": "code",
   "execution_count": 46,
   "id": "3d70c061",
   "metadata": {},
   "outputs": [
    {
     "data": {
      "text/plain": [
       "count    3269.000000\n",
       "mean       36.909758\n",
       "std         6.132223\n",
       "min        25.000000\n",
       "25%        32.000000\n",
       "50%        36.000000\n",
       "75%        41.000000\n",
       "max        60.000000\n",
       "Name: age, dtype: float64"
      ]
     },
     "execution_count": 46,
     "metadata": {},
     "output_type": "execute_result"
    }
   ],
   "source": [
    "# Describing the variable.\n",
    "\n",
    "data['age'].describe()"
   ]
  },
  {
   "cell_type": "code",
   "execution_count": 47,
   "id": "578af4ef",
   "metadata": {},
   "outputs": [
    {
     "name": "stderr",
     "output_type": "stream",
     "text": [
      "C:\\Users\\JAHFAITH IROKANULO\\anaconda3\\lib\\site-packages\\seaborn\\_decorators.py:36: FutureWarning: Pass the following variable as a keyword arg: x. From version 0.12, the only valid positional argument will be `data`, and passing other arguments without an explicit keyword will result in an error or misinterpretation.\n",
      "  warnings.warn(\n"
     ]
    },
    {
     "data": {
      "text/plain": [
       "<AxesSubplot:xlabel='age'>"
      ]
     },
     "execution_count": 47,
     "metadata": {},
     "output_type": "execute_result"
    },
    {
     "data": {
      "image/png": "[encoded data removed]",
      "text/plain": [
       "<Figure size 432x288 with 1 Axes>"
      ]
     },
     "metadata": {
      "needs_background": "light"
     },
     "output_type": "display_data"
    }
   ],
   "source": [
    "sns.boxplot(data['age'])"
   ]
  },
  {
   "cell_type": "code",
   "execution_count": 48,
   "id": "a935d605",
   "metadata": {},
   "outputs": [
    {
     "data": {
      "text/plain": [
       "(array([206., 421., 852., 643., 586., 256., 185.,  60.,  42.,  18.]),\n",
       " array([25. , 28.5, 32. , 35.5, 39. , 42.5, 46. , 49.5, 53. , 56.5, 60. ]),\n",
       " <BarContainer object of 10 artists>)"
      ]
     },
     "execution_count": 48,
     "metadata": {},
     "output_type": "execute_result"
    },
    {
     "data": {
      "image/png": "[encoded data removed]",
      "text/plain": [
       "<Figure size 432x288 with 1 Axes>"
      ]
     },
     "metadata": {
      "needs_background": "light"
     },
     "output_type": "display_data"
    }
   ],
   "source": [
    "# Using a histogram to access the distribution of the data.\n",
    "\n",
    "plt.hist(data['age'])"
   ]
  },
  {
   "cell_type": "code",
   "execution_count": 49,
   "id": "bfc58f63",
   "metadata": {},
   "outputs": [
    {
     "name": "stderr",
     "output_type": "stream",
     "text": [
      "C:\\Users\\JAHFAITH IROKANULO\\anaconda3\\lib\\site-packages\\seaborn\\distributions.py:2557: FutureWarning: `distplot` is a deprecated function and will be removed in a future version. Please adapt your code to use either `displot` (a figure-level function with similar flexibility) or `histplot` (an axes-level function for histograms).\n",
      "  warnings.warn(msg, FutureWarning)\n"
     ]
    },
    {
     "data": {
      "text/plain": [
       "<AxesSubplot:xlabel='age', ylabel='Density'>"
      ]
     },
     "execution_count": 49,
     "metadata": {},
     "output_type": "execute_result"
    },
    {
     "data": {
      "image/png": "[encoded data removed]",
      "text/plain": [
       "<Figure size 432x288 with 1 Axes>"
      ]
     },
     "metadata": {
      "needs_background": "light"
     },
     "output_type": "display_data"
    }
   ],
   "source": [
    "# Using a distplot to access the distribution of the data.\n",
    "\n",
    "sns.distplot(data['age'])"
   ]
  },
  {
   "cell_type": "code",
   "execution_count": 50,
   "id": "7b9f2d96",
   "metadata": {},
   "outputs": [
    {
     "data": {
      "text/plain": [
       "0.6906467937322351"
      ]
     },
     "execution_count": 50,
     "metadata": {},
     "output_type": "execute_result"
    }
   ],
   "source": [
    "# Skewness.\n",
    "\n",
    "data['age'].skew()"
   ]
  },
  {
   "cell_type": "markdown",
   "id": "c9560428",
   "metadata": {},
   "source": [
    "From the graphs above, the variable is slightly skewed to the right. Though it is almost a dumbbell shape, the skewness measure also showed that it is moderately skewed. Hence, it is good for use."
   ]
  },
  {
   "cell_type": "code",
   "execution_count": null,
   "id": "f1dbd3af",
   "metadata": {},
   "outputs": [],
   "source": []
  },
  {
   "cell_type": "markdown",
   "id": "49574c9f",
   "metadata": {},
   "source": [
    "## CLEANING OTHER INDEPENDENT VARIABLES (FEATURES)"
   ]
  },
  {
   "cell_type": "code",
   "execution_count": 51,
   "id": "1516e28a",
   "metadata": {},
   "outputs": [
    {
     "data": {
      "text/plain": [
       "Savings    2570\n",
       "Other       653\n",
       "Current      46\n",
       "Name: bank_account_type, dtype: int64"
      ]
     },
     "execution_count": 51,
     "metadata": {},
     "output_type": "execute_result"
    }
   ],
   "source": [
    "# 'bank_account_type'\n",
    "\n",
    "data['bank_account_type'].value_counts()"
   ]
  },
  {
   "cell_type": "code",
   "execution_count": 52,
   "id": "5ab49d81",
   "metadata": {},
   "outputs": [],
   "source": [
    "# reference category will be Current"
   ]
  },
  {
   "cell_type": "code",
   "execution_count": 53,
   "id": "439a8dc3",
   "metadata": {},
   "outputs": [
    {
     "name": "stderr",
     "output_type": "stream",
     "text": [
      "C:\\Users\\JAHFAITH IROKANULO\\anaconda3\\lib\\site-packages\\seaborn\\_decorators.py:36: FutureWarning: Pass the following variable as a keyword arg: x. From version 0.12, the only valid positional argument will be `data`, and passing other arguments without an explicit keyword will result in an error or misinterpretation.\n",
      "  warnings.warn(\n"
     ]
    },
    {
     "data": {
      "text/plain": [
       "<AxesSubplot:xlabel='bank_account_type', ylabel='count'>"
      ]
     },
     "execution_count": 53,
     "metadata": {},
     "output_type": "execute_result"
    },
    {
     "data": {
      "image/png": "[encoded data removed]",
      "text/plain": [
       "<Figure size 432x288 with 1 Axes>"
      ]
     },
     "metadata": {
      "needs_background": "light"
     },
     "output_type": "display_data"
    }
   ],
   "source": [
    "sns.countplot(data['bank_account_type'])"
   ]
  },
  {
   "cell_type": "code",
   "execution_count": null,
   "id": "33b8e6e9",
   "metadata": {},
   "outputs": [],
   "source": []
  },
  {
   "cell_type": "code",
   "execution_count": 54,
   "id": "bb3e2148",
   "metadata": {},
   "outputs": [
    {
     "data": {
      "text/plain": [
       "Permanent        2340\n",
       "Self-Employed     277\n",
       "Student           111\n",
       "Unemployed         43\n",
       "Retired             4\n",
       "Contract            1\n",
       "Name: employment_status_clients, dtype: int64"
      ]
     },
     "execution_count": 54,
     "metadata": {},
     "output_type": "execute_result"
    }
   ],
   "source": [
    "# 'employment_status_clients'\n",
    "\n",
    "data['employment_status_clients'].value_counts()"
   ]
  },
  {
   "cell_type": "code",
   "execution_count": 55,
   "id": "be4e92ae",
   "metadata": {},
   "outputs": [
    {
     "data": {
      "text/plain": [
       "array([nan, 'Permanent', 'Student', 'Self-Employed', 'Unemployed',\n",
       "       'Retired', 'Contract'], dtype=object)"
      ]
     },
     "execution_count": 55,
     "metadata": {},
     "output_type": "execute_result"
    }
   ],
   "source": [
    "data['employment_status_clients'].unique()"
   ]
  },
  {
   "cell_type": "code",
   "execution_count": 56,
   "id": "9c04715e",
   "metadata": {},
   "outputs": [
    {
     "data": {
      "text/plain": [
       "493"
      ]
     },
     "execution_count": 56,
     "metadata": {},
     "output_type": "execute_result"
    }
   ],
   "source": [
    "data['employment_status_clients'].isna().sum()"
   ]
  },
  {
   "cell_type": "code",
   "execution_count": 57,
   "id": "5e614442",
   "metadata": {},
   "outputs": [
    {
     "data": {
      "text/plain": [
       "0"
      ]
     },
     "execution_count": 57,
     "metadata": {},
     "output_type": "execute_result"
    }
   ],
   "source": [
    "# Replacing nan with an editable string.\n",
    "data['employment_status_clients'] = data['employment_status_clients'].replace(to_replace=np.nan, value='null', regex=True)\n",
    "\n",
    "# Checking if the process worked.\n",
    "data['employment_status_clients'].isna().sum()"
   ]
  },
  {
   "cell_type": "markdown",
   "id": "57a3e907",
   "metadata": {},
   "source": [
    "No more na or nan in the column as it has been replace with a string ('null')"
   ]
  },
  {
   "cell_type": "code",
   "execution_count": 58,
   "id": "d08c8796",
   "metadata": {},
   "outputs": [
    {
     "data": {
      "text/plain": [
       "array(['null', 'Permanent', 'Student', 'Self-Employed', 'Unemployed',\n",
       "       'Retired', 'Contract'], dtype=object)"
      ]
     },
     "execution_count": 58,
     "metadata": {},
     "output_type": "execute_result"
    }
   ],
   "source": [
    "data['employment_status_clients'].unique()"
   ]
  },
  {
   "cell_type": "code",
   "execution_count": 59,
   "id": "ea179a90",
   "metadata": {},
   "outputs": [
    {
     "data": {
      "text/plain": [
       "Permanent        2340\n",
       "null              493\n",
       "Self-Employed     277\n",
       "Student           111\n",
       "Unemployed         43\n",
       "Retired             4\n",
       "Contract            1\n",
       "Name: employment_status_clients, dtype: int64"
      ]
     },
     "execution_count": 59,
     "metadata": {},
     "output_type": "execute_result"
    }
   ],
   "source": [
    "data['employment_status_clients'].value_counts()"
   ]
  },
  {
   "cell_type": "code",
   "execution_count": 60,
   "id": "b40f5efa",
   "metadata": {},
   "outputs": [],
   "source": [
    "# Defining a function to restructure the column.\n",
    "# Permanent will be replaced with Employed,\n",
    "# Retired, Contract, and null will be replaced with Others.\n",
    "# Others could also cover for temporary employments and people who did not enter their job details.\n",
    "\n",
    "def replace_nan(x):\n",
    "    if x == 'Permanent':\n",
    "        return 'Employed'\n",
    "    elif x == 'Student':\n",
    "        return 'Student'\n",
    "    elif x == 'Self-Employed':\n",
    "        return 'Self-Employed'\n",
    "    elif x == 'Retired':\n",
    "        return 'Others'\n",
    "    elif x == 'Contract':\n",
    "        return 'Others'\n",
    "    elif x == 'Unemployed':\n",
    "        return 'Unemployed'\n",
    "    elif x == 'null':\n",
    "        return 'Others'\n",
    "    "
   ]
  },
  {
   "cell_type": "code",
   "execution_count": 61,
   "id": "b9d9200c",
   "metadata": {},
   "outputs": [],
   "source": [
    "data['employment_status_clients'] = data['employment_status_clients'].map(replace_nan)"
   ]
  },
  {
   "cell_type": "code",
   "execution_count": 62,
   "id": "d935f02d",
   "metadata": {},
   "outputs": [
    {
     "data": {
      "text/plain": [
       "array(['Others', 'Employed', 'Student', 'Self-Employed', 'Unemployed'],\n",
       "      dtype=object)"
      ]
     },
     "execution_count": 62,
     "metadata": {},
     "output_type": "execute_result"
    }
   ],
   "source": [
    "data['employment_status_clients'].unique()"
   ]
  },
  {
   "cell_type": "code",
   "execution_count": 63,
   "id": "a171ee81",
   "metadata": {},
   "outputs": [
    {
     "data": {
      "text/plain": [
       "Employed         2340\n",
       "Others            498\n",
       "Self-Employed     277\n",
       "Student           111\n",
       "Unemployed         43\n",
       "Name: employment_status_clients, dtype: int64"
      ]
     },
     "execution_count": 63,
     "metadata": {},
     "output_type": "execute_result"
    }
   ],
   "source": [
    "data['employment_status_clients'].value_counts()"
   ]
  },
  {
   "cell_type": "code",
   "execution_count": 64,
   "id": "e3624385",
   "metadata": {},
   "outputs": [],
   "source": [
    "# reference category will be Unemployed"
   ]
  },
  {
   "cell_type": "code",
   "execution_count": null,
   "id": "f2a80948",
   "metadata": {},
   "outputs": [],
   "source": []
  },
  {
   "cell_type": "code",
   "execution_count": 65,
   "id": "2a4b15d4",
   "metadata": {},
   "outputs": [
    {
     "data": {
      "text/plain": [
       "Graduate         321\n",
       "Secondary         65\n",
       "Post-Graduate     50\n",
       "Primary            7\n",
       "Name: level_of_education_clients, dtype: int64"
      ]
     },
     "execution_count": 65,
     "metadata": {},
     "output_type": "execute_result"
    }
   ],
   "source": [
    "# 'level_of_education_clients'\n",
    "\n",
    "data['level_of_education_clients'].value_counts()"
   ]
  },
  {
   "cell_type": "code",
   "execution_count": 66,
   "id": "6b705112",
   "metadata": {},
   "outputs": [
    {
     "data": {
      "text/plain": [
       "array([nan, 'Secondary', 'Graduate', 'Post-Graduate', 'Primary'],\n",
       "      dtype=object)"
      ]
     },
     "execution_count": 66,
     "metadata": {},
     "output_type": "execute_result"
    }
   ],
   "source": [
    "data['level_of_education_clients'].unique()"
   ]
  },
  {
   "cell_type": "code",
   "execution_count": 67,
   "id": "1730de83",
   "metadata": {},
   "outputs": [
    {
     "data": {
      "text/plain": [
       "2826"
      ]
     },
     "execution_count": 67,
     "metadata": {},
     "output_type": "execute_result"
    }
   ],
   "source": [
    "data['level_of_education_clients'].isna().sum()"
   ]
  },
  {
   "cell_type": "code",
   "execution_count": 68,
   "id": "8d55c28d",
   "metadata": {},
   "outputs": [
    {
     "data": {
      "text/plain": [
       "(3269, 12)"
      ]
     },
     "execution_count": 68,
     "metadata": {},
     "output_type": "execute_result"
    }
   ],
   "source": [
    "data.shape"
   ]
  },
  {
   "cell_type": "code",
   "execution_count": 69,
   "id": "a7f81dd2",
   "metadata": {},
   "outputs": [
    {
     "data": {
      "text/plain": [
       "array([  443, -2814])"
      ]
     },
     "execution_count": 69,
     "metadata": {},
     "output_type": "execute_result"
    }
   ],
   "source": [
    "data.shape - data['level_of_education_clients'].isna().sum()"
   ]
  },
  {
   "cell_type": "code",
   "execution_count": 70,
   "id": "8caa4b31",
   "metadata": {},
   "outputs": [
    {
     "data": {
      "text/plain": [
       "86.4484551850719"
      ]
     },
     "execution_count": 70,
     "metadata": {},
     "output_type": "execute_result"
    }
   ],
   "source": [
    "# Checking for the percentage of missing values in this column.\n",
    "# (number of missing data / total number of rows) * 100\n",
    "\n",
    "(data['level_of_education_clients'].isna().sum() / data.shape[0]) * 100"
   ]
  },
  {
   "cell_type": "markdown",
   "id": "bfae89c6",
   "metadata": {},
   "source": [
    "We may need to drop this column because 86.45% of the data is missing."
   ]
  },
  {
   "cell_type": "code",
   "execution_count": null,
   "id": "7ad90937",
   "metadata": {},
   "outputs": [],
   "source": []
  },
  {
   "cell_type": "code",
   "execution_count": 71,
   "id": "503807ee",
   "metadata": {},
   "outputs": [
    {
     "data": {
      "text/plain": [
       "dtype('int64')"
      ]
     },
     "execution_count": 71,
     "metadata": {},
     "output_type": "execute_result"
    }
   ],
   "source": [
    "# 'loannumber'\n",
    "\n",
    "data['loannumber'].dtype"
   ]
  },
  {
   "cell_type": "code",
   "execution_count": 72,
   "id": "49207b08",
   "metadata": {},
   "outputs": [
    {
     "name": "stderr",
     "output_type": "stream",
     "text": [
      "C:\\Users\\JAHFAITH IROKANULO\\anaconda3\\lib\\site-packages\\seaborn\\_decorators.py:36: FutureWarning: Pass the following variable as a keyword arg: x. From version 0.12, the only valid positional argument will be `data`, and passing other arguments without an explicit keyword will result in an error or misinterpretation.\n",
      "  warnings.warn(\n"
     ]
    },
    {
     "data": {
      "text/plain": [
       "<AxesSubplot:xlabel='loannumber'>"
      ]
     },
     "execution_count": 72,
     "metadata": {},
     "output_type": "execute_result"
    },
    {
     "data": {
      "image/png": "[encoded data removed]",
      "text/plain": [
       "<Figure size 432x288 with 1 Axes>"
      ]
     },
     "metadata": {
      "needs_background": "light"
     },
     "output_type": "display_data"
    }
   ],
   "source": [
    "# Outliers do not really affect dual class systems cos they fall into one of two categories.\n",
    "# But it is important to check for outliers in the target variables of regression problems.\n",
    "\n",
    "sns.boxplot(data['loannumber'])"
   ]
  },
  {
   "cell_type": "code",
   "execution_count": 73,
   "id": "039077cb",
   "metadata": {},
   "outputs": [
    {
     "name": "stderr",
     "output_type": "stream",
     "text": [
      "C:\\Users\\JAHFAITH IROKANULO\\anaconda3\\lib\\site-packages\\seaborn\\distributions.py:2557: FutureWarning: `distplot` is a deprecated function and will be removed in a future version. Please adapt your code to use either `displot` (a figure-level function with similar flexibility) or `histplot` (an axes-level function for histograms).\n",
      "  warnings.warn(msg, FutureWarning)\n"
     ]
    },
    {
     "data": {
      "text/plain": [
       "<AxesSubplot:xlabel='loannumber', ylabel='Density'>"
      ]
     },
     "execution_count": 73,
     "metadata": {},
     "output_type": "execute_result"
    },
    {
     "data": {
      "image/png": "[encoded data removed]",
      "text/plain": [
       "<Figure size 432x288 with 1 Axes>"
      ]
     },
     "metadata": {
      "needs_background": "light"
     },
     "output_type": "display_data"
    }
   ],
   "source": [
    "sns.distplot(data['loannumber'])"
   ]
  },
  {
   "cell_type": "code",
   "execution_count": 74,
   "id": "44d32b3f",
   "metadata": {},
   "outputs": [
    {
     "data": {
      "text/plain": [
       "count    3269.000000\n",
       "mean        5.189660\n",
       "std         3.667166\n",
       "min         2.000000\n",
       "25%         2.000000\n",
       "50%         4.000000\n",
       "75%         7.000000\n",
       "max        27.000000\n",
       "Name: loannumber, dtype: float64"
      ]
     },
     "execution_count": 74,
     "metadata": {},
     "output_type": "execute_result"
    }
   ],
   "source": [
    "data['loannumber'].describe()"
   ]
  },
  {
   "cell_type": "code",
   "execution_count": 75,
   "id": "1c1b7f3c",
   "metadata": {},
   "outputs": [
    {
     "data": {
      "text/plain": [
       "1.3191106662821894"
      ]
     },
     "execution_count": 75,
     "metadata": {},
     "output_type": "execute_result"
    }
   ],
   "source": [
    "data['loannumber'].skew()"
   ]
  },
  {
   "cell_type": "markdown",
   "id": "3a479c47",
   "metadata": {},
   "source": [
    "loannumber is highly skewed to the right since its skewness is greater than 1.0, it is also made visible through the distplot above. It can be corrected by log transformation (np.log) or normalization (standardscaler)."
   ]
  },
  {
   "cell_type": "code",
   "execution_count": null,
   "id": "ab7bf3bb",
   "metadata": {},
   "outputs": [],
   "source": []
  },
  {
   "cell_type": "code",
   "execution_count": 76,
   "id": "775f7a84",
   "metadata": {},
   "outputs": [
    {
     "name": "stderr",
     "output_type": "stream",
     "text": [
      "C:\\Users\\JAHFAITH IROKANULO\\anaconda3\\lib\\site-packages\\seaborn\\_decorators.py:36: FutureWarning: Pass the following variable as a keyword arg: x. From version 0.12, the only valid positional argument will be `data`, and passing other arguments without an explicit keyword will result in an error or misinterpretation.\n",
      "  warnings.warn(\n"
     ]
    },
    {
     "data": {
      "text/plain": [
       "<AxesSubplot:xlabel='loanamount'>"
      ]
     },
     "execution_count": 76,
     "metadata": {},
     "output_type": "execute_result"
    },
    {
     "data": {
      "image/png": "[encoded data removed]",
      "text/plain": [
       "<Figure size 432x288 with 1 Axes>"
      ]
     },
     "metadata": {
      "needs_background": "light"
     },
     "output_type": "display_data"
    }
   ],
   "source": [
    "# 'loanamount'\n",
    "\n",
    "sns.boxplot(data['loanamount'])"
   ]
  },
  {
   "cell_type": "code",
   "execution_count": 77,
   "id": "0bd307e9",
   "metadata": {},
   "outputs": [
    {
     "name": "stderr",
     "output_type": "stream",
     "text": [
      "C:\\Users\\JAHFAITH IROKANULO\\anaconda3\\lib\\site-packages\\seaborn\\distributions.py:2557: FutureWarning: `distplot` is a deprecated function and will be removed in a future version. Please adapt your code to use either `displot` (a figure-level function with similar flexibility) or `histplot` (an axes-level function for histograms).\n",
      "  warnings.warn(msg, FutureWarning)\n"
     ]
    },
    {
     "data": {
      "text/plain": [
       "<AxesSubplot:xlabel='loanamount', ylabel='Density'>"
      ]
     },
     "execution_count": 77,
     "metadata": {},
     "output_type": "execute_result"
    },
    {
     "data": {
      "image/png": "[encoded data removed]",
      "text/plain": [
       "<Figure size 432x288 with 1 Axes>"
      ]
     },
     "metadata": {
      "needs_background": "light"
     },
     "output_type": "display_data"
    }
   ],
   "source": [
    "sns.distplot(data['loanamount'])"
   ]
  },
  {
   "cell_type": "code",
   "execution_count": 78,
   "id": "fcb45a30",
   "metadata": {},
   "outputs": [
    {
     "data": {
      "text/plain": [
       "(array([1835.,   66.,  582.,   19.,  447.,    9.,  248.,    0.,   57.,\n",
       "           6.]),\n",
       " array([10000., 15000., 20000., 25000., 30000., 35000., 40000., 45000.,\n",
       "        50000., 55000., 60000.]),\n",
       " <BarContainer object of 10 artists>)"
      ]
     },
     "execution_count": 78,
     "metadata": {},
     "output_type": "execute_result"
    },
    {
     "data": {
      "image/png": "[encoded data removed]",
      "text/plain": [
       "<Figure size 432x288 with 1 Axes>"
      ]
     },
     "metadata": {
      "needs_background": "light"
     },
     "output_type": "display_data"
    }
   ],
   "source": [
    "plt.hist(data['loanamount'])"
   ]
  },
  {
   "cell_type": "code",
   "execution_count": 79,
   "id": "2b28bf11",
   "metadata": {},
   "outputs": [
    {
     "data": {
      "text/plain": [
       "1.2406233255734334"
      ]
     },
     "execution_count": 79,
     "metadata": {},
     "output_type": "execute_result"
    }
   ],
   "source": [
    "data['loanamount'].skew()"
   ]
  },
  {
   "cell_type": "markdown",
   "id": "58b17905",
   "metadata": {},
   "source": [
    "loanamount is highly positively skewed."
   ]
  },
  {
   "cell_type": "code",
   "execution_count": null,
   "id": "9b96bb4a",
   "metadata": {},
   "outputs": [],
   "source": []
  },
  {
   "cell_type": "code",
   "execution_count": 80,
   "id": "c119c09e",
   "metadata": {},
   "outputs": [
    {
     "data": {
      "text/plain": [
       "30    2344\n",
       "15     685\n",
       "60     219\n",
       "90      21\n",
       "Name: termdays, dtype: int64"
      ]
     },
     "execution_count": 80,
     "metadata": {},
     "output_type": "execute_result"
    }
   ],
   "source": [
    "# 'termdays'\n",
    "# This should be converted to string because it is categorical in nature.\n",
    "# If it isn't, the machine may read 60days as having more weight than 30days and may rank them in terms of number.\n",
    "\n",
    "data['termdays'].value_counts()"
   ]
  },
  {
   "cell_type": "code",
   "execution_count": 81,
   "id": "f7ed780b",
   "metadata": {},
   "outputs": [
    {
     "data": {
      "text/plain": [
       "array([30, 15, 60, 90], dtype=int64)"
      ]
     },
     "execution_count": 81,
     "metadata": {},
     "output_type": "execute_result"
    }
   ],
   "source": [
    "data['termdays'].unique()"
   ]
  },
  {
   "cell_type": "code",
   "execution_count": 82,
   "id": "9acc36a6",
   "metadata": {},
   "outputs": [
    {
     "name": "stderr",
     "output_type": "stream",
     "text": [
      "C:\\Users\\JAHFAITH IROKANULO\\anaconda3\\lib\\site-packages\\seaborn\\_decorators.py:36: FutureWarning: Pass the following variable as a keyword arg: x. From version 0.12, the only valid positional argument will be `data`, and passing other arguments without an explicit keyword will result in an error or misinterpretation.\n",
      "  warnings.warn(\n"
     ]
    },
    {
     "data": {
      "text/plain": [
       "<AxesSubplot:xlabel='termdays', ylabel='count'>"
      ]
     },
     "execution_count": 82,
     "metadata": {},
     "output_type": "execute_result"
    },
    {
     "data": {
      "image/png": "[encoded data removed]",
      "text/plain": [
       "<Figure size 432x288 with 1 Axes>"
      ]
     },
     "metadata": {
      "needs_background": "light"
     },
     "output_type": "display_data"
    }
   ],
   "source": [
    "sns.countplot(data['termdays'])"
   ]
  },
  {
   "cell_type": "code",
   "execution_count": 83,
   "id": "e0e62cd7",
   "metadata": {},
   "outputs": [],
   "source": [
    "# reference_category will be 90days."
   ]
  },
  {
   "cell_type": "code",
   "execution_count": 84,
   "id": "294d0a8e",
   "metadata": {},
   "outputs": [
    {
     "data": {
      "text/plain": [
       "dtype('O')"
      ]
     },
     "execution_count": 84,
     "metadata": {},
     "output_type": "execute_result"
    }
   ],
   "source": [
    "# Converting 'termdays' to category.\n",
    "\n",
    "data['termdays'] = data['termdays'].astype('str')\n",
    "\n",
    "data['termdays'].dtypes"
   ]
  },
  {
   "cell_type": "code",
   "execution_count": null,
   "id": "d141acc4",
   "metadata": {},
   "outputs": [],
   "source": []
  },
  {
   "cell_type": "code",
   "execution_count": 85,
   "id": "214870f9",
   "metadata": {},
   "outputs": [
    {
     "data": {
      "text/plain": [
       "(3269, 7)"
      ]
     },
     "execution_count": 85,
     "metadata": {},
     "output_type": "execute_result"
    }
   ],
   "source": [
    "# Dropping unwanted columns\n",
    "data = data.drop(['birthdate', 'level_of_education_clients', 'date', 'time', 'year'], axis=1)\n",
    "\n",
    "data.shape"
   ]
  },
  {
   "cell_type": "code",
   "execution_count": null,
   "id": "97bb2607",
   "metadata": {},
   "outputs": [],
   "source": []
  },
  {
   "cell_type": "code",
   "execution_count": 86,
   "id": "1485a6b0",
   "metadata": {},
   "outputs": [],
   "source": [
    "# Selecting only categorical features.\n",
    "cat_variables = data.select_dtypes(include=['object'])\n",
    "\n",
    "# Selecting only numeric features.\n",
    "num_variables = data.select_dtypes(exclude=['object'])"
   ]
  },
  {
   "cell_type": "markdown",
   "id": "3e68d604",
   "metadata": {},
   "source": [
    "## Dummify Categorical variables"
   ]
  },
  {
   "cell_type": "code",
   "execution_count": 87,
   "id": "81a96f21",
   "metadata": {},
   "outputs": [
    {
     "data": {
      "text/html": [
       "<div>\n",
       "<style scoped>\n",
       "    .dataframe tbody tr th:only-of-type {\n",
       "        vertical-align: middle;\n",
       "    }\n",
       "\n",
       "    .dataframe tbody tr th {\n",
       "        vertical-align: top;\n",
       "    }\n",
       "\n",
       "    .dataframe thead th {\n",
       "        text-align: right;\n",
       "    }\n",
       "</style>\n",
       "<table border=\"1\" class=\"dataframe\">\n",
       "  <thead>\n",
       "    <tr style=\"text-align: right;\">\n",
       "      <th></th>\n",
       "      <th>bank_account_type</th>\n",
       "      <th>employment_status_clients</th>\n",
       "      <th>termdays</th>\n",
       "    </tr>\n",
       "  </thead>\n",
       "  <tbody>\n",
       "    <tr>\n",
       "      <th>0</th>\n",
       "      <td>Savings</td>\n",
       "      <td>Others</td>\n",
       "      <td>30</td>\n",
       "    </tr>\n",
       "    <tr>\n",
       "      <th>1</th>\n",
       "      <td>Savings</td>\n",
       "      <td>Employed</td>\n",
       "      <td>30</td>\n",
       "    </tr>\n",
       "    <tr>\n",
       "      <th>2</th>\n",
       "      <td>Savings</td>\n",
       "      <td>Others</td>\n",
       "      <td>30</td>\n",
       "    </tr>\n",
       "  </tbody>\n",
       "</table>\n",
       "</div>"
      ],
      "text/plain": [
       "  bank_account_type employment_status_clients termdays\n",
       "0           Savings                    Others       30\n",
       "1           Savings                  Employed       30\n",
       "2           Savings                    Others       30"
      ]
     },
     "execution_count": 87,
     "metadata": {},
     "output_type": "execute_result"
    }
   ],
   "source": [
    "cat_variables.head(3)"
   ]
  },
  {
   "cell_type": "code",
   "execution_count": 88,
   "id": "8e265829",
   "metadata": {},
   "outputs": [
    {
     "data": {
      "text/html": [
       "<div>\n",
       "<style scoped>\n",
       "    .dataframe tbody tr th:only-of-type {\n",
       "        vertical-align: middle;\n",
       "    }\n",
       "\n",
       "    .dataframe tbody tr th {\n",
       "        vertical-align: top;\n",
       "    }\n",
       "\n",
       "    .dataframe thead th {\n",
       "        text-align: right;\n",
       "    }\n",
       "</style>\n",
       "<table border=\"1\" class=\"dataframe\">\n",
       "  <thead>\n",
       "    <tr style=\"text-align: right;\">\n",
       "      <th></th>\n",
       "      <th>bank_account_type_Current</th>\n",
       "      <th>bank_account_type_Other</th>\n",
       "      <th>bank_account_type_Savings</th>\n",
       "      <th>employment_status_clients_Employed</th>\n",
       "      <th>employment_status_clients_Others</th>\n",
       "      <th>employment_status_clients_Self-Employed</th>\n",
       "      <th>employment_status_clients_Student</th>\n",
       "      <th>employment_status_clients_Unemployed</th>\n",
       "      <th>termdays_15</th>\n",
       "      <th>termdays_30</th>\n",
       "      <th>termdays_60</th>\n",
       "      <th>termdays_90</th>\n",
       "    </tr>\n",
       "  </thead>\n",
       "  <tbody>\n",
       "    <tr>\n",
       "      <th>0</th>\n",
       "      <td>0</td>\n",
       "      <td>0</td>\n",
       "      <td>1</td>\n",
       "      <td>0</td>\n",
       "      <td>1</td>\n",
       "      <td>0</td>\n",
       "      <td>0</td>\n",
       "      <td>0</td>\n",
       "      <td>0</td>\n",
       "      <td>1</td>\n",
       "      <td>0</td>\n",
       "      <td>0</td>\n",
       "    </tr>\n",
       "    <tr>\n",
       "      <th>1</th>\n",
       "      <td>0</td>\n",
       "      <td>0</td>\n",
       "      <td>1</td>\n",
       "      <td>1</td>\n",
       "      <td>0</td>\n",
       "      <td>0</td>\n",
       "      <td>0</td>\n",
       "      <td>0</td>\n",
       "      <td>0</td>\n",
       "      <td>1</td>\n",
       "      <td>0</td>\n",
       "      <td>0</td>\n",
       "    </tr>\n",
       "    <tr>\n",
       "      <th>2</th>\n",
       "      <td>0</td>\n",
       "      <td>0</td>\n",
       "      <td>1</td>\n",
       "      <td>0</td>\n",
       "      <td>1</td>\n",
       "      <td>0</td>\n",
       "      <td>0</td>\n",
       "      <td>0</td>\n",
       "      <td>0</td>\n",
       "      <td>1</td>\n",
       "      <td>0</td>\n",
       "      <td>0</td>\n",
       "    </tr>\n",
       "    <tr>\n",
       "      <th>3</th>\n",
       "      <td>0</td>\n",
       "      <td>0</td>\n",
       "      <td>1</td>\n",
       "      <td>1</td>\n",
       "      <td>0</td>\n",
       "      <td>0</td>\n",
       "      <td>0</td>\n",
       "      <td>0</td>\n",
       "      <td>1</td>\n",
       "      <td>0</td>\n",
       "      <td>0</td>\n",
       "      <td>0</td>\n",
       "    </tr>\n",
       "    <tr>\n",
       "      <th>4</th>\n",
       "      <td>0</td>\n",
       "      <td>0</td>\n",
       "      <td>1</td>\n",
       "      <td>1</td>\n",
       "      <td>0</td>\n",
       "      <td>0</td>\n",
       "      <td>0</td>\n",
       "      <td>0</td>\n",
       "      <td>0</td>\n",
       "      <td>1</td>\n",
       "      <td>0</td>\n",
       "      <td>0</td>\n",
       "    </tr>\n",
       "  </tbody>\n",
       "</table>\n",
       "</div>"
      ],
      "text/plain": [
       "   bank_account_type_Current  bank_account_type_Other  \\\n",
       "0                          0                        0   \n",
       "1                          0                        0   \n",
       "2                          0                        0   \n",
       "3                          0                        0   \n",
       "4                          0                        0   \n",
       "\n",
       "   bank_account_type_Savings  employment_status_clients_Employed  \\\n",
       "0                          1                                   0   \n",
       "1                          1                                   1   \n",
       "2                          1                                   0   \n",
       "3                          1                                   1   \n",
       "4                          1                                   1   \n",
       "\n",
       "   employment_status_clients_Others  employment_status_clients_Self-Employed  \\\n",
       "0                                 1                                        0   \n",
       "1                                 0                                        0   \n",
       "2                                 1                                        0   \n",
       "3                                 0                                        0   \n",
       "4                                 0                                        0   \n",
       "\n",
       "   employment_status_clients_Student  employment_status_clients_Unemployed  \\\n",
       "0                                  0                                     0   \n",
       "1                                  0                                     0   \n",
       "2                                  0                                     0   \n",
       "3                                  0                                     0   \n",
       "4                                  0                                     0   \n",
       "\n",
       "   termdays_15  termdays_30  termdays_60  termdays_90  \n",
       "0            0            1            0            0  \n",
       "1            0            1            0            0  \n",
       "2            0            1            0            0  \n",
       "3            1            0            0            0  \n",
       "4            0            1            0            0  "
      ]
     },
     "execution_count": 88,
     "metadata": {},
     "output_type": "execute_result"
    }
   ],
   "source": [
    "dummy_variables = pd.get_dummies(cat_variables)\n",
    "dummy_variables.head()"
   ]
  },
  {
   "cell_type": "code",
   "execution_count": 89,
   "id": "ae43e24b",
   "metadata": {},
   "outputs": [],
   "source": [
    "# Reference categories.\n",
    "reference_categories = ['bank_account_type_Current', 'employment_status_clients_Unemployed', 'termdays_90']\n",
    "\n",
    "# Drop reference categories to avoid multicollinearity.\n",
    "dummy_variables = dummy_variables.drop(reference_categories, axis=1)"
   ]
  },
  {
   "cell_type": "code",
   "execution_count": null,
   "id": "3371e173",
   "metadata": {},
   "outputs": [],
   "source": []
  },
  {
   "cell_type": "code",
   "execution_count": 90,
   "id": "8dc978fc",
   "metadata": {},
   "outputs": [
    {
     "data": {
      "text/html": [
       "<div>\n",
       "<style scoped>\n",
       "    .dataframe tbody tr th:only-of-type {\n",
       "        vertical-align: middle;\n",
       "    }\n",
       "\n",
       "    .dataframe tbody tr th {\n",
       "        vertical-align: top;\n",
       "    }\n",
       "\n",
       "    .dataframe thead th {\n",
       "        text-align: right;\n",
       "    }\n",
       "</style>\n",
       "<table border=\"1\" class=\"dataframe\">\n",
       "  <thead>\n",
       "    <tr style=\"text-align: right;\">\n",
       "      <th></th>\n",
       "      <th>loannumber</th>\n",
       "      <th>loanamount</th>\n",
       "      <th>good_bad_flag</th>\n",
       "      <th>age</th>\n",
       "    </tr>\n",
       "  </thead>\n",
       "  <tbody>\n",
       "    <tr>\n",
       "      <th>0</th>\n",
       "      <td>2</td>\n",
       "      <td>10000.0</td>\n",
       "      <td>1</td>\n",
       "      <td>48</td>\n",
       "    </tr>\n",
       "    <tr>\n",
       "      <th>1</th>\n",
       "      <td>2</td>\n",
       "      <td>10000.0</td>\n",
       "      <td>0</td>\n",
       "      <td>35</td>\n",
       "    </tr>\n",
       "    <tr>\n",
       "      <th>2</th>\n",
       "      <td>4</td>\n",
       "      <td>10000.0</td>\n",
       "      <td>1</td>\n",
       "      <td>34</td>\n",
       "    </tr>\n",
       "  </tbody>\n",
       "</table>\n",
       "</div>"
      ],
      "text/plain": [
       "   loannumber  loanamount  good_bad_flag  age\n",
       "0           2     10000.0              1   48\n",
       "1           2     10000.0              0   35\n",
       "2           4     10000.0              1   34"
      ]
     },
     "execution_count": 90,
     "metadata": {},
     "output_type": "execute_result"
    }
   ],
   "source": [
    "num_variables.head(3)"
   ]
  },
  {
   "cell_type": "code",
   "execution_count": 91,
   "id": "bee899ad",
   "metadata": {},
   "outputs": [
    {
     "data": {
      "text/html": [
       "<div>\n",
       "<style scoped>\n",
       "    .dataframe tbody tr th:only-of-type {\n",
       "        vertical-align: middle;\n",
       "    }\n",
       "\n",
       "    .dataframe tbody tr th {\n",
       "        vertical-align: top;\n",
       "    }\n",
       "\n",
       "    .dataframe thead th {\n",
       "        text-align: right;\n",
       "    }\n",
       "</style>\n",
       "<table border=\"1\" class=\"dataframe\">\n",
       "  <thead>\n",
       "    <tr style=\"text-align: right;\">\n",
       "      <th></th>\n",
       "      <th>loannumber</th>\n",
       "      <th>loanamount</th>\n",
       "      <th>good_bad_flag</th>\n",
       "      <th>age</th>\n",
       "    </tr>\n",
       "  </thead>\n",
       "  <tbody>\n",
       "    <tr>\n",
       "      <th>loannumber</th>\n",
       "      <td>1.000000</td>\n",
       "      <td>0.834712</td>\n",
       "      <td>0.091969</td>\n",
       "      <td>-0.008560</td>\n",
       "    </tr>\n",
       "    <tr>\n",
       "      <th>loanamount</th>\n",
       "      <td>0.834712</td>\n",
       "      <td>1.000000</td>\n",
       "      <td>0.117787</td>\n",
       "      <td>0.012760</td>\n",
       "    </tr>\n",
       "    <tr>\n",
       "      <th>good_bad_flag</th>\n",
       "      <td>0.091969</td>\n",
       "      <td>0.117787</td>\n",
       "      <td>1.000000</td>\n",
       "      <td>0.059521</td>\n",
       "    </tr>\n",
       "    <tr>\n",
       "      <th>age</th>\n",
       "      <td>-0.008560</td>\n",
       "      <td>0.012760</td>\n",
       "      <td>0.059521</td>\n",
       "      <td>1.000000</td>\n",
       "    </tr>\n",
       "  </tbody>\n",
       "</table>\n",
       "</div>"
      ],
      "text/plain": [
       "               loannumber  loanamount  good_bad_flag       age\n",
       "loannumber       1.000000    0.834712       0.091969 -0.008560\n",
       "loanamount       0.834712    1.000000       0.117787  0.012760\n",
       "good_bad_flag    0.091969    0.117787       1.000000  0.059521\n",
       "age             -0.008560    0.012760       0.059521  1.000000"
      ]
     },
     "execution_count": 91,
     "metadata": {},
     "output_type": "execute_result"
    }
   ],
   "source": [
    "# Correlation matrix.\n",
    "\n",
    "corr_matrix = num_variables.corr()\n",
    "corr_matrix"
   ]
  },
  {
   "cell_type": "code",
   "execution_count": 92,
   "id": "8b57a1d5",
   "metadata": {},
   "outputs": [
    {
     "data": {
      "text/plain": [
       "good_bad_flag    1.000000\n",
       "loanamount       0.117787\n",
       "loannumber       0.091969\n",
       "age              0.059521\n",
       "Name: good_bad_flag, dtype: float64"
      ]
     },
     "execution_count": 92,
     "metadata": {},
     "output_type": "execute_result"
    }
   ],
   "source": [
    "corr_matrix['good_bad_flag'].sort_values(ascending=False)"
   ]
  },
  {
   "cell_type": "code",
   "execution_count": 93,
   "id": "6cf16070",
   "metadata": {},
   "outputs": [],
   "source": [
    "# At this point, we can decide to log transform loannumber and loanamount or normalise them using StandardScaler.\n",
    "\n",
    "#from sklearn.preprocessing import StandardScaler\n",
    "#scaler = StandardScaler()\n",
    "#data['loannumber'] = scaler.fit_transform(data['loannumber'])\n",
    "#data['loanamount'] = scaler.fit_transform(data['loanamount'])\n",
    "\n",
    "# But, let's continue without transforming them now."
   ]
  },
  {
   "cell_type": "code",
   "execution_count": 94,
   "id": "97851b83",
   "metadata": {},
   "outputs": [
    {
     "data": {
      "text/plain": [
       "(3269, 13)"
      ]
     },
     "execution_count": 94,
     "metadata": {},
     "output_type": "execute_result"
    }
   ],
   "source": [
    "# Merging the dummy_variables and num_variables.\n",
    "features = pd.concat([dummy_variables, num_variables], axis=1)\n",
    "features.shape"
   ]
  },
  {
   "cell_type": "code",
   "execution_count": 95,
   "id": "79916304",
   "metadata": {},
   "outputs": [
    {
     "data": {
      "text/html": [
       "<div>\n",
       "<style scoped>\n",
       "    .dataframe tbody tr th:only-of-type {\n",
       "        vertical-align: middle;\n",
       "    }\n",
       "\n",
       "    .dataframe tbody tr th {\n",
       "        vertical-align: top;\n",
       "    }\n",
       "\n",
       "    .dataframe thead th {\n",
       "        text-align: right;\n",
       "    }\n",
       "</style>\n",
       "<table border=\"1\" class=\"dataframe\">\n",
       "  <thead>\n",
       "    <tr style=\"text-align: right;\">\n",
       "      <th></th>\n",
       "      <th>bank_account_type_Other</th>\n",
       "      <th>bank_account_type_Savings</th>\n",
       "      <th>employment_status_clients_Employed</th>\n",
       "      <th>employment_status_clients_Others</th>\n",
       "      <th>employment_status_clients_Self-Employed</th>\n",
       "      <th>employment_status_clients_Student</th>\n",
       "      <th>termdays_15</th>\n",
       "      <th>termdays_30</th>\n",
       "      <th>termdays_60</th>\n",
       "      <th>loannumber</th>\n",
       "      <th>loanamount</th>\n",
       "      <th>good_bad_flag</th>\n",
       "      <th>age</th>\n",
       "    </tr>\n",
       "  </thead>\n",
       "  <tbody>\n",
       "    <tr>\n",
       "      <th>0</th>\n",
       "      <td>0</td>\n",
       "      <td>1</td>\n",
       "      <td>0</td>\n",
       "      <td>1</td>\n",
       "      <td>0</td>\n",
       "      <td>0</td>\n",
       "      <td>0</td>\n",
       "      <td>1</td>\n",
       "      <td>0</td>\n",
       "      <td>2</td>\n",
       "      <td>10000.0</td>\n",
       "      <td>1</td>\n",
       "      <td>48</td>\n",
       "    </tr>\n",
       "    <tr>\n",
       "      <th>1</th>\n",
       "      <td>0</td>\n",
       "      <td>1</td>\n",
       "      <td>1</td>\n",
       "      <td>0</td>\n",
       "      <td>0</td>\n",
       "      <td>0</td>\n",
       "      <td>0</td>\n",
       "      <td>1</td>\n",
       "      <td>0</td>\n",
       "      <td>2</td>\n",
       "      <td>10000.0</td>\n",
       "      <td>0</td>\n",
       "      <td>35</td>\n",
       "    </tr>\n",
       "    <tr>\n",
       "      <th>2</th>\n",
       "      <td>0</td>\n",
       "      <td>1</td>\n",
       "      <td>0</td>\n",
       "      <td>1</td>\n",
       "      <td>0</td>\n",
       "      <td>0</td>\n",
       "      <td>0</td>\n",
       "      <td>1</td>\n",
       "      <td>0</td>\n",
       "      <td>4</td>\n",
       "      <td>10000.0</td>\n",
       "      <td>1</td>\n",
       "      <td>34</td>\n",
       "    </tr>\n",
       "    <tr>\n",
       "      <th>3</th>\n",
       "      <td>0</td>\n",
       "      <td>1</td>\n",
       "      <td>1</td>\n",
       "      <td>0</td>\n",
       "      <td>0</td>\n",
       "      <td>0</td>\n",
       "      <td>1</td>\n",
       "      <td>0</td>\n",
       "      <td>0</td>\n",
       "      <td>2</td>\n",
       "      <td>10000.0</td>\n",
       "      <td>1</td>\n",
       "      <td>30</td>\n",
       "    </tr>\n",
       "    <tr>\n",
       "      <th>4</th>\n",
       "      <td>0</td>\n",
       "      <td>1</td>\n",
       "      <td>1</td>\n",
       "      <td>0</td>\n",
       "      <td>0</td>\n",
       "      <td>0</td>\n",
       "      <td>0</td>\n",
       "      <td>1</td>\n",
       "      <td>0</td>\n",
       "      <td>6</td>\n",
       "      <td>20000.0</td>\n",
       "      <td>1</td>\n",
       "      <td>31</td>\n",
       "    </tr>\n",
       "  </tbody>\n",
       "</table>\n",
       "</div>"
      ],
      "text/plain": [
       "   bank_account_type_Other  bank_account_type_Savings  \\\n",
       "0                        0                          1   \n",
       "1                        0                          1   \n",
       "2                        0                          1   \n",
       "3                        0                          1   \n",
       "4                        0                          1   \n",
       "\n",
       "   employment_status_clients_Employed  employment_status_clients_Others  \\\n",
       "0                                   0                                 1   \n",
       "1                                   1                                 0   \n",
       "2                                   0                                 1   \n",
       "3                                   1                                 0   \n",
       "4                                   1                                 0   \n",
       "\n",
       "   employment_status_clients_Self-Employed  employment_status_clients_Student  \\\n",
       "0                                        0                                  0   \n",
       "1                                        0                                  0   \n",
       "2                                        0                                  0   \n",
       "3                                        0                                  0   \n",
       "4                                        0                                  0   \n",
       "\n",
       "   termdays_15  termdays_30  termdays_60  loannumber  loanamount  \\\n",
       "0            0            1            0           2     10000.0   \n",
       "1            0            1            0           2     10000.0   \n",
       "2            0            1            0           4     10000.0   \n",
       "3            1            0            0           2     10000.0   \n",
       "4            0            1            0           6     20000.0   \n",
       "\n",
       "   good_bad_flag  age  \n",
       "0              1   48  \n",
       "1              0   35  \n",
       "2              1   34  \n",
       "3              1   30  \n",
       "4              1   31  "
      ]
     },
     "execution_count": 95,
     "metadata": {},
     "output_type": "execute_result"
    }
   ],
   "source": [
    "features.head()"
   ]
  },
  {
   "cell_type": "code",
   "execution_count": 96,
   "id": "6927ffb3",
   "metadata": {},
   "outputs": [
    {
     "data": {
      "text/plain": [
       "good_bad_flag                              1.000000\n",
       "loanamount                                 0.117787\n",
       "bank_account_type_Other                    0.100836\n",
       "loannumber                                 0.091969\n",
       "age                                        0.059521\n",
       "employment_status_clients_Employed         0.048247\n",
       "employment_status_clients_Self-Employed    0.041006\n",
       "termdays_60                                0.011158\n",
       "termdays_30                                0.006987\n",
       "termdays_15                               -0.017464\n",
       "employment_status_clients_Student         -0.023680\n",
       "employment_status_clients_Others          -0.085303\n",
       "bank_account_type_Savings                 -0.107423\n",
       "Name: good_bad_flag, dtype: float64"
      ]
     },
     "execution_count": 96,
     "metadata": {},
     "output_type": "execute_result"
    }
   ],
   "source": [
    "corr_matrix = features.corr()\n",
    "corr_matrix['good_bad_flag'].sort_values(ascending=False)"
   ]
  },
  {
   "cell_type": "code",
   "execution_count": 97,
   "id": "b2fe30da",
   "metadata": {},
   "outputs": [
    {
     "data": {
      "text/plain": [
       "<AxesSubplot:>"
      ]
     },
     "execution_count": 97,
     "metadata": {},
     "output_type": "execute_result"
    },
    {
     "data": {
      "image/png": "[encoded data removed]",
      "text/plain": [
       "<Figure size 864x576 with 2 Axes>"
      ]
     },
     "metadata": {
      "needs_background": "light"
     },
     "output_type": "display_data"
    }
   ],
   "source": [
    "plt.figure(figsize=(12,8))\n",
    "sns.heatmap(corr_matrix)"
   ]
  },
  {
   "cell_type": "code",
   "execution_count": 98,
   "id": "edec39b2",
   "metadata": {},
   "outputs": [
    {
     "data": {
      "text/html": [
       "<div>\n",
       "<style scoped>\n",
       "    .dataframe tbody tr th:only-of-type {\n",
       "        vertical-align: middle;\n",
       "    }\n",
       "\n",
       "    .dataframe tbody tr th {\n",
       "        vertical-align: top;\n",
       "    }\n",
       "\n",
       "    .dataframe thead th {\n",
       "        text-align: right;\n",
       "    }\n",
       "</style>\n",
       "<table border=\"1\" class=\"dataframe\">\n",
       "  <thead>\n",
       "    <tr style=\"text-align: right;\">\n",
       "      <th></th>\n",
       "      <th>bank_account_type_Other</th>\n",
       "      <th>bank_account_type_Savings</th>\n",
       "      <th>employment_status_clients_Employed</th>\n",
       "      <th>employment_status_clients_Others</th>\n",
       "      <th>employment_status_clients_Self-Employed</th>\n",
       "      <th>employment_status_clients_Student</th>\n",
       "      <th>termdays_15</th>\n",
       "      <th>termdays_30</th>\n",
       "      <th>termdays_60</th>\n",
       "      <th>loannumber</th>\n",
       "      <th>loanamount</th>\n",
       "      <th>good_bad_flag</th>\n",
       "      <th>age</th>\n",
       "    </tr>\n",
       "  </thead>\n",
       "  <tbody>\n",
       "    <tr>\n",
       "      <th>bank_account_type_Other</th>\n",
       "      <td>1.000000</td>\n",
       "      <td>-0.958000</td>\n",
       "      <td>-0.116079</td>\n",
       "      <td>-0.192642</td>\n",
       "      <td>0.364489</td>\n",
       "      <td>0.087984</td>\n",
       "      <td>-0.131282</td>\n",
       "      <td>-0.013973</td>\n",
       "      <td>0.199697</td>\n",
       "      <td>0.521498</td>\n",
       "      <td>0.441438</td>\n",
       "      <td>0.100836</td>\n",
       "      <td>-0.001257</td>\n",
       "    </tr>\n",
       "    <tr>\n",
       "      <th>bank_account_type_Savings</th>\n",
       "      <td>-0.958000</td>\n",
       "      <td>1.000000</td>\n",
       "      <td>0.096532</td>\n",
       "      <td>0.198251</td>\n",
       "      <td>-0.347667</td>\n",
       "      <td>-0.079363</td>\n",
       "      <td>0.123691</td>\n",
       "      <td>0.013599</td>\n",
       "      <td>-0.188522</td>\n",
       "      <td>-0.500862</td>\n",
       "      <td>-0.422444</td>\n",
       "      <td>-0.107423</td>\n",
       "      <td>-0.020696</td>\n",
       "    </tr>\n",
       "    <tr>\n",
       "      <th>employment_status_clients_Employed</th>\n",
       "      <td>-0.116079</td>\n",
       "      <td>0.096532</td>\n",
       "      <td>1.000000</td>\n",
       "      <td>-0.672816</td>\n",
       "      <td>-0.482902</td>\n",
       "      <td>-0.297547</td>\n",
       "      <td>-0.015554</td>\n",
       "      <td>0.042355</td>\n",
       "      <td>-0.050903</td>\n",
       "      <td>-0.122789</td>\n",
       "      <td>-0.117711</td>\n",
       "      <td>0.048247</td>\n",
       "      <td>0.002894</td>\n",
       "    </tr>\n",
       "    <tr>\n",
       "      <th>employment_status_clients_Others</th>\n",
       "      <td>-0.192642</td>\n",
       "      <td>0.198251</td>\n",
       "      <td>-0.672816</td>\n",
       "      <td>1.000000</td>\n",
       "      <td>-0.128990</td>\n",
       "      <td>-0.079479</td>\n",
       "      <td>0.076653</td>\n",
       "      <td>-0.024730</td>\n",
       "      <td>-0.069333</td>\n",
       "      <td>-0.158908</td>\n",
       "      <td>-0.119509</td>\n",
       "      <td>-0.085303</td>\n",
       "      <td>0.082046</td>\n",
       "    </tr>\n",
       "    <tr>\n",
       "      <th>employment_status_clients_Self-Employed</th>\n",
       "      <td>0.364489</td>\n",
       "      <td>-0.347667</td>\n",
       "      <td>-0.482902</td>\n",
       "      <td>-0.128990</td>\n",
       "      <td>1.000000</td>\n",
       "      <td>-0.057045</td>\n",
       "      <td>-0.072991</td>\n",
       "      <td>-0.011266</td>\n",
       "      <td>0.133755</td>\n",
       "      <td>0.347055</td>\n",
       "      <td>0.297495</td>\n",
       "      <td>0.041006</td>\n",
       "      <td>0.061449</td>\n",
       "    </tr>\n",
       "    <tr>\n",
       "      <th>employment_status_clients_Student</th>\n",
       "      <td>0.087984</td>\n",
       "      <td>-0.079363</td>\n",
       "      <td>-0.297547</td>\n",
       "      <td>-0.079479</td>\n",
       "      <td>-0.057045</td>\n",
       "      <td>1.000000</td>\n",
       "      <td>-0.013527</td>\n",
       "      <td>-0.028465</td>\n",
       "      <td>0.064611</td>\n",
       "      <td>0.069534</td>\n",
       "      <td>0.068412</td>\n",
       "      <td>-0.023680</td>\n",
       "      <td>-0.228088</td>\n",
       "    </tr>\n",
       "    <tr>\n",
       "      <th>termdays_15</th>\n",
       "      <td>-0.131282</td>\n",
       "      <td>0.123691</td>\n",
       "      <td>-0.015554</td>\n",
       "      <td>0.076653</td>\n",
       "      <td>-0.072991</td>\n",
       "      <td>-0.013527</td>\n",
       "      <td>1.000000</td>\n",
       "      <td>-0.819609</td>\n",
       "      <td>-0.137966</td>\n",
       "      <td>-0.218098</td>\n",
       "      <td>-0.292399</td>\n",
       "      <td>-0.017464</td>\n",
       "      <td>-0.051511</td>\n",
       "    </tr>\n",
       "    <tr>\n",
       "      <th>termdays_30</th>\n",
       "      <td>-0.013973</td>\n",
       "      <td>0.013599</td>\n",
       "      <td>0.042355</td>\n",
       "      <td>-0.024730</td>\n",
       "      <td>-0.011266</td>\n",
       "      <td>-0.028465</td>\n",
       "      <td>-0.819609</td>\n",
       "      <td>1.000000</td>\n",
       "      <td>-0.426560</td>\n",
       "      <td>-0.010106</td>\n",
       "      <td>-0.023744</td>\n",
       "      <td>0.006987</td>\n",
       "      <td>0.068732</td>\n",
       "    </tr>\n",
       "    <tr>\n",
       "      <th>termdays_60</th>\n",
       "      <td>0.199697</td>\n",
       "      <td>-0.188522</td>\n",
       "      <td>-0.050903</td>\n",
       "      <td>-0.069333</td>\n",
       "      <td>0.133755</td>\n",
       "      <td>0.064611</td>\n",
       "      <td>-0.137966</td>\n",
       "      <td>-0.426560</td>\n",
       "      <td>1.000000</td>\n",
       "      <td>0.318510</td>\n",
       "      <td>0.438410</td>\n",
       "      <td>0.011158</td>\n",
       "      <td>-0.030381</td>\n",
       "    </tr>\n",
       "    <tr>\n",
       "      <th>loannumber</th>\n",
       "      <td>0.521498</td>\n",
       "      <td>-0.500862</td>\n",
       "      <td>-0.122789</td>\n",
       "      <td>-0.158908</td>\n",
       "      <td>0.347055</td>\n",
       "      <td>0.069534</td>\n",
       "      <td>-0.218098</td>\n",
       "      <td>-0.010106</td>\n",
       "      <td>0.318510</td>\n",
       "      <td>1.000000</td>\n",
       "      <td>0.834712</td>\n",
       "      <td>0.091969</td>\n",
       "      <td>-0.008560</td>\n",
       "    </tr>\n",
       "    <tr>\n",
       "      <th>loanamount</th>\n",
       "      <td>0.441438</td>\n",
       "      <td>-0.422444</td>\n",
       "      <td>-0.117711</td>\n",
       "      <td>-0.119509</td>\n",
       "      <td>0.297495</td>\n",
       "      <td>0.068412</td>\n",
       "      <td>-0.292399</td>\n",
       "      <td>-0.023744</td>\n",
       "      <td>0.438410</td>\n",
       "      <td>0.834712</td>\n",
       "      <td>1.000000</td>\n",
       "      <td>0.117787</td>\n",
       "      <td>0.012760</td>\n",
       "    </tr>\n",
       "    <tr>\n",
       "      <th>good_bad_flag</th>\n",
       "      <td>0.100836</td>\n",
       "      <td>-0.107423</td>\n",
       "      <td>0.048247</td>\n",
       "      <td>-0.085303</td>\n",
       "      <td>0.041006</td>\n",
       "      <td>-0.023680</td>\n",
       "      <td>-0.017464</td>\n",
       "      <td>0.006987</td>\n",
       "      <td>0.011158</td>\n",
       "      <td>0.091969</td>\n",
       "      <td>0.117787</td>\n",
       "      <td>1.000000</td>\n",
       "      <td>0.059521</td>\n",
       "    </tr>\n",
       "    <tr>\n",
       "      <th>age</th>\n",
       "      <td>-0.001257</td>\n",
       "      <td>-0.020696</td>\n",
       "      <td>0.002894</td>\n",
       "      <td>0.082046</td>\n",
       "      <td>0.061449</td>\n",
       "      <td>-0.228088</td>\n",
       "      <td>-0.051511</td>\n",
       "      <td>0.068732</td>\n",
       "      <td>-0.030381</td>\n",
       "      <td>-0.008560</td>\n",
       "      <td>0.012760</td>\n",
       "      <td>0.059521</td>\n",
       "      <td>1.000000</td>\n",
       "    </tr>\n",
       "  </tbody>\n",
       "</table>\n",
       "</div>"
      ],
      "text/plain": [
       "                                         bank_account_type_Other  \\\n",
       "bank_account_type_Other                                 1.000000   \n",
       "bank_account_type_Savings                              -0.958000   \n",
       "employment_status_clients_Employed                     -0.116079   \n",
       "employment_status_clients_Others                       -0.192642   \n",
       "employment_status_clients_Self-Employed                 0.364489   \n",
       "employment_status_clients_Student                       0.087984   \n",
       "termdays_15                                            -0.131282   \n",
       "termdays_30                                            -0.013973   \n",
       "termdays_60                                             0.199697   \n",
       "loannumber                                              0.521498   \n",
       "loanamount                                              0.441438   \n",
       "good_bad_flag                                           0.100836   \n",
       "age                                                    -0.001257   \n",
       "\n",
       "                                         bank_account_type_Savings  \\\n",
       "bank_account_type_Other                                  -0.958000   \n",
       "bank_account_type_Savings                                 1.000000   \n",
       "employment_status_clients_Employed                        0.096532   \n",
       "employment_status_clients_Others                          0.198251   \n",
       "employment_status_clients_Self-Employed                  -0.347667   \n",
       "employment_status_clients_Student                        -0.079363   \n",
       "termdays_15                                               0.123691   \n",
       "termdays_30                                               0.013599   \n",
       "termdays_60                                              -0.188522   \n",
       "loannumber                                               -0.500862   \n",
       "loanamount                                               -0.422444   \n",
       "good_bad_flag                                            -0.107423   \n",
       "age                                                      -0.020696   \n",
       "\n",
       "                                         employment_status_clients_Employed  \\\n",
       "bank_account_type_Other                                           -0.116079   \n",
       "bank_account_type_Savings                                          0.096532   \n",
       "employment_status_clients_Employed                                 1.000000   \n",
       "employment_status_clients_Others                                  -0.672816   \n",
       "employment_status_clients_Self-Employed                           -0.482902   \n",
       "employment_status_clients_Student                                 -0.297547   \n",
       "termdays_15                                                       -0.015554   \n",
       "termdays_30                                                        0.042355   \n",
       "termdays_60                                                       -0.050903   \n",
       "loannumber                                                        -0.122789   \n",
       "loanamount                                                        -0.117711   \n",
       "good_bad_flag                                                      0.048247   \n",
       "age                                                                0.002894   \n",
       "\n",
       "                                         employment_status_clients_Others  \\\n",
       "bank_account_type_Other                                         -0.192642   \n",
       "bank_account_type_Savings                                        0.198251   \n",
       "employment_status_clients_Employed                              -0.672816   \n",
       "employment_status_clients_Others                                 1.000000   \n",
       "employment_status_clients_Self-Employed                         -0.128990   \n",
       "employment_status_clients_Student                               -0.079479   \n",
       "termdays_15                                                      0.076653   \n",
       "termdays_30                                                     -0.024730   \n",
       "termdays_60                                                     -0.069333   \n",
       "loannumber                                                      -0.158908   \n",
       "loanamount                                                      -0.119509   \n",
       "good_bad_flag                                                   -0.085303   \n",
       "age                                                              0.082046   \n",
       "\n",
       "                                         employment_status_clients_Self-Employed  \\\n",
       "bank_account_type_Other                                                 0.364489   \n",
       "bank_account_type_Savings                                              -0.347667   \n",
       "employment_status_clients_Employed                                     -0.482902   \n",
       "employment_status_clients_Others                                       -0.128990   \n",
       "employment_status_clients_Self-Employed                                 1.000000   \n",
       "employment_status_clients_Student                                      -0.057045   \n",
       "termdays_15                                                            -0.072991   \n",
       "termdays_30                                                            -0.011266   \n",
       "termdays_60                                                             0.133755   \n",
       "loannumber                                                              0.347055   \n",
       "loanamount                                                              0.297495   \n",
       "good_bad_flag                                                           0.041006   \n",
       "age                                                                     0.061449   \n",
       "\n",
       "                                         employment_status_clients_Student  \\\n",
       "bank_account_type_Other                                           0.087984   \n",
       "bank_account_type_Savings                                        -0.079363   \n",
       "employment_status_clients_Employed                               -0.297547   \n",
       "employment_status_clients_Others                                 -0.079479   \n",
       "employment_status_clients_Self-Employed                          -0.057045   \n",
       "employment_status_clients_Student                                 1.000000   \n",
       "termdays_15                                                      -0.013527   \n",
       "termdays_30                                                      -0.028465   \n",
       "termdays_60                                                       0.064611   \n",
       "loannumber                                                        0.069534   \n",
       "loanamount                                                        0.068412   \n",
       "good_bad_flag                                                    -0.023680   \n",
       "age                                                              -0.228088   \n",
       "\n",
       "                                         termdays_15  termdays_30  \\\n",
       "bank_account_type_Other                    -0.131282    -0.013973   \n",
       "bank_account_type_Savings                   0.123691     0.013599   \n",
       "employment_status_clients_Employed         -0.015554     0.042355   \n",
       "employment_status_clients_Others            0.076653    -0.024730   \n",
       "employment_status_clients_Self-Employed    -0.072991    -0.011266   \n",
       "employment_status_clients_Student          -0.013527    -0.028465   \n",
       "termdays_15                                 1.000000    -0.819609   \n",
       "termdays_30                                -0.819609     1.000000   \n",
       "termdays_60                                -0.137966    -0.426560   \n",
       "loannumber                                 -0.218098    -0.010106   \n",
       "loanamount                                 -0.292399    -0.023744   \n",
       "good_bad_flag                              -0.017464     0.006987   \n",
       "age                                        -0.051511     0.068732   \n",
       "\n",
       "                                         termdays_60  loannumber  loanamount  \\\n",
       "bank_account_type_Other                     0.199697    0.521498    0.441438   \n",
       "bank_account_type_Savings                  -0.188522   -0.500862   -0.422444   \n",
       "employment_status_clients_Employed         -0.050903   -0.122789   -0.117711   \n",
       "employment_status_clients_Others           -0.069333   -0.158908   -0.119509   \n",
       "employment_status_clients_Self-Employed     0.133755    0.347055    0.297495   \n",
       "employment_status_clients_Student           0.064611    0.069534    0.068412   \n",
       "termdays_15                                -0.137966   -0.218098   -0.292399   \n",
       "termdays_30                                -0.426560   -0.010106   -0.023744   \n",
       "termdays_60                                 1.000000    0.318510    0.438410   \n",
       "loannumber                                  0.318510    1.000000    0.834712   \n",
       "loanamount                                  0.438410    0.834712    1.000000   \n",
       "good_bad_flag                               0.011158    0.091969    0.117787   \n",
       "age                                        -0.030381   -0.008560    0.012760   \n",
       "\n",
       "                                         good_bad_flag       age  \n",
       "bank_account_type_Other                       0.100836 -0.001257  \n",
       "bank_account_type_Savings                    -0.107423 -0.020696  \n",
       "employment_status_clients_Employed            0.048247  0.002894  \n",
       "employment_status_clients_Others             -0.085303  0.082046  \n",
       "employment_status_clients_Self-Employed       0.041006  0.061449  \n",
       "employment_status_clients_Student            -0.023680 -0.228088  \n",
       "termdays_15                                  -0.017464 -0.051511  \n",
       "termdays_30                                   0.006987  0.068732  \n",
       "termdays_60                                   0.011158 -0.030381  \n",
       "loannumber                                    0.091969 -0.008560  \n",
       "loanamount                                    0.117787  0.012760  \n",
       "good_bad_flag                                 1.000000  0.059521  \n",
       "age                                           0.059521  1.000000  "
      ]
     },
     "execution_count": 98,
     "metadata": {},
     "output_type": "execute_result"
    }
   ],
   "source": [
    "corr_matrix"
   ]
  },
  {
   "cell_type": "code",
   "execution_count": null,
   "id": "a8afcaf8",
   "metadata": {},
   "outputs": [],
   "source": []
  },
  {
   "cell_type": "markdown",
   "id": "588d1013",
   "metadata": {},
   "source": [
    "## Splitting into Features and Target."
   ]
  },
  {
   "cell_type": "code",
   "execution_count": 99,
   "id": "12c54207",
   "metadata": {},
   "outputs": [],
   "source": [
    "X = features.drop(['good_bad_flag'], axis=1)\n",
    "Y = features['good_bad_flag']"
   ]
  },
  {
   "cell_type": "code",
   "execution_count": 100,
   "id": "6deb728b",
   "metadata": {},
   "outputs": [
    {
     "data": {
      "text/plain": [
       "((3269, 12), (3269,))"
      ]
     },
     "execution_count": 100,
     "metadata": {},
     "output_type": "execute_result"
    }
   ],
   "source": [
    "X.shape, Y.shape"
   ]
  },
  {
   "cell_type": "code",
   "execution_count": 101,
   "id": "b7cab9a1",
   "metadata": {},
   "outputs": [
    {
     "data": {
      "text/plain": [
       "2556"
      ]
     },
     "execution_count": 101,
     "metadata": {},
     "output_type": "execute_result"
    }
   ],
   "source": [
    "# Number of good cases. \n",
    "len(features[features['good_bad_flag']==1])"
   ]
  },
  {
   "cell_type": "code",
   "execution_count": 102,
   "id": "0c381e99",
   "metadata": {},
   "outputs": [
    {
     "data": {
      "text/plain": [
       "713"
      ]
     },
     "execution_count": 102,
     "metadata": {},
     "output_type": "execute_result"
    }
   ],
   "source": [
    "# Number of bad cases.\n",
    "len(features[features['good_bad_flag']==0])"
   ]
  },
  {
   "cell_type": "code",
   "execution_count": null,
   "id": "39f61f2d",
   "metadata": {},
   "outputs": [],
   "source": []
  },
  {
   "cell_type": "markdown",
   "id": "86075f00",
   "metadata": {},
   "source": [
    "## Managing Data Imbalance.\n",
    "\n",
    "## Oversampling"
   ]
  },
  {
   "cell_type": "code",
   "execution_count": 103,
   "id": "28ecb4dd",
   "metadata": {},
   "outputs": [],
   "source": [
    "# We'll oversample the bad class because it is very low compared to the good class.\n",
    "# We'll use SMOTE because it doesn't lead to overfitting.\n",
    "from imblearn.over_sampling import SMOTE\n",
    "from collections import Counter"
   ]
  },
  {
   "cell_type": "code",
   "execution_count": 104,
   "id": "81541c17",
   "metadata": {},
   "outputs": [
    {
     "name": "stdout",
     "output_type": "stream",
     "text": [
      "Class:1, n:2556, (0.78%)\n",
      "Class:0, n:713, (0.22%)\n"
     ]
    }
   ],
   "source": [
    "# Number of good(1) and bad(0) before resampling.\n",
    "counter = Counter(Y)\n",
    "for k, v in counter.items():\n",
    "    dist = v / len(Y)\n",
    "    print(f\"Class:{k}, n:{v}, ({round(dist, 2)}%)\")"
   ]
  },
  {
   "cell_type": "markdown",
   "id": "ef128fd6",
   "metadata": {},
   "source": [
    "78% of the dataset fall in the good(1) class while 22% fall in the bad(0) class. So, we'll need to correct this imbalance. Of the several techniques available, we will oversample the minority class (bad -0) using SMOTE."
   ]
  },
  {
   "cell_type": "code",
   "execution_count": 105,
   "id": "d682d595",
   "metadata": {},
   "outputs": [],
   "source": [
    "#sm = SMOTE(random_state=2, sampling_strategy={0:3650})\n",
    "\n",
    "sm = SMOTE(random_state=2)\n",
    "X_res, Y_res = sm.fit_resample(X, Y) "
   ]
  },
  {
   "cell_type": "code",
   "execution_count": 106,
   "id": "ab809230",
   "metadata": {},
   "outputs": [
    {
     "name": "stdout",
     "output_type": "stream",
     "text": [
      "Class:1, n:2556, (0.5%)\n",
      "Class:0, n:2556, (0.5%)\n"
     ]
    }
   ],
   "source": [
    "# Number of good(1) and bad(0) after resampling.\n",
    "\n",
    "counter = Counter(Y_res)\n",
    "for k, v in counter.items():\n",
    "    dist = v / len(Y_res)\n",
    "    print(f\"Class:{k}, n:{v}, ({round(dist, 2)}%)\")"
   ]
  },
  {
   "cell_type": "markdown",
   "id": "16c70768",
   "metadata": {},
   "source": [
    "The classes have become balanced with the data having 50% of each."
   ]
  },
  {
   "cell_type": "code",
   "execution_count": 107,
   "id": "5f8cb747",
   "metadata": {},
   "outputs": [
    {
     "data": {
      "text/plain": [
       "((5112, 12), (5112,))"
      ]
     },
     "execution_count": 107,
     "metadata": {},
     "output_type": "execute_result"
    }
   ],
   "source": [
    "X_res.shape, Y_res.shape"
   ]
  },
  {
   "cell_type": "code",
   "execution_count": null,
   "id": "b759767d",
   "metadata": {},
   "outputs": [],
   "source": []
  },
  {
   "cell_type": "markdown",
   "id": "31f3be98",
   "metadata": {},
   "source": [
    "## Model Training."
   ]
  },
  {
   "cell_type": "code",
   "execution_count": 108,
   "id": "c678f72e",
   "metadata": {},
   "outputs": [],
   "source": [
    "# Splitting and cross-validation libraries.\n",
    "from sklearn.model_selection import train_test_split, KFold, StratifiedKFold, cross_val_score\n",
    "\n",
    "# Evaluation metrics.\n",
    "from sklearn.metrics import classification_report, f1_score, roc_auc_score, confusion_matrix, log_loss, roc_curve"
   ]
  },
  {
   "cell_type": "code",
   "execution_count": 109,
   "id": "96a456af",
   "metadata": {},
   "outputs": [],
   "source": [
    "# Importing training algorithms.\n",
    "\n",
    "from sklearn.linear_model import LogisticRegression\n",
    "from sklearn.tree import DecisionTreeClassifier\n",
    "from sklearn.ensemble import RandomForestClassifier, GradientBoostingClassifier\n",
    "from sklearn.neighbors import KNeighborsClassifier\n",
    "from sklearn.svm import SVC\n",
    "from sklearn.naive_bayes import GaussianNB"
   ]
  },
  {
   "cell_type": "code",
   "execution_count": 110,
   "id": "8a260905",
   "metadata": {},
   "outputs": [],
   "source": [
    "# Creating a function to split the data into folds, train the model, predict, and evaluate.\n",
    "\n",
    "def pred(model):\n",
    "    # Create an instance of the StratifiedKFold\n",
    "    fold = StratifiedKFold(n_splits=5, shuffle=True, random_state=2)\n",
    "    \n",
    "    avg1 = 0\n",
    "    avg2 = 0\n",
    "    # Splitting the training data into folds so that all aspects of the data is used for training and testing the model.\n",
    "    for train_index, test_index in fold.split(X_res, Y_res):\n",
    "        X_train, X_test = X_res.iloc[train_index], X_res.iloc[test_index]\n",
    "        y_train, y_test = Y_res.iloc[train_index], Y_res.iloc[test_index]\n",
    "        \n",
    "        model.fit(X_train, y_train)\n",
    "        prediction = model.predict(X_test)\n",
    "        f1 = f1_score(prediction, y_test)\n",
    "        auc = roc_auc_score(prediction, y_test)\n",
    "        gini = (2 * auc) - 1\n",
    "        con_matrix = confusion_matrix(prediction, y_test)\n",
    "        \n",
    "        # Calculating averages.\n",
    "        avg1 += auc\n",
    "        avg2 += f1\n",
    "        \n",
    "        avg_auc = avg1/5 # number of folds according to the n_splits is 5.\n",
    "        avg_f1 = avg2/5\n",
    "        \n",
    "        print('F1: ',round(f1, 2))\n",
    "        print('AUC: ',round(auc, 2))\n",
    "        print('')\n",
    "        \n",
    "    print('Avg f1: ',round(avg_f1, 2))\n",
    "    print('Avg AUC: ',round(avg_auc, 2))\n",
    "    print('Gini Coefficient: ',round(gini, 3))\n",
    "    print('')\n",
    "    print('risk_matrix: \\n',con_matrix)\n",
    "    "
   ]
  },
  {
   "cell_type": "markdown",
   "id": "8a1d6297",
   "metadata": {},
   "source": [
    "NB: LogisticRegression, DecisionTree, and NaiveBayes do not usually perform well with imbalanced data."
   ]
  },
  {
   "cell_type": "markdown",
   "id": "90532bf3",
   "metadata": {},
   "source": [
    "## LogisticRegression"
   ]
  },
  {
   "cell_type": "code",
   "execution_count": 111,
   "id": "46784e75",
   "metadata": {},
   "outputs": [],
   "source": [
    "logit = LogisticRegression()"
   ]
  },
  {
   "cell_type": "code",
   "execution_count": 112,
   "id": "dcdeb46e",
   "metadata": {},
   "outputs": [
    {
     "name": "stdout",
     "output_type": "stream",
     "text": [
      "F1:  0.55\n",
      "AUC:  0.6\n",
      "\n",
      "F1:  0.52\n",
      "AUC:  0.58\n",
      "\n",
      "F1:  0.53\n",
      "AUC:  0.59\n",
      "\n",
      "F1:  0.51\n",
      "AUC:  0.59\n",
      "\n",
      "F1:  0.48\n",
      "AUC:  0.56\n",
      "\n",
      "Avg f1:  0.52\n",
      "Avg AUC:  0.58\n",
      "Gini Coefficient:  0.111\n",
      "\n",
      "risk_matrix: \n",
      " [[354 302]\n",
      " [157 209]]\n"
     ]
    }
   ],
   "source": [
    "pred(logit)"
   ]
  },
  {
   "cell_type": "code",
   "execution_count": null,
   "id": "e2021f55",
   "metadata": {},
   "outputs": [],
   "source": []
  },
  {
   "cell_type": "markdown",
   "id": "53f85fda",
   "metadata": {},
   "source": [
    "## RandomForestClassifier"
   ]
  },
  {
   "cell_type": "code",
   "execution_count": 113,
   "id": "d618cc93",
   "metadata": {},
   "outputs": [],
   "source": [
    "forest = RandomForestClassifier()"
   ]
  },
  {
   "cell_type": "code",
   "execution_count": 114,
   "id": "782e8c7e",
   "metadata": {},
   "outputs": [
    {
     "name": "stdout",
     "output_type": "stream",
     "text": [
      "F1:  0.73\n",
      "AUC:  0.74\n",
      "\n",
      "F1:  0.68\n",
      "AUC:  0.71\n",
      "\n",
      "F1:  0.7\n",
      "AUC:  0.72\n",
      "\n",
      "F1:  0.69\n",
      "AUC:  0.73\n",
      "\n",
      "F1:  0.69\n",
      "AUC:  0.73\n",
      "\n",
      "Avg f1:  0.7\n",
      "Avg AUC:  0.72\n",
      "Gini Coefficient:  0.453\n",
      "\n",
      "risk_matrix: \n",
      " [[411 186]\n",
      " [100 325]]\n"
     ]
    }
   ],
   "source": [
    "pred(forest)"
   ]
  },
  {
   "cell_type": "code",
   "execution_count": null,
   "id": "327a716a",
   "metadata": {},
   "outputs": [],
   "source": []
  },
  {
   "cell_type": "markdown",
   "id": "3977d10d",
   "metadata": {},
   "source": [
    "## KNearestNeighbors"
   ]
  },
  {
   "cell_type": "code",
   "execution_count": 115,
   "id": "28f30ee5",
   "metadata": {},
   "outputs": [],
   "source": [
    "# Splitting the data into training and evaluation sets.\n",
    "\n",
    "xtrain, xtest, ytrain, ytest = train_test_split(X_res, Y_res, test_size=0.25, stratify=Y_res, random_state=12)"
   ]
  },
  {
   "cell_type": "code",
   "execution_count": 116,
   "id": "4540b631",
   "metadata": {},
   "outputs": [
    {
     "data": {
      "text/plain": [
       "((3834, 12), (3834,))"
      ]
     },
     "execution_count": 116,
     "metadata": {},
     "output_type": "execute_result"
    }
   ],
   "source": [
    "# training data.\n",
    "xtrain.shape, ytrain.shape"
   ]
  },
  {
   "cell_type": "code",
   "execution_count": 117,
   "id": "12426abf",
   "metadata": {},
   "outputs": [
    {
     "data": {
      "text/plain": [
       "((1278, 12), (1278,))"
      ]
     },
     "execution_count": 117,
     "metadata": {},
     "output_type": "execute_result"
    }
   ],
   "source": [
    "# test data.\n",
    "xtest.shape, ytest.shape"
   ]
  },
  {
   "cell_type": "code",
   "execution_count": 118,
   "id": "d816a619",
   "metadata": {},
   "outputs": [
    {
     "data": {
      "text/plain": [
       "<matplotlib.legend.Legend at 0x13e818e4fd0>"
      ]
     },
     "execution_count": 118,
     "metadata": {},
     "output_type": "execute_result"
    },
    {
     "data": {
      "image/png": "[encoded data removed]",
      "text/plain": [
       "<Figure size 432x288 with 1 Axes>"
      ]
     },
     "metadata": {
      "needs_background": "light"
     },
     "output_type": "display_data"
    }
   ],
   "source": [
    "# Finding optimal n_neighbors.\n",
    "\n",
    "n_rng = range(1,11)\n",
    "test_accuracy = []\n",
    "\n",
    "for n in n_rng:\n",
    "    knn = KNeighborsClassifier(n_neighbors = n)\n",
    "    knn.fit(xtrain, ytrain)\n",
    "    test_accuracy.append(knn.score(xtest, ytest))\n",
    "    \n",
    "plt.plot(n_rng, test_accuracy, label = 'test accuracy', c = 'g', linestyle = 'dotted')\n",
    "plt.title('Finding optimal n_neighbors')\n",
    "plt.xlabel('K')\n",
    "plt.ylabel('Accuracy score')\n",
    "plt.legend()"
   ]
  },
  {
   "cell_type": "markdown",
   "id": "dae820d9",
   "metadata": {},
   "source": [
    "According to the knn graph, the model has the highest accuracy at n=3 and n=5. So, we can choose either 3 or 5 as number of neighbors."
   ]
  },
  {
   "cell_type": "code",
   "execution_count": 119,
   "id": "7ea892cf",
   "metadata": {},
   "outputs": [],
   "source": [
    "knn = KNeighborsClassifier(n_neighbors=3, p=2)"
   ]
  },
  {
   "cell_type": "code",
   "execution_count": 120,
   "id": "7668993f",
   "metadata": {},
   "outputs": [
    {
     "name": "stdout",
     "output_type": "stream",
     "text": [
      "F1:  0.68\n",
      "AUC:  0.66\n",
      "\n",
      "F1:  0.65\n",
      "AUC:  0.66\n",
      "\n",
      "F1:  0.65\n",
      "AUC:  0.64\n",
      "\n",
      "F1:  0.65\n",
      "AUC:  0.67\n",
      "\n",
      "F1:  0.67\n",
      "AUC:  0.66\n",
      "\n",
      "Avg f1:  0.66\n",
      "Avg AUC:  0.65\n",
      "Gini Coefficient:  0.312\n",
      "\n",
      "risk_matrix: \n",
      " [[303 146]\n",
      " [208 365]]\n"
     ]
    }
   ],
   "source": [
    "pred(knn)"
   ]
  },
  {
   "cell_type": "markdown",
   "id": "86a02a2e",
   "metadata": {},
   "source": [
    "Conclusion: Better than LogisticRegression output but not as good as RandomForest output."
   ]
  },
  {
   "cell_type": "code",
   "execution_count": null,
   "id": "248521f4",
   "metadata": {},
   "outputs": [],
   "source": []
  },
  {
   "cell_type": "markdown",
   "id": "35cbc7db",
   "metadata": {},
   "source": [
    "## Support Vector Classifier"
   ]
  },
  {
   "cell_type": "code",
   "execution_count": 121,
   "id": "0e324bb4",
   "metadata": {},
   "outputs": [],
   "source": [
    "svc = SVC()"
   ]
  },
  {
   "cell_type": "code",
   "execution_count": 122,
   "id": "6d06eff6",
   "metadata": {},
   "outputs": [
    {
     "name": "stdout",
     "output_type": "stream",
     "text": [
      "F1:  0.55\n",
      "AUC:  0.59\n",
      "\n",
      "F1:  0.53\n",
      "AUC:  0.58\n",
      "\n",
      "F1:  0.54\n",
      "AUC:  0.59\n",
      "\n",
      "F1:  0.53\n",
      "AUC:  0.59\n",
      "\n",
      "F1:  0.5\n",
      "AUC:  0.56\n",
      "\n",
      "Avg f1:  0.53\n",
      "Avg AUC:  0.58\n",
      "Gini Coefficient:  0.12\n",
      "\n",
      "risk_matrix: \n",
      " [[346 288]\n",
      " [165 223]]\n"
     ]
    }
   ],
   "source": [
    "pred(svc)"
   ]
  },
  {
   "cell_type": "code",
   "execution_count": null,
   "id": "ac83b499",
   "metadata": {},
   "outputs": [],
   "source": []
  },
  {
   "cell_type": "markdown",
   "id": "1ce62fa3",
   "metadata": {},
   "source": [
    "## Gradient Boost"
   ]
  },
  {
   "cell_type": "code",
   "execution_count": 123,
   "id": "1052758c",
   "metadata": {},
   "outputs": [],
   "source": [
    "boost = GradientBoostingClassifier()"
   ]
  },
  {
   "cell_type": "code",
   "execution_count": 124,
   "id": "c84b07e6",
   "metadata": {},
   "outputs": [
    {
     "name": "stdout",
     "output_type": "stream",
     "text": [
      "F1:  0.7\n",
      "AUC:  0.71\n",
      "\n",
      "F1:  0.67\n",
      "AUC:  0.71\n",
      "\n",
      "F1:  0.68\n",
      "AUC:  0.69\n",
      "\n",
      "F1:  0.65\n",
      "AUC:  0.68\n",
      "\n",
      "F1:  0.65\n",
      "AUC:  0.68\n",
      "\n",
      "Avg f1:  0.67\n",
      "Avg AUC:  0.7\n",
      "Gini Coefficient:  0.364\n",
      "\n",
      "risk_matrix: \n",
      " [[383 201]\n",
      " [128 310]]\n"
     ]
    }
   ],
   "source": [
    "pred(boost)"
   ]
  },
  {
   "cell_type": "markdown",
   "id": "7692acc3",
   "metadata": {},
   "source": [
    "Conclusion: Since Random Forest performed better than all the trained models, we'd try to improve the Random Forest model."
   ]
  },
  {
   "cell_type": "markdown",
   "id": "896ae80f",
   "metadata": {},
   "source": [
    "Things to do:\n",
    "\n",
    "1. Get feature ratings through feature importance.\n",
    "\n",
    "2. Through the ratings, try to engineer new features.\n",
    "\n",
    "3. Try feature selection through SelectKBest or Recursive Feature Elimination with Cross Validation (RFECV).\n",
    "\n",
    "4. Use GridSearchCV to tune the hyperparameters."
   ]
  },
  {
   "cell_type": "markdown",
   "id": "d0f27e08",
   "metadata": {},
   "source": [
    "## Proceeding with the Random Forest model."
   ]
  },
  {
   "cell_type": "code",
   "execution_count": 125,
   "id": "df712034",
   "metadata": {},
   "outputs": [
    {
     "data": {
      "text/html": [
       "<div>\n",
       "<style scoped>\n",
       "    .dataframe tbody tr th:only-of-type {\n",
       "        vertical-align: middle;\n",
       "    }\n",
       "\n",
       "    .dataframe tbody tr th {\n",
       "        vertical-align: top;\n",
       "    }\n",
       "\n",
       "    .dataframe thead th {\n",
       "        text-align: right;\n",
       "    }\n",
       "</style>\n",
       "<table border=\"1\" class=\"dataframe\">\n",
       "  <thead>\n",
       "    <tr style=\"text-align: right;\">\n",
       "      <th></th>\n",
       "      <th>Features</th>\n",
       "      <th>Importance</th>\n",
       "    </tr>\n",
       "  </thead>\n",
       "  <tbody>\n",
       "    <tr>\n",
       "      <th>11</th>\n",
       "      <td>age</td>\n",
       "      <td>0.418419</td>\n",
       "    </tr>\n",
       "    <tr>\n",
       "      <th>9</th>\n",
       "      <td>loannumber</td>\n",
       "      <td>0.195244</td>\n",
       "    </tr>\n",
       "    <tr>\n",
       "      <th>10</th>\n",
       "      <td>loanamount</td>\n",
       "      <td>0.087155</td>\n",
       "    </tr>\n",
       "    <tr>\n",
       "      <th>0</th>\n",
       "      <td>bank_account_type_Other</td>\n",
       "      <td>0.053558</td>\n",
       "    </tr>\n",
       "    <tr>\n",
       "      <th>2</th>\n",
       "      <td>employment_status_clients_Employed</td>\n",
       "      <td>0.045973</td>\n",
       "    </tr>\n",
       "    <tr>\n",
       "      <th>7</th>\n",
       "      <td>termdays_30</td>\n",
       "      <td>0.041007</td>\n",
       "    </tr>\n",
       "    <tr>\n",
       "      <th>6</th>\n",
       "      <td>termdays_15</td>\n",
       "      <td>0.032680</td>\n",
       "    </tr>\n",
       "    <tr>\n",
       "      <th>1</th>\n",
       "      <td>bank_account_type_Savings</td>\n",
       "      <td>0.031981</td>\n",
       "    </tr>\n",
       "    <tr>\n",
       "      <th>3</th>\n",
       "      <td>employment_status_clients_Others</td>\n",
       "      <td>0.031593</td>\n",
       "    </tr>\n",
       "    <tr>\n",
       "      <th>4</th>\n",
       "      <td>employment_status_clients_Self-Employed</td>\n",
       "      <td>0.029831</td>\n",
       "    </tr>\n",
       "    <tr>\n",
       "      <th>8</th>\n",
       "      <td>termdays_60</td>\n",
       "      <td>0.017294</td>\n",
       "    </tr>\n",
       "    <tr>\n",
       "      <th>5</th>\n",
       "      <td>employment_status_clients_Student</td>\n",
       "      <td>0.015266</td>\n",
       "    </tr>\n",
       "  </tbody>\n",
       "</table>\n",
       "</div>"
      ],
      "text/plain": [
       "                                   Features  Importance\n",
       "11                                      age    0.418419\n",
       "9                                loannumber    0.195244\n",
       "10                               loanamount    0.087155\n",
       "0                   bank_account_type_Other    0.053558\n",
       "2        employment_status_clients_Employed    0.045973\n",
       "7                               termdays_30    0.041007\n",
       "6                               termdays_15    0.032680\n",
       "1                 bank_account_type_Savings    0.031981\n",
       "3          employment_status_clients_Others    0.031593\n",
       "4   employment_status_clients_Self-Employed    0.029831\n",
       "8                               termdays_60    0.017294\n",
       "5         employment_status_clients_Student    0.015266"
      ]
     },
     "execution_count": 125,
     "metadata": {},
     "output_type": "execute_result"
    }
   ],
   "source": [
    "# Checking feature importance.\n",
    "feature_importance = forest.feature_importances_\n",
    "feature_importance_table = pd.DataFrame(X_res.columns, columns=['Features'])\n",
    "feature_importance_table['Importance'] = feature_importance\n",
    "\n",
    "feature_importance_table.sort_values(by='Importance', ascending=False)"
   ]
  },
  {
   "cell_type": "code",
   "execution_count": 126,
   "id": "73d90253",
   "metadata": {},
   "outputs": [
    {
     "data": {
      "text/plain": [
       "<AxesSubplot:title={'center':'Feature Importance'}>"
      ]
     },
     "execution_count": 126,
     "metadata": {},
     "output_type": "execute_result"
    },
    {
     "data": {
      "image/png": "[encoded data removed]",
      "text/plain": [
       "<Figure size 864x648 with 1 Axes>"
      ]
     },
     "metadata": {
      "needs_background": "light"
     },
     "output_type": "display_data"
    }
   ],
   "source": [
    "# Plotting the feature importance.\n",
    "\n",
    "plt.figure(figsize=(12,9))\n",
    "feat_imp = pd.Series(feature_importance, index=X_res.columns)\n",
    "feat_imp.sort_values(ascending=True).plot(kind='barh', title='Feature Importance', \n",
    "              color=['blue', 'green', 'yellow', 'red', 'cyan', 'magenta', 'black', \n",
    "                     'yellow', 'red', 'cyan', 'magenta', 'green'])"
   ]
  },
  {
   "cell_type": "code",
   "execution_count": null,
   "id": "0af2aa72",
   "metadata": {},
   "outputs": [],
   "source": []
  },
  {
   "cell_type": "markdown",
   "id": "8e5bd12f",
   "metadata": {},
   "source": [
    "## Bivariate analysis between pairs of numeric features to check for correlation and possible relationships."
   ]
  },
  {
   "cell_type": "code",
   "execution_count": 127,
   "id": "66de95d4",
   "metadata": {},
   "outputs": [
    {
     "data": {
      "text/plain": [
       "<matplotlib.collections.PathCollection at 0x13e86dae2b0>"
      ]
     },
     "execution_count": 127,
     "metadata": {},
     "output_type": "execute_result"
    },
    {
     "data": {
      "image/png": "[encoded data removed]",
      "text/plain": [
       "<Figure size 432x288 with 1 Axes>"
      ]
     },
     "metadata": {
      "needs_background": "light"
     },
     "output_type": "display_data"
    }
   ],
   "source": [
    "plt.scatter(x=features['age'], y=features['loannumber'])"
   ]
  },
  {
   "cell_type": "code",
   "execution_count": 128,
   "id": "fbd99145",
   "metadata": {},
   "outputs": [
    {
     "data": {
      "text/plain": [
       "<matplotlib.collections.PathCollection at 0x13e8698f130>"
      ]
     },
     "execution_count": 128,
     "metadata": {},
     "output_type": "execute_result"
    },
    {
     "data": {
      "image/png": "[encoded data removed]",
      "text/plain": [
       "<Figure size 432x288 with 1 Axes>"
      ]
     },
     "metadata": {
      "needs_background": "light"
     },
     "output_type": "display_data"
    }
   ],
   "source": [
    "plt.scatter(x=features['age'], y=features['loanamount'])"
   ]
  },
  {
   "cell_type": "code",
   "execution_count": 129,
   "id": "c293296c",
   "metadata": {},
   "outputs": [
    {
     "data": {
      "text/plain": [
       "<matplotlib.collections.PathCollection at 0x13e86a092b0>"
      ]
     },
     "execution_count": 129,
     "metadata": {},
     "output_type": "execute_result"
    },
    {
     "data": {
      "image/png": "[encoded data removed]",
      "text/plain": [
       "<Figure size 432x288 with 1 Axes>"
      ]
     },
     "metadata": {
      "needs_background": "light"
     },
     "output_type": "display_data"
    }
   ],
   "source": [
    "plt.scatter(x=features['loanamount'], y=features['loannumber'])"
   ]
  },
  {
   "cell_type": "code",
   "execution_count": 130,
   "id": "f0840c2b",
   "metadata": {},
   "outputs": [],
   "source": [
    "# No defined relationship between each pair.\n",
    "# We can engineer new features by combining them and seeing how they affect the model."
   ]
  },
  {
   "cell_type": "code",
   "execution_count": 131,
   "id": "cedf337a",
   "metadata": {},
   "outputs": [],
   "source": [
    "# Creating new features from existing ones.\n",
    "\n",
    "X['age_per_loannumber'] = X['age'] / X['loannumber']\n",
    "X['amount_per_loannumber'] = X['loanamount'] / X['loannumber']\n",
    "\n",
    "X['age_per_loanamount'] = X['age'] / X['loanamount']\n",
    "X['employed_other'] = X['bank_account_type_Other'] * X['employment_status_clients_Employed']\n",
    "\n",
    "X['age_employed'] = X['age'] * X['employment_status_clients_Employed']\n",
    "X['age_other'] = X['age'] * X['bank_account_type_Other']"
   ]
  },
  {
   "cell_type": "code",
   "execution_count": null,
   "id": "366a5df6",
   "metadata": {},
   "outputs": [],
   "source": []
  },
  {
   "cell_type": "markdown",
   "id": "eb75e8b9",
   "metadata": {},
   "source": [
    "## Preparing for another round of modeling."
   ]
  },
  {
   "cell_type": "code",
   "execution_count": 132,
   "id": "adb308e1",
   "metadata": {},
   "outputs": [
    {
     "data": {
      "text/plain": [
       "((3269, 18), (3269,))"
      ]
     },
     "execution_count": 132,
     "metadata": {},
     "output_type": "execute_result"
    }
   ],
   "source": [
    "X.shape, Y.shape"
   ]
  },
  {
   "cell_type": "code",
   "execution_count": 133,
   "id": "11cb5608",
   "metadata": {},
   "outputs": [
    {
     "data": {
      "text/plain": [
       "<AxesSubplot:>"
      ]
     },
     "execution_count": 133,
     "metadata": {},
     "output_type": "execute_result"
    },
    {
     "data": {
      "image/png": "[encoded data removed]",
      "text/plain": [
       "<Figure size 864x648 with 2 Axes>"
      ]
     },
     "metadata": {
      "needs_background": "light"
     },
     "output_type": "display_data"
    }
   ],
   "source": [
    "# Checking for correlation among features -multicolinearity.\n",
    "\n",
    "corr_matrix = X.corr()\n",
    "\n",
    "plt.figure(figsize=(12,9))\n",
    "sns.heatmap(corr_matrix)"
   ]
  },
  {
   "cell_type": "markdown",
   "id": "355b9243",
   "metadata": {},
   "source": [
    "A few features are highly correlated, but we can ignore them and see how our model performs."
   ]
  },
  {
   "cell_type": "code",
   "execution_count": 134,
   "id": "c3fe1d6e",
   "metadata": {},
   "outputs": [],
   "source": [
    "# Oversampling\n",
    "\n",
    "sm = SMOTE(random_state=2)\n",
    "X_res, Y_res = sm.fit_resample(X, Y) "
   ]
  },
  {
   "cell_type": "code",
   "execution_count": 135,
   "id": "cb1df17b",
   "metadata": {},
   "outputs": [
    {
     "data": {
      "text/plain": [
       "((5112, 18), (5112,))"
      ]
     },
     "execution_count": 135,
     "metadata": {},
     "output_type": "execute_result"
    }
   ],
   "source": [
    "X_res.shape, Y_res.shape"
   ]
  },
  {
   "cell_type": "code",
   "execution_count": 136,
   "id": "288afe8c",
   "metadata": {},
   "outputs": [
    {
     "name": "stdout",
     "output_type": "stream",
     "text": [
      "Class:1, n:2556, (0.5%)\n",
      "Class:0, n:2556, (0.5%)\n"
     ]
    }
   ],
   "source": [
    "# Number of good(1) and bad(0) after resampling.\n",
    "\n",
    "counter = Counter(Y_res)\n",
    "for k, v in counter.items():\n",
    "    dist = v / len(Y_res)\n",
    "    print(f\"Class:{k}, n:{v}, ({round(dist, 2)}%)\")"
   ]
  },
  {
   "cell_type": "code",
   "execution_count": null,
   "id": "3db9ee51",
   "metadata": {},
   "outputs": [],
   "source": []
  },
  {
   "cell_type": "code",
   "execution_count": 137,
   "id": "4d649dad",
   "metadata": {},
   "outputs": [],
   "source": [
    "# Creating a function to split the data into folds, train the model, predict, and evaluate.\n",
    "\n",
    "def pred(model):\n",
    "    # Create an instance of the StratifiedKFold\n",
    "    fold = StratifiedKFold(n_splits=5, shuffle=True, random_state=2)\n",
    "    \n",
    "    avg1 = 0\n",
    "    avg2 = 0\n",
    "    # Splitting the training data into folds so that all aspects of the data is used for training and testing the model.\n",
    "    for train_index, test_index in fold.split(X_res, Y_res):\n",
    "        X_train, X_test = X_res.iloc[train_index], X_res.iloc[test_index]\n",
    "        y_train, y_test = Y_res.iloc[train_index], Y_res.iloc[test_index]\n",
    "        \n",
    "        model.fit(X_train, y_train)\n",
    "        prediction = model.predict(X_test)\n",
    "        f1 = f1_score(prediction, y_test)\n",
    "        auc = roc_auc_score(prediction, y_test)\n",
    "        gini = (2 * auc) - 1\n",
    "        con_matrix = confusion_matrix(prediction, y_test)\n",
    "        \n",
    "        # Calculating averages.\n",
    "        avg1 += auc\n",
    "        avg2 += f1\n",
    "        \n",
    "        avg_auc = avg1/5 # number of folds according to the n_splits is 5.\n",
    "        avg_f1 = avg2/5\n",
    "        \n",
    "        print('F1: ',round(f1, 2))\n",
    "        print('AUC: ',round(auc, 2))\n",
    "        print('')\n",
    "        \n",
    "    print('Avg f1: ',round(avg_f1, 2))\n",
    "    print('Avg AUC: ',round(avg_auc, 2))\n",
    "    print('Gini Coefficient: ',round(gini, 3))\n",
    "    print('')\n",
    "    print('risk_matrix: \\n',con_matrix)\n",
    "    "
   ]
  },
  {
   "cell_type": "code",
   "execution_count": 138,
   "id": "d87cda82",
   "metadata": {},
   "outputs": [
    {
     "name": "stdout",
     "output_type": "stream",
     "text": [
      "F1:  0.76\n",
      "AUC:  0.75\n",
      "\n",
      "F1:  0.71\n",
      "AUC:  0.73\n",
      "\n",
      "F1:  0.73\n",
      "AUC:  0.75\n",
      "\n",
      "F1:  0.7\n",
      "AUC:  0.72\n",
      "\n",
      "F1:  0.72\n",
      "AUC:  0.73\n",
      "\n",
      "Avg f1:  0.73\n",
      "Avg AUC:  0.73\n",
      "Gini Coefficient:  0.463\n",
      "\n",
      "risk_matrix: \n",
      " [[386 150]\n",
      " [125 361]]\n"
     ]
    }
   ],
   "source": [
    "pred(forest)"
   ]
  },
  {
   "cell_type": "markdown",
   "id": "3079162b",
   "metadata": {},
   "source": [
    "There is a slight improvement in the model. Avg F1 score increased by 0.03 while Avg AUC increased by 0.01. The Gini Coefficient and risk matrix also improved. This implies that the new features created were helpful."
   ]
  },
  {
   "cell_type": "code",
   "execution_count": 139,
   "id": "c9fdab6d",
   "metadata": {},
   "outputs": [
    {
     "data": {
      "text/plain": [
       "<AxesSubplot:title={'center':'Feature Importance'}>"
      ]
     },
     "execution_count": 139,
     "metadata": {},
     "output_type": "execute_result"
    },
    {
     "data": {
      "image/png": "[encoded data removed]",
      "text/plain": [
       "<Figure size 864x648 with 1 Axes>"
      ]
     },
     "metadata": {
      "needs_background": "light"
     },
     "output_type": "display_data"
    }
   ],
   "source": [
    "# Plotting Feature Importance.\n",
    "\n",
    "plt.figure(figsize=(12,9))\n",
    "feat_imp = pd.Series(forest.feature_importances_, index=X_res.columns)\n",
    "feat_imp.sort_values().plot(kind='barh', title='Feature Importance')"
   ]
  },
  {
   "cell_type": "code",
   "execution_count": null,
   "id": "3b817854",
   "metadata": {},
   "outputs": [],
   "source": []
  },
  {
   "cell_type": "markdown",
   "id": "2dccd487",
   "metadata": {},
   "source": [
    "## Feature Selection"
   ]
  },
  {
   "cell_type": "code",
   "execution_count": 140,
   "id": "4ab4576f",
   "metadata": {},
   "outputs": [],
   "source": [
    "# Importing feature selection libraries.\n",
    "from sklearn.feature_selection import SelectKBest, RFECV"
   ]
  },
  {
   "cell_type": "code",
   "execution_count": null,
   "id": "e10f1c5d",
   "metadata": {},
   "outputs": [],
   "source": []
  },
  {
   "cell_type": "code",
   "execution_count": 141,
   "id": "36628785",
   "metadata": {},
   "outputs": [],
   "source": [
    "# Creating a function to split the data into folds, select features, train the model, predict, and evaluate.\n",
    "\n",
    "def pred(model):\n",
    "    # Create an instance of the StratifiedKFold\n",
    "    fold = StratifiedKFold(n_splits=5, shuffle=True, random_state=2)\n",
    "    \n",
    "    avg1 = 0\n",
    "    avg2 = 0\n",
    "    # Splitting the training data into folds so that all aspects of the data is used for training and testing the model.\n",
    "    for train_index, test_index in fold.split(X_res, Y_res):\n",
    "        X_train, X_test = X_res.iloc[train_index], X_res.iloc[test_index]\n",
    "        y_train, y_test = Y_res.iloc[train_index], Y_res.iloc[test_index]\n",
    "        \n",
    "        # RFECV\n",
    "        rf = RFECV(model, cv=5, step=1, scoring='roc_auc')\n",
    "        rec = rf.fit(X_train, y_train)\n",
    "        \n",
    "        # Get selected features.\n",
    "        rec_indices = rec.get_support(indices=True)\n",
    "        selected_features = [X_res.columns[i] for i in rec_indices]\n",
    "        \n",
    "        # Transforming training and testing features into selected features.\n",
    "        X_train_rec = rec.transform(X_train)\n",
    "        X_test_rec = rec.transform(X_test)\n",
    "        \n",
    "        # Fitting the model.\n",
    "        model.fit(X_train_rec, y_train)\n",
    "        \n",
    "        # Making prediction\n",
    "        prediction = model.predict(X_test_rec)\n",
    "        pred_proba = model.predict_proba(X_test_rec)[:,0] # 0 cos we want to know the probability of default -likelihood of being a bad loan.\n",
    "        \n",
    "        # Evaluating the model's performance.\n",
    "        f1 = f1_score(prediction, y_test)\n",
    "        auc = roc_auc_score(prediction, y_test)\n",
    "        gini = (2 * auc) - 1\n",
    "        con_matrix = confusion_matrix(prediction, y_test)\n",
    "        \n",
    "        # Calculating averages.\n",
    "        avg1 += auc\n",
    "        avg2 += f1\n",
    "        \n",
    "        avg_auc = avg1/5 # number of folds according to the n_splits is 5.\n",
    "        avg_f1 = avg2/5\n",
    "        \n",
    "        print('F1: ',round(f1, 2))\n",
    "        print('AUC: ',round(auc, 2))\n",
    "        print('')\n",
    "        \n",
    "    print('Avg f1: ',round(avg_f1, 2))\n",
    "    print('Avg AUC: ',round(avg_auc, 2))\n",
    "    print('Gini Coefficient: ',round(gini, 3))\n",
    "    print('')\n",
    "    print('risk_matrix: \\n',con_matrix)\n",
    "    print('')\n",
    "    print('')\n",
    "    print(f'Number of features: {rec.n_features_}')\n",
    "    print(f'Selected features: \\n{selected_features}')\n",
    "    "
   ]
  },
  {
   "cell_type": "code",
   "execution_count": null,
   "id": "55226a7b",
   "metadata": {},
   "outputs": [],
   "source": []
  },
  {
   "cell_type": "code",
   "execution_count": 142,
   "id": "518f5ffd",
   "metadata": {},
   "outputs": [
    {
     "name": "stdout",
     "output_type": "stream",
     "text": [
      "F1:  0.75\n",
      "AUC:  0.74\n",
      "\n",
      "F1:  0.72\n",
      "AUC:  0.73\n",
      "\n",
      "F1:  0.73\n",
      "AUC:  0.74\n",
      "\n",
      "F1:  0.72\n",
      "AUC:  0.74\n",
      "\n",
      "F1:  0.72\n",
      "AUC:  0.73\n",
      "\n",
      "Avg f1:  0.73\n",
      "Avg AUC:  0.73\n",
      "Gini Coefficient:  0.451\n",
      "\n",
      "risk_matrix: \n",
      " [[380 150]\n",
      " [131 361]]\n",
      "\n",
      "\n",
      "Number of features: 16\n",
      "Selected features: \n",
      "['bank_account_type_Other', 'bank_account_type_Savings', 'employment_status_clients_Employed', 'employment_status_clients_Others', 'employment_status_clients_Self-Employed', 'termdays_15', 'termdays_30', 'loannumber', 'loanamount', 'age', 'age_per_loannumber', 'amount_per_loannumber', 'age_per_loanamount', 'employed_other', 'age_employed', 'age_other']\n"
     ]
    }
   ],
   "source": [
    "# Training and predicting with the selected features.\n",
    "\n",
    "pred(forest)"
   ]
  },
  {
   "cell_type": "code",
   "execution_count": null,
   "id": "801c89fd",
   "metadata": {},
   "outputs": [],
   "source": [
    "# We can decide to collect these 16 features or the original 18 features when deploying the model."
   ]
  },
  {
   "cell_type": "code",
   "execution_count": 143,
   "id": "53452645",
   "metadata": {},
   "outputs": [],
   "source": [
    "# Let's save the model.\n",
    "import pickle"
   ]
  },
  {
   "cell_type": "code",
   "execution_count": 144,
   "id": "022aa231",
   "metadata": {},
   "outputs": [],
   "source": [
    "pickle.dump(forest, open('PD_Model.pkl', 'wb'))"
   ]
  },
  {
   "cell_type": "code",
   "execution_count": null,
   "id": "44a7ded3",
   "metadata": {},
   "outputs": [],
   "source": []
  },
  {
   "cell_type": "code",
   "execution_count": null,
   "id": "0e27dd4a",
   "metadata": {},
   "outputs": [],
   "source": []
  },
  {
   "cell_type": "code",
   "execution_count": null,
   "id": "7bcd672f",
   "metadata": {},
   "outputs": [],
   "source": []
  },
  {
   "cell_type": "code",
   "execution_count": null,
   "id": "ce957bc7",
   "metadata": {},
   "outputs": [],
   "source": []
  },
  {
   "cell_type": "code",
   "execution_count": null,
   "id": "17dbcd71",
   "metadata": {},
   "outputs": [],
   "source": []
  },
  {
   "cell_type": "code",
   "execution_count": null,
   "id": "b08cb201",
   "metadata": {},
   "outputs": [],
   "source": []
  },
  {
   "cell_type": "code",
   "execution_count": null,
   "id": "40dedbf7",
   "metadata": {},
   "outputs": [],
   "source": []
  },
  {
   "cell_type": "code",
   "execution_count": 100,
   "id": "c54f8045",
   "metadata": {},
   "outputs": [
    {
     "name": "stdout",
     "output_type": "stream",
     "text": [
      "Collecting imblearn\n",
      "  Using cached imblearn-0.0-py2.py3-none-any.whl (1.9 kB)\n",
      "Collecting imbalanced-learn\n",
      "  Downloading imbalanced_learn-0.8.0-py3-none-any.whl (206 kB)\n",
      "Requirement already satisfied: joblib>=0.11 in c:\\users\\jahfaith irokanulo\\anaconda3\\lib\\site-packages (from imbalanced-learn->imblearn) (1.0.1)\n",
      "Requirement already satisfied: scikit-learn>=0.24 in c:\\users\\jahfaith irokanulo\\anaconda3\\lib\\site-packages (from imbalanced-learn->imblearn) (0.24.1)\n",
      "Requirement already satisfied: numpy>=1.13.3 in c:\\users\\jahfaith irokanulo\\anaconda3\\lib\\site-packages (from imbalanced-learn->imblearn) (1.20.1)\n",
      "Requirement already satisfied: scipy>=0.19.1 in c:\\users\\jahfaith irokanulo\\anaconda3\\lib\\site-packages (from imbalanced-learn->imblearn) (1.6.2)\n",
      "Requirement already satisfied: threadpoolctl>=2.0.0 in c:\\users\\jahfaith irokanulo\\anaconda3\\lib\\site-packages (from scikit-learn>=0.24->imbalanced-learn->imblearn) (2.1.0)\n",
      "Installing collected packages: imbalanced-learn, imblearn\n",
      "Successfully installed imbalanced-learn-0.8.0 imblearn-0.0\n"
     ]
    }
   ],
   "source": [
    "!pip install imblearn"
   ]
  },
  {
   "cell_type": "code",
   "execution_count": 128,
   "id": "a1250bec",
   "metadata": {},
   "outputs": [
    {
     "name": "stdout",
     "output_type": "stream",
     "text": [
      "Collecting catboost\n",
      "  Downloading catboost-0.26.1-cp38-none-win_amd64.whl (68.0 MB)\n",
      "Requirement already satisfied: matplotlib in c:\\users\\jahfaith irokanulo\\anaconda3\\lib\\site-packages (from catboost) (3.3.4)\n",
      "Requirement already satisfied: pandas>=0.24.0 in c:\\users\\jahfaith irokanulo\\anaconda3\\lib\\site-packages (from catboost) (1.2.4)\n",
      "Collecting plotly\n",
      "  Downloading plotly-5.2.1-py2.py3-none-any.whl (21.8 MB)\n",
      "Requirement already satisfied: numpy>=1.16.0 in c:\\users\\jahfaith irokanulo\\anaconda3\\lib\\site-packages (from catboost) (1.20.1)\n",
      "Collecting graphviz\n",
      "  Downloading graphviz-0.17-py3-none-any.whl (18 kB)\n",
      "Requirement already satisfied: six in c:\\users\\jahfaith irokanulo\\anaconda3\\lib\\site-packages (from catboost) (1.15.0)\n",
      "Requirement already satisfied: scipy in c:\\users\\jahfaith irokanulo\\anaconda3\\lib\\site-packages (from catboost) (1.6.2)\n",
      "Requirement already satisfied: python-dateutil>=2.7.3 in c:\\users\\jahfaith irokanulo\\anaconda3\\lib\\site-packages (from pandas>=0.24.0->catboost) (2.8.1)\n",
      "Requirement already satisfied: pytz>=2017.3 in c:\\users\\jahfaith irokanulo\\anaconda3\\lib\\site-packages (from pandas>=0.24.0->catboost) (2021.1)\n",
      "Requirement already satisfied: cycler>=0.10 in c:\\users\\jahfaith irokanulo\\anaconda3\\lib\\site-packages (from matplotlib->catboost) (0.10.0)\n",
      "Requirement already satisfied: kiwisolver>=1.0.1 in c:\\users\\jahfaith irokanulo\\anaconda3\\lib\\site-packages (from matplotlib->catboost) (1.3.1)\n",
      "Requirement already satisfied: pyparsing!=2.0.4,!=2.1.2,!=2.1.6,>=2.0.3 in c:\\users\\jahfaith irokanulo\\anaconda3\\lib\\site-packages (from matplotlib->catboost) (2.4.7)\n",
      "Requirement already satisfied: pillow>=6.2.0 in c:\\users\\jahfaith irokanulo\\anaconda3\\lib\\site-packages (from matplotlib->catboost) (8.2.0)\n",
      "Collecting tenacity>=6.2.0\n",
      "  Downloading tenacity-8.0.1-py3-none-any.whl (24 kB)\n",
      "Installing collected packages: tenacity, plotly, graphviz, catboost\n",
      "Successfully installed catboost-0.26.1 graphviz-0.17 plotly-5.2.1 tenacity-8.0.1\n"
     ]
    }
   ],
   "source": [
    "!pip install catboost"
   ]
  },
  {
   "cell_type": "code",
   "execution_count": null,
   "id": "7e7781e8",
   "metadata": {},
   "outputs": [],
   "source": []
  },
  {
   "cell_type": "markdown",
   "id": "ee903ab7",
   "metadata": {},
   "source": [
    "The data for this model was gotten from a DSN Loan challenge on Zindi"
   ]
  },
  {
   "cell_type": "code",
   "execution_count": null,
   "id": "4015a546",
   "metadata": {},
   "outputs": [],
   "source": []
  }
 ],
 "metadata": {
  "kernelspec": {
   "display_name": "Python 3",
   "language": "python",
   "name": "python3"
  },
  "language_info": {
   "codemirror_mode": {
    "name": "ipython",
    "version": 3
   },
   "file_extension": ".py",
   "mimetype": "text/x-python",
   "name": "python",
   "nbconvert_exporter": "python",
   "pygments_lexer": "ipython3",
   "version": "3.8.8"
  }
 },
 "nbformat": 4,
 "nbformat_minor": 5
}
